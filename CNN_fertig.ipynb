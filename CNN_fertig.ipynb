{
 "cells": [
  {
   "cell_type": "markdown",
   "metadata": {},
   "source": [
    "# Ein CNN Modell mithilfe von Tensorflow bzw. Keras\n",
    "\n",
    "von Eric Hirsch und Jonas Morsch "
   ]
  },
  {
   "cell_type": "markdown",
   "metadata": {},
   "source": [
    "### Einbinden aller benötigten Bibliotheken "
   ]
  },
  {
   "cell_type": "code",
   "execution_count": 1,
   "metadata": {},
   "outputs": [],
   "source": [
    "import numpy as np\n",
    "%matplotlib inline\n",
    "import matplotlib.image as mpimg\n",
    "import matplotlib.pyplot as plt\n",
    "import tensorflow as tf\n",
    "tf.compat.v1.set_random_seed(2019)\n",
    "from tensorflow.keras.preprocessing import image_dataset_from_directory"
   ]
  },
  {
   "cell_type": "markdown",
   "metadata": {},
   "source": [
    "### Die einzelnen Schichten des Modell aufsetzten "
   ]
  },
  {
   "cell_type": "code",
   "execution_count": 2,
   "metadata": {},
   "outputs": [],
   "source": [
    "model = tf.keras.models.Sequential([\n",
    "    tf.keras.layers.Rescaling(scale=1/127.5,offset=-1),\n",
    "    tf.keras.layers.Conv2D(16,(3,3),activation = \"relu\" , input_shape = (150,150,3)) ,\n",
    "    tf.keras.layers.MaxPooling2D(2,2),\n",
    "    tf.keras.layers.Conv2D(32,(3,3),activation = \"relu\") ,  \n",
    "    tf.keras.layers.MaxPooling2D(2,2),\n",
    "    tf.keras.layers.Conv2D(64,(3,3),activation = \"relu\") ,  \n",
    "    tf.keras.layers.MaxPooling2D(2,2),\n",
    "    tf.keras.layers.Conv2D(128,(3,3),activation = \"relu\"),  \n",
    "    tf.keras.layers.MaxPooling2D(2,2),\n",
    "    tf.keras.layers.Flatten(), \n",
    "    tf.keras.layers.Dense(550,activation=\"relu\"),      #Adding the Hidden layer\n",
    "    tf.keras.layers.Dropout(0.1,seed = 2019),\n",
    "    tf.keras.layers.Dense(400,activation =\"relu\"),\n",
    "    tf.keras.layers.Dropout(0.3,seed = 2019),\n",
    "    tf.keras.layers.Dense(300,activation=\"relu\"),\n",
    "    tf.keras.layers.Dropout(0.4,seed = 2019),\n",
    "    tf.keras.layers.Dense(200,activation =\"relu\"),\n",
    "    tf.keras.layers.Dropout(0.2,seed = 2019),\n",
    "    tf.keras.layers.Dense(3,activation = \"softmax\")  #Adding the Output Layer\n",
    "])"
   ]
  },
  {
   "cell_type": "markdown",
   "metadata": {},
   "source": [
    "### Erstellen einer eigenen Metrics"
   ]
  },
  {
   "cell_type": "code",
   "execution_count": 3,
   "metadata": {},
   "outputs": [],
   "source": [
    "from keras import backend as K\n",
    "\n",
    "def recall_m(y_true, y_pred):\n",
    "    true_positives = K.sum(K.round(K.clip(y_true * y_pred, 0, 1)))\n",
    "    possible_positives = K.sum(K.round(K.clip(y_true, 0, 1)))\n",
    "    recall = true_positives / (possible_positives + K.epsilon())\n",
    "    return recall\n",
    "\n",
    "def precision_m(y_true, y_pred):\n",
    "    true_positives = K.sum(K.round(K.clip(y_true * y_pred, 0, 1)))\n",
    "    predicted_positives = K.sum(K.round(K.clip(y_pred, 0, 1)))\n",
    "    precision = true_positives / (predicted_positives + K.epsilon())\n",
    "    return precision\n",
    "\n",
    "def f1_m(y_true, y_pred):\n",
    "    precision = precision_m(y_true, y_pred)\n",
    "    recall = recall_m(y_true, y_pred)\n",
    "    return 2*((precision*recall)/(precision+recall+K.epsilon()))"
   ]
  },
  {
   "cell_type": "markdown",
   "metadata": {},
   "source": [
    "### Das Modell Compilen "
   ]
  },
  {
   "cell_type": "code",
   "execution_count": 4,
   "metadata": {},
   "outputs": [],
   "source": [
    "from tensorflow.keras.optimizers import RMSprop,SGD,Adam\n",
    "adam=Adam(learning_rate=0.001)\n",
    "model.compile(optimizer='adam', loss='categorical_crossentropy', metrics=['accuracy',f1_m,precision_m, recall_m])\n"
   ]
  },
  {
   "cell_type": "markdown",
   "metadata": {},
   "source": [
    "### Bilder aus einem Verzeichnis Laden "
   ]
  },
  {
   "cell_type": "code",
   "execution_count": 5,
   "metadata": {},
   "outputs": [
    {
     "name": "stdout",
     "output_type": "stream",
     "text": [
      "Found 4830 files belonging to 3 classes.\n",
      "Using 3864 files for training.\n",
      "Found 4830 files belonging to 3 classes.\n",
      "Using 966 files for validation.\n"
     ]
    }
   ],
   "source": [
    "\n",
    "training_set = image_dataset_from_directory(\"BIG_Bilder\",\n",
    "                                             shuffle=True,\n",
    "                                             validation_split=0.2,\n",
    "                                             subset=\"training\",\n",
    "                                             batch_size=32,\n",
    "                                             image_size=(150, 150),\n",
    "                                             seed=1337,\n",
    "                                             label_mode = 'categorical')\n",
    "\n",
    "val_dataset = image_dataset_from_directory(\"Big_Bilder\",\n",
    "                                                  shuffle=True,\n",
    "                                                  validation_split=0.2,\n",
    "                                                  subset='validation',\n",
    "                                                  batch_size=32,\n",
    "                                                  image_size=(150, 150),\n",
    "                                                  seed=1337,\n",
    "                                                  label_mode = 'categorical')"
   ]
  },
  {
   "cell_type": "markdown",
   "metadata": {},
   "source": [
    "### Modell trainieren "
   ]
  },
  {
   "cell_type": "code",
   "execution_count": 6,
   "metadata": {},
   "outputs": [
    {
     "name": "stdout",
     "output_type": "stream",
     "text": [
      "Epoch 1/15\n",
      "121/121 [==============================] - 31s 243ms/step - loss: 1.0761 - accuracy: 0.4019 - f1_m: 0.0820 - precision_m: 0.2867 - recall_m: 0.0515 - val_loss: 1.0415 - val_accuracy: 0.4327 - val_f1_m: 0.2292 - val_precision_m: 0.5706 - val_recall_m: 0.1465\n",
      "Epoch 2/15\n",
      "121/121 [==============================] - 24s 195ms/step - loss: 1.0434 - accuracy: 0.4418 - f1_m: 0.1514 - precision_m: 0.4510 - recall_m: 0.1011 - val_loss: 1.0437 - val_accuracy: 0.4513 - val_f1_m: 0.3595 - val_precision_m: 0.5376 - val_recall_m: 0.2718\n",
      "Epoch 3/15\n",
      "121/121 [==============================] - 23s 191ms/step - loss: 0.9558 - accuracy: 0.5321 - f1_m: 0.3734 - precision_m: 0.6309 - recall_m: 0.2808 - val_loss: 0.8968 - val_accuracy: 0.5642 - val_f1_m: 0.4777 - val_precision_m: 0.7512 - val_recall_m: 0.3552\n",
      "Epoch 4/15\n",
      "121/121 [==============================] - 25s 209ms/step - loss: 0.7611 - accuracy: 0.6755 - f1_m: 0.6409 - precision_m: 0.7313 - recall_m: 0.5767 - val_loss: 0.6595 - val_accuracy: 0.7277 - val_f1_m: 0.7287 - val_precision_m: 0.7761 - val_recall_m: 0.6885\n",
      "Epoch 5/15\n",
      "121/121 [==============================] - 26s 216ms/step - loss: 0.5623 - accuracy: 0.7813 - f1_m: 0.7671 - precision_m: 0.8090 - recall_m: 0.7322 - val_loss: 0.5521 - val_accuracy: 0.7795 - val_f1_m: 0.7802 - val_precision_m: 0.8179 - val_recall_m: 0.7470\n",
      "Epoch 6/15\n",
      "121/121 [==============================] - 24s 199ms/step - loss: 0.3987 - accuracy: 0.8512 - f1_m: 0.8452 - precision_m: 0.8736 - recall_m: 0.8196 - val_loss: 0.5521 - val_accuracy: 0.7950 - val_f1_m: 0.7909 - val_precision_m: 0.8131 - val_recall_m: 0.7708\n",
      "Epoch 7/15\n",
      "121/121 [==============================] - 24s 200ms/step - loss: 0.2467 - accuracy: 0.9068 - f1_m: 0.9055 - precision_m: 0.9180 - recall_m: 0.8939 - val_loss: 0.5407 - val_accuracy: 0.8137 - val_f1_m: 0.8179 - val_precision_m: 0.8258 - val_recall_m: 0.8105\n",
      "Epoch 8/15\n",
      "121/121 [==============================] - 25s 203ms/step - loss: 0.1708 - accuracy: 0.9366 - f1_m: 0.9383 - precision_m: 0.9443 - recall_m: 0.9326 - val_loss: 0.4506 - val_accuracy: 0.8468 - val_f1_m: 0.8441 - val_precision_m: 0.8494 - val_recall_m: 0.8390\n",
      "Epoch 9/15\n",
      "121/121 [==============================] - 24s 200ms/step - loss: 0.1322 - accuracy: 0.9542 - f1_m: 0.9541 - precision_m: 0.9588 - recall_m: 0.9496 - val_loss: 0.6395 - val_accuracy: 0.8209 - val_f1_m: 0.8226 - val_precision_m: 0.8297 - val_recall_m: 0.8162\n",
      "Epoch 10/15\n",
      "121/121 [==============================] - 24s 200ms/step - loss: 0.0877 - accuracy: 0.9697 - f1_m: 0.9693 - precision_m: 0.9720 - recall_m: 0.9667 - val_loss: 0.7112 - val_accuracy: 0.8530 - val_f1_m: 0.8573 - val_precision_m: 0.8578 - val_recall_m: 0.8569\n",
      "Epoch 11/15\n",
      "121/121 [==============================] - 24s 202ms/step - loss: 0.0878 - accuracy: 0.9731 - f1_m: 0.9723 - precision_m: 0.9738 - recall_m: 0.9708 - val_loss: 0.4847 - val_accuracy: 0.8696 - val_f1_m: 0.8741 - val_precision_m: 0.8772 - val_recall_m: 0.8710\n",
      "Epoch 12/15\n",
      "121/121 [==============================] - 25s 206ms/step - loss: 0.0638 - accuracy: 0.9796 - f1_m: 0.9799 - precision_m: 0.9810 - recall_m: 0.9787 - val_loss: 0.6320 - val_accuracy: 0.8551 - val_f1_m: 0.8534 - val_precision_m: 0.8542 - val_recall_m: 0.8525\n",
      "Epoch 13/15\n",
      "121/121 [==============================] - 27s 222ms/step - loss: 0.0424 - accuracy: 0.9868 - f1_m: 0.9866 - precision_m: 0.9868 - recall_m: 0.9863 - val_loss: 0.7087 - val_accuracy: 0.8592 - val_f1_m: 0.8651 - val_precision_m: 0.8674 - val_recall_m: 0.8629\n",
      "Epoch 14/15\n",
      "121/121 [==============================] - 26s 216ms/step - loss: 0.0556 - accuracy: 0.9821 - f1_m: 0.9819 - precision_m: 0.9831 - recall_m: 0.9808 - val_loss: 0.7050 - val_accuracy: 0.8509 - val_f1_m: 0.8531 - val_precision_m: 0.8544 - val_recall_m: 0.8518\n",
      "Epoch 15/15\n",
      "121/121 [==============================] - 26s 210ms/step - loss: 0.0299 - accuracy: 0.9896 - f1_m: 0.9896 - precision_m: 0.9898 - recall_m: 0.9895 - val_loss: 0.8370 - val_accuracy: 0.8582 - val_f1_m: 0.8523 - val_precision_m: 0.8535 - val_recall_m: 0.8511\n"
     ]
    }
   ],
   "source": [
    "history=model.fit(training_set,epochs=15,validation_data=val_dataset,batch_size=128)"
   ]
  },
  {
   "cell_type": "markdown",
   "metadata": {},
   "source": [
    "### Plotten der Genauigkeit und der Loss Funktion über die Epochen "
   ]
  },
  {
   "cell_type": "code",
   "execution_count": 7,
   "metadata": {},
   "outputs": [
    {
     "name": "stdout",
     "output_type": "stream",
     "text": [
      "dict_keys(['loss', 'accuracy', 'f1_m', 'precision_m', 'recall_m', 'val_loss', 'val_accuracy', 'val_f1_m', 'val_precision_m', 'val_recall_m'])\n"
     ]
    },
    {
     "data": {
      "image/png": "[encoded data removed]",
      "text/plain": [
       "<Figure size 432x288 with 1 Axes>"
      ]
     },
     "metadata": {
      "needs_background": "light"
     },
     "output_type": "display_data"
    },
    {
     "data": {
      "image/png": "[encoded data removed]",
      "text/plain": [
       "<Figure size 432x288 with 1 Axes>"
      ]
     },
     "metadata": {
      "needs_background": "light"
     },
     "output_type": "display_data"
    }
   ],
   "source": [
    "print(history.history.keys())\n",
    "#  \"Accuracy\"\n",
    "plt.plot(history.history['accuracy'])\n",
    "plt.plot(history.history['val_accuracy'])\n",
    "plt.title('model accuracy')\n",
    "plt.ylabel('accuracy')\n",
    "plt.xlabel('epoch')\n",
    "plt.legend(['train', 'validation'], loc='upper left')\n",
    "plt.show()\n",
    "# \"Loss\"\n",
    "plt.plot(history.history['loss'])\n",
    "plt.plot(history.history['val_loss'])\n",
    "plt.title('model loss')\n",
    "plt.ylabel('loss')\n",
    "plt.xlabel('epoch')\n",
    "plt.legend(['train', 'validation'], loc='upper left')\n",
    "plt.show()"
   ]
  },
  {
   "cell_type": "markdown",
   "metadata": {},
   "source": [
    "### Bestimmen einer Klasse mithilfe des trainierten Models "
   ]
  },
  {
   "cell_type": "code",
   "execution_count": 8,
   "metadata": {},
   "outputs": [
    {
     "data": {
      "text/plain": [
       "array([[3.4590836e-10, 1.4800138e-08, 1.0000000e+00]], dtype=float32)"
      ]
     },
     "execution_count": 8,
     "metadata": {},
     "output_type": "execute_result"
    }
   ],
   "source": [
    "import cv2\n",
    "import numpy as np\n",
    "def load(filename):\n",
    "   np_image = cv2.imread(filename)\n",
    "   np_image = cv2.resize(np_image, (150, 150))\n",
    "   np_image = np.expand_dims(np_image, axis=0)\n",
    "   return np_image\n",
    "\n",
    "image = load('kz2.jpeg')\n",
    "#0: Dosenoeffner   1:Flaschenoeffner   2:Korkenzieher\n",
    "model.predict(image)"
   ]
  },
  {
   "cell_type": "code",
   "execution_count": null,
   "metadata": {},
   "outputs": [],
   "source": []
  }
 ],
 "metadata": {
  "interpreter": {
   "hash": "c551dc114b32d4ddc6af681dae58062c65c2dc9524da8427dc77f23f376f7293"
  },
  "kernelspec": {
   "display_name": "Python 3.9.9 64-bit ('env': venv)",
   "language": "python",
   "name": "python3"
  },
  "language_info": {
   "codemirror_mode": {
    "name": "ipython",
    "version": 3
   },
   "file_extension": ".py",
   "mimetype": "text/x-python",
   "name": "python",
   "nbconvert_exporter": "python",
   "pygments_lexer": "ipython3",
   "version": "3.9.9"
  },
  "orig_nbformat": 4
 },
 "nbformat": 4,
 "nbformat_minor": 2
}
