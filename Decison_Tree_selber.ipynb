{
 "cells": [
  {
   "cell_type": "markdown",
   "metadata": {},
   "source": [
    "### Decison Tree Classifier selber programmiert \n",
    "\n",
    "\n",
    "von Erich Hirsch und Jonas Morsch\n"
   ]
  },
  {
   "cell_type": "code",
   "execution_count": 15,
   "metadata": {},
   "outputs": [],
   "source": [
    "import pandas as pd\n",
    "\n",
    "\n",
    "import numpy as np\n",
    "from pprint import pprint\n",
    "import Decision_Tree_class as Dt\n",
    "Decision_Tree_class = Dt.Decision_Tree_class()\n",
    "import Data_preparation as DP \n",
    "DP=DP.Data_preparation()\n",
    "from sklearn import metrics\n",
    "from sklearn.metrics import mean_squared_error\n",
    "\n",
    "import random \n",
    "random.seed()"
   ]
  },
  {
   "cell_type": "markdown",
   "metadata": {},
   "source": [
    "### Den Datensatz laden \n"
   ]
  },
  {
   "cell_type": "code",
   "execution_count": 16,
   "metadata": {},
   "outputs": [
    {
     "name": "stdout",
     "output_type": "stream",
     "text": [
      "Index(['Rel_BreitGross', 'RelSpitze_oben', 'RelSpitze_unten', 'Anzahl_Linie',\n",
      "       'Anzahl_Ecken', 'Anzahl_Kreis', 'innere_Konturen', 'Label'],\n",
      "      dtype='object')\n"
     ]
    }
   ],
   "source": [
    "df=DP.load_csv_to_df(\"ricsData_big_v5.csv\")\n",
    "print(df.columns)# Anzeigen aller features und Labels "
   ]
  },
  {
   "cell_type": "code",
   "execution_count": 17,
   "metadata": {},
   "outputs": [
    {
     "data": {
      "text/html": [
       "<div>\n",
       "<style scoped>\n",
       "    .dataframe tbody tr th:only-of-type {\n",
       "        vertical-align: middle;\n",
       "    }\n",
       "\n",
       "    .dataframe tbody tr th {\n",
       "        vertical-align: top;\n",
       "    }\n",
       "\n",
       "    .dataframe thead th {\n",
       "        text-align: right;\n",
       "    }\n",
       "</style>\n",
       "<table border=\"1\" class=\"dataframe\">\n",
       "  <thead>\n",
       "    <tr style=\"text-align: right;\">\n",
       "      <th></th>\n",
       "      <th>Rel_BreitGross</th>\n",
       "      <th>RelSpitze_oben</th>\n",
       "      <th>RelSpitze_unten</th>\n",
       "      <th>Anzahl_Linie</th>\n",
       "      <th>Label</th>\n",
       "    </tr>\n",
       "  </thead>\n",
       "  <tbody>\n",
       "    <tr>\n",
       "      <th>0</th>\n",
       "      <td>0.288606</td>\n",
       "      <td>0.074919</td>\n",
       "      <td>0.618893</td>\n",
       "      <td>6</td>\n",
       "      <td>0</td>\n",
       "    </tr>\n",
       "    <tr>\n",
       "      <th>1</th>\n",
       "      <td>0.494050</td>\n",
       "      <td>0.685185</td>\n",
       "      <td>0.634259</td>\n",
       "      <td>5</td>\n",
       "      <td>0</td>\n",
       "    </tr>\n",
       "    <tr>\n",
       "      <th>2</th>\n",
       "      <td>0.497540</td>\n",
       "      <td>0.986384</td>\n",
       "      <td>0.989410</td>\n",
       "      <td>15</td>\n",
       "      <td>0</td>\n",
       "    </tr>\n",
       "    <tr>\n",
       "      <th>3</th>\n",
       "      <td>0.480687</td>\n",
       "      <td>0.714286</td>\n",
       "      <td>0.592262</td>\n",
       "      <td>21</td>\n",
       "      <td>0</td>\n",
       "    </tr>\n",
       "    <tr>\n",
       "      <th>4</th>\n",
       "      <td>0.322937</td>\n",
       "      <td>0.159763</td>\n",
       "      <td>0.633136</td>\n",
       "      <td>21</td>\n",
       "      <td>0</td>\n",
       "    </tr>\n",
       "  </tbody>\n",
       "</table>\n",
       "</div>"
      ],
      "text/plain": [
       "   Rel_BreitGross  RelSpitze_oben  RelSpitze_unten  Anzahl_Linie  Label\n",
       "0        0.288606        0.074919         0.618893             6      0\n",
       "1        0.494050        0.685185         0.634259             5      0\n",
       "2        0.497540        0.986384         0.989410            15      0\n",
       "3        0.480687        0.714286         0.592262            21      0\n",
       "4        0.322937        0.159763         0.633136            21      0"
      ]
     },
     "execution_count": 17,
     "metadata": {},
     "output_type": "execute_result"
    }
   ],
   "source": [
    "# Merkamle welche für die Klassifizierung benutzt werden sollen auswählen \n",
    "df=df[[\"Rel_BreitGross\",\"RelSpitze_oben\",\"RelSpitze_unten\",\"Anzahl_Linie\",\"Label\"]]\n",
    "train_df,test_df=Decision_Tree_class.train_test_split(df,0.3)\n",
    "df.head()"
   ]
  },
  {
   "cell_type": "markdown",
   "metadata": {},
   "source": [
    "### Erstellen und Trainieren des Decision Threes Klassifikator \n"
   ]
  },
  {
   "cell_type": "code",
   "execution_count": 18,
   "metadata": {},
   "outputs": [],
   "source": [
    "tree=Decision_Tree_class.decision_tree_algorithm(train_df,max_depth=5)\n"
   ]
  },
  {
   "cell_type": "markdown",
   "metadata": {},
   "source": [
    "### Plotten des Decision Threes "
   ]
  },
  {
   "cell_type": "code",
   "execution_count": 19,
   "metadata": {},
   "outputs": [
    {
     "name": "stdout",
     "output_type": "stream",
     "text": [
      "{'Rel_BreitGross <= 0.3423986685753135': [{'Rel_BreitGross <= 0.2709867452135493': [{'Rel_BreitGross <= 0.2498920736768115': [1.0,\n",
      "                                                                                                                              {'Anzahl_Linie <= 13.0': [{'RelSpitze_unten <= 0.9251336898395722': [1.0,\n",
      "                                                                                                                                                                                                   2.0]},\n",
      "                                                                                                                                                        2.0]}]},\n",
      "                                                                                    {'Rel_BreitGross <= 0.289347021801014': [{'RelSpitze_oben <= 0.946341463414634': [{'RelSpitze_unten <= 0.606951871657754': [1.0,\n",
      "                                                                                                                                                                                                                0.0]},\n",
      "                                                                                                                                                                      {'RelSpitze_unten <= 0.5392857142857143': [1.0,\n",
      "                                                                                                                                                                                                                 2.0]}]},\n",
      "                                                                                                                             {'RelSpitze_unten <= 0.6739130434782609': [{'RelSpitze_unten <= 0.6175824175824176': [1.0,\n",
      "                                                                                                                                                                                                                   0.0]},\n",
      "                                                                                                                                                                        1.0]}]}]},\n",
      "                                          {'Anzahl_Linie <= 4.0': [{'RelSpitze_unten <= 0.3519417475728155': [{'Rel_BreitGross <= 0.4129464285714285': [0.0,\n",
      "                                                                                                                                                        2.0]},\n",
      "                                                                                                              {'RelSpitze_oben <= 0.918032786885246': [{'RelSpitze_unten <= 0.7470355731225297': [1.0,\n",
      "                                                                                                                                                                                                  2.0]},\n",
      "                                                                                                                                                       1.0]}]},\n",
      "                                                                   {'RelSpitze_unten <= 0.2241630276564774': [2.0,\n",
      "                                                                                                              {'Anzahl_Linie <= 20.0': [{'RelSpitze_oben <= 0.9254658385093169': [2.0,\n",
      "                                                                                                                                                                                  0.0]},\n",
      "                                                                                                                                        0.0]}]}]}]}\n"
     ]
    }
   ],
   "source": [
    "pprint(tree)"
   ]
  },
  {
   "cell_type": "markdown",
   "metadata": {},
   "source": [
    "### Ausgabe der Metrics "
   ]
  },
  {
   "cell_type": "code",
   "execution_count": 20,
   "metadata": {},
   "outputs": [
    {
     "name": "stdout",
     "output_type": "stream",
     "text": [
      "              precision    recall  f1-score   support\n",
      "\n",
      "           0       0.53      0.40      0.45        78\n",
      "           1       0.67      0.65      0.66        82\n",
      "           2       0.47      0.60      0.53        82\n",
      "\n",
      "    accuracy                           0.55       242\n",
      "   macro avg       0.56      0.55      0.55       242\n",
      "weighted avg       0.56      0.55      0.55       242\n",
      "\n",
      "Mean squarred Error: 1.058222429711165\n",
      "Accuracy: 0.5495867768595041\n"
     ]
    }
   ],
   "source": [
    "y_pred=Decision_Tree_class.decision_tree_predictions(test_df,tree)\n",
    "y_test=test_df.iloc[:,-1]\n",
    "print(metrics.classification_report(y_test,y_pred))\n",
    "np.set_printoptions(precision=2) # nur zwei nachkoma Stellen anzeigen \n",
    "class_names=[\"Dosenoeffner\",\"Flaschenoeffner\",\"Korkenzieher\"]# Namen der Klassen \n",
    "\n",
    "\n",
    "\n",
    "rms=mean_squared_error(y_test,y_pred,squared=False)\n",
    "\n",
    "print(\"Mean squarred Error:\",rms)\n",
    "\n",
    "\n",
    "print(\"Accuracy:\",Decision_Tree_class.calculate_accuracy(test_df, tree))\n",
    "\n",
    "\n"
   ]
  },
  {
   "cell_type": "markdown",
   "metadata": {},
   "source": [
    "### Ein einzelnes Bild vorhersagen"
   ]
  },
  {
   "cell_type": "code",
   "execution_count": 21,
   "metadata": {},
   "outputs": [
    {
     "name": "stdout",
     "output_type": "stream",
     "text": [
      "Class predictet by Naive Bayes: 2.0\n",
      "actual Class: False \n"
     ]
    }
   ],
   "source": [
    "random_index=random.randint(0,len(test_df)) # ein Index im Bereich 0 länge der Testdaten wählen \n",
    "prediction=Decision_Tree_class.decision_tree_predictions(test_df,tree)\n",
    "y_true=test_df.iloc[:,-1].values\n",
    "print(\"Class predictet by Naive Bayes: {}\".format(prediction.values[random_index]))\n",
    "print(\"actual Class: {} \".format(y_true[random_index]))"
   ]
  },
  {
   "cell_type": "code",
   "execution_count": null,
   "metadata": {},
   "outputs": [],
   "source": []
  }
 ],
 "metadata": {
  "interpreter": {
   "hash": "c551dc114b32d4ddc6af681dae58062c65c2dc9524da8427dc77f23f376f7293"
  },
  "kernelspec": {
   "display_name": "Python 3.9.9 64-bit ('env': venv)",
   "language": "python",
   "name": "python3"
  },
  "language_info": {
   "codemirror_mode": {
    "name": "ipython",
    "version": 3
   },
   "file_extension": ".py",
   "mimetype": "text/x-python",
   "name": "python",
   "nbconvert_exporter": "python",
   "pygments_lexer": "ipython3",
   "version": "3.9.9"
  },
  "orig_nbformat": 4
 },
 "nbformat": 4,
 "nbformat_minor": 2
}
