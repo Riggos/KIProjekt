{
 "cells": [
  {
   "cell_type": "markdown",
   "metadata": {},
   "source": [
    "## Bayes Klassifikator from sklearn\n",
    "\n",
    "von Eric Hirsch und Jonas Morsch"
   ]
  },
  {
   "cell_type": "markdown",
   "metadata": {},
   "source": [
    "### Alle benötigten Bibliotheken werden geladen"
   ]
  },
  {
   "cell_type": "code",
   "execution_count": 17,
   "metadata": {},
   "outputs": [],
   "source": [
    "\n",
    "from sklearn.naive_bayes import GaussianNB\n",
    "import numpy as np \n",
    "from sklearn import metrics\n",
    "from sklearn.metrics import ConfusionMatrixDisplay\n",
    "import matplotlib.pyplot as plt\n",
    "import random\n",
    "\n",
    "\n",
    "import Data_preparation as  DP\n",
    "DP=DP.Data_preparation()\n"
   ]
  },
  {
   "cell_type": "markdown",
   "metadata": {},
   "source": [
    "### Den Datensatz laden \n"
   ]
  },
  {
   "cell_type": "code",
   "execution_count": 18,
   "metadata": {},
   "outputs": [
    {
     "name": "stdout",
     "output_type": "stream",
     "text": [
      "Index(['Rel_BreitGross', 'RelSpitze_oben', 'RelSpitze_unten', 'Anzahl_Linie',\n",
      "       'Anzahl_Ecken', 'Anzahl_Kreis', 'innere_Konturen', 'Label'],\n",
      "      dtype='object')\n"
     ]
    }
   ],
   "source": [
    "\n",
    "df=DP.load_csv_to_df(\"ricsData_big_v5.csv\")\n",
    "print(df.columns)# Anzeigen aller features und Labels "
   ]
  },
  {
   "cell_type": "code",
   "execution_count": 19,
   "metadata": {},
   "outputs": [
    {
     "name": "stdout",
     "output_type": "stream",
     "text": [
      "training set size: 564 samples \n",
      "test set size: 241 samples\n"
     ]
    },
    {
     "data": {
      "text/html": [
       "<div>\n",
       "<style scoped>\n",
       "    .dataframe tbody tr th:only-of-type {\n",
       "        vertical-align: middle;\n",
       "    }\n",
       "\n",
       "    .dataframe tbody tr th {\n",
       "        vertical-align: top;\n",
       "    }\n",
       "\n",
       "    .dataframe thead th {\n",
       "        text-align: right;\n",
       "    }\n",
       "</style>\n",
       "<table border=\"1\" class=\"dataframe\">\n",
       "  <thead>\n",
       "    <tr style=\"text-align: right;\">\n",
       "      <th></th>\n",
       "      <th>Rel_BreitGross</th>\n",
       "      <th>RelSpitze_oben</th>\n",
       "      <th>RelSpitze_unten</th>\n",
       "      <th>Anzahl_Linie</th>\n",
       "      <th>Label</th>\n",
       "    </tr>\n",
       "  </thead>\n",
       "  <tbody>\n",
       "    <tr>\n",
       "      <th>0</th>\n",
       "      <td>0.288606</td>\n",
       "      <td>0.074919</td>\n",
       "      <td>0.618893</td>\n",
       "      <td>6</td>\n",
       "      <td>0</td>\n",
       "    </tr>\n",
       "    <tr>\n",
       "      <th>1</th>\n",
       "      <td>0.494050</td>\n",
       "      <td>0.685185</td>\n",
       "      <td>0.634259</td>\n",
       "      <td>5</td>\n",
       "      <td>0</td>\n",
       "    </tr>\n",
       "    <tr>\n",
       "      <th>2</th>\n",
       "      <td>0.497540</td>\n",
       "      <td>0.986384</td>\n",
       "      <td>0.989410</td>\n",
       "      <td>15</td>\n",
       "      <td>0</td>\n",
       "    </tr>\n",
       "    <tr>\n",
       "      <th>3</th>\n",
       "      <td>0.480687</td>\n",
       "      <td>0.714286</td>\n",
       "      <td>0.592262</td>\n",
       "      <td>21</td>\n",
       "      <td>0</td>\n",
       "    </tr>\n",
       "    <tr>\n",
       "      <th>4</th>\n",
       "      <td>0.322937</td>\n",
       "      <td>0.159763</td>\n",
       "      <td>0.633136</td>\n",
       "      <td>21</td>\n",
       "      <td>0</td>\n",
       "    </tr>\n",
       "  </tbody>\n",
       "</table>\n",
       "</div>"
      ],
      "text/plain": [
       "   Rel_BreitGross  RelSpitze_oben  RelSpitze_unten  Anzahl_Linie  Label\n",
       "0        0.288606        0.074919         0.618893             6      0\n",
       "1        0.494050        0.685185         0.634259             5      0\n",
       "2        0.497540        0.986384         0.989410            15      0\n",
       "3        0.480687        0.714286         0.592262            21      0\n",
       "4        0.322937        0.159763         0.633136            21      0"
      ]
     },
     "execution_count": 19,
     "metadata": {},
     "output_type": "execute_result"
    }
   ],
   "source": [
    "# Merkamle welche für die Klassifizierung benutzt werden sollen auswählen \n",
    "df=df[[\"Rel_BreitGross\",\"RelSpitze_oben\",\"RelSpitze_unten\",\"Anzahl_Linie\",\"Label\"]]\n",
    "X_train,X_test,y_train,y_test=DP.split_data(df,0.7)# Aufteilen der Daten in Trainings und Testdaten \n",
    "df.head()"
   ]
  },
  {
   "cell_type": "markdown",
   "metadata": {},
   "source": [
    "### Erstellen und trainieren des Naiven Bayes Modell"
   ]
  },
  {
   "cell_type": "code",
   "execution_count": 20,
   "metadata": {},
   "outputs": [],
   "source": [
    "\n",
    "gnb = GaussianNB()  #Initialisieren des Models  \n",
    "y_pred = gnb.fit(X_train.values,y_train.values.ravel()).predict(X_test.values) # Trainiern des Models \n",
    "\n"
   ]
  },
  {
   "cell_type": "markdown",
   "metadata": {},
   "source": [
    "### Ausgeben der Metrics "
   ]
  },
  {
   "cell_type": "code",
   "execution_count": 21,
   "metadata": {},
   "outputs": [
    {
     "name": "stdout",
     "output_type": "stream",
     "text": [
      "              precision    recall  f1-score   support\n",
      "\n",
      "           0       0.66      0.33      0.44        82\n",
      "           1       0.49      0.80      0.61        83\n",
      "           2       0.58      0.50      0.54        76\n",
      "\n",
      "    accuracy                           0.54       241\n",
      "   macro avg       0.58      0.54      0.53       241\n",
      "weighted avg       0.58      0.54      0.53       241\n",
      "\n",
      "Confusion matrix\n",
      "[[27 41 14]\n",
      " [ 3 66 14]\n",
      " [11 27 38]]\n"
     ]
    },
    {
     "data": {
      "image/png": "[encoded data removed]",
      "text/plain": [
       "<Figure size 432x288 with 2 Axes>"
      ]
     },
     "metadata": {
      "needs_background": "light"
     },
     "output_type": "display_data"
    }
   ],
   "source": [
    "print(metrics.classification_report(y_test,y_pred))\n",
    "np.set_printoptions(precision=2) # nur zwei nachkoma Stellen anzeigen \n",
    "class_names=[\"Dosenoeffner\",\"Flaschenoeffner\",\"Korkenzieher\"]# Namen der Klassen \n",
    "\n",
    "### erzeugen einer Konfusionsmatrix\n",
    "disp = ConfusionMatrixDisplay.from_estimator(\n",
    "    gnb,\n",
    "    X_test.values,\n",
    "    y_test.values,\n",
    "    display_labels=class_names,\n",
    "    cmap=plt.cm.Blues,\n",
    "    normalize=None,\n",
    ")\n",
    "disp.ax_.set_title(\"Confusion matrix\")\n",
    "\n",
    "print(\"Confusion matrix\")\n",
    "print(disp.confusion_matrix)\n",
    "\n",
    "\n",
    "\n",
    "\n",
    "\n",
    "\n",
    "\n",
    "\n"
   ]
  },
  {
   "cell_type": "markdown",
   "metadata": {},
   "source": [
    "### Ein einzelnes Bild vorhersagen"
   ]
  },
  {
   "cell_type": "code",
   "execution_count": 22,
   "metadata": {},
   "outputs": [
    {
     "name": "stdout",
     "output_type": "stream",
     "text": [
      "Class predictet by Naive Bayes: [1]\n",
      "actual Class: Label    2\n",
      "Name: 602, dtype: int64 \n"
     ]
    }
   ],
   "source": [
    "random_index=random.randint(0,len(X_test)) # ein Index im Bereich 0 länge der Testdaten wählen \n",
    "prediction=gnb.predict(X_test.values[random_index].reshape(1,-1))# ein zufälligesd Bild Vorhersagen \n",
    "print(\"Class predictet by Naive Bayes: {}\".format(prediction))\n",
    "print(\"actual Class: {} \".format(y_test.iloc[random_index,:]))"
   ]
  },
  {
   "cell_type": "code",
   "execution_count": null,
   "metadata": {},
   "outputs": [],
   "source": []
  }
 ],
 "metadata": {
  "interpreter": {
   "hash": "c551dc114b32d4ddc6af681dae58062c65c2dc9524da8427dc77f23f376f7293"
  },
  "kernelspec": {
   "display_name": "Python 3.9.9 64-bit ('env': venv)",
   "language": "python",
   "name": "python3"
  },
  "language_info": {
   "codemirror_mode": {
    "name": "ipython",
    "version": 3
   },
   "file_extension": ".py",
   "mimetype": "text/x-python",
   "name": "python",
   "nbconvert_exporter": "python",
   "pygments_lexer": "ipython3",
   "version": "3.9.9"
  },
  "orig_nbformat": 4
 },
 "nbformat": 4,
 "nbformat_minor": 2
}
