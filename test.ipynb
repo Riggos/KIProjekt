{
 "cells": [
  {
   "cell_type": "code",
   "execution_count": null,
   "metadata": {},
   "outputs": [],
   "source": [
    "\n",
    "import numpy as np\n",
    "import cv2 \n",
    "\n",
    "Bild = cv2.imread('kz2.jpeg')\n",
    "gray = cv2.cvtColor(Bild, cv2.COLOR_BGR2GRAY)\n",
    "image = cv2.GaussianBlur(gray, (9,9), 0)\n",
    "canny_img= cv2.Canny(image=image, threshold1=8,threshold2=255)\n",
    "\n",
    "Groesse= cv2.getStructuringElement(cv2.MORPH_ELLIPSE,(5,5))\n",
    "dil_img = cv2.dilate(canny_img,Groesse,iterations = 6)\n",
    "height, width = image.shape\n",
    "\n",
    "cnts1= cv2.findContours(dil_img, cv2.RETR_EXTERNAL, cv2.CHAIN_APPROX_SIMPLE)\n",
    "cnts = cnts1[0] if len(cnts1) == 2 else cnts1[1]\n",
    "c = max(cnts, key=cv2.contourArea)\n",
    "\n",
    "cv2.drawContours(Bild, [c], -1, (36, 255, 12), 10)\n",
    "\n",
    "\n",
    "cv2.namedWindow(\"open33\", cv2.WINDOW_NORMAL)\n",
    "cv2.imshow('open33',dil_img)\n",
    "cv2.waitKey(0)\n",
    "cv2.destroyAllWindows()"
   ]
  },
  {
   "cell_type": "code",
   "execution_count": null,
   "metadata": {},
   "outputs": [],
   "source": [
    "import numpy as np\n",
    "dingo = (5,-5)\n",
    "lala = (3,2)\n",
    "\n",
    "ts = np.subtract(dingo, lala) \n",
    "print(np.positive(ts))\n",
    "print (np.absolute(ts))"
   ]
  },
  {
   "cell_type": "markdown",
   "metadata": {},
   "source": [
    "%load_ext autoreload\n",
    "%autoreload 2"
   ]
  },
  {
   "cell_type": "code",
   "execution_count": 1,
   "metadata": {},
   "outputs": [],
   "source": [
    "import cv2\n",
    "import ricpreimg as rimg\n",
    "\n",
    "test = cv2.imread(\"c:\\\\Hochschule\\\\WS21_22\\\\KI1\\\\Programme\\\\Vorles_tensorflow\\\\Aufgabe\\\\Archiv\\\\KI_Hausarbeit_V2\\\\Bilder_KI\\\\Dosenoeffner\\\\50f893ca7e.jpg\")\n",
    "#test = cv2.imread(\"kz1.jpeg\")\n",
    "dingo = rimg.preimg()\n",
    "dingo.setimg(test)\n",
    "dingo.calc_canny_cnts()\n",
    "rel = dingo.calc_rel_breitgroß()\n",
    "spizo, spitzu = dingo.calc_rel_spitze()\n",
    "dinos = dingo.calc_canny_lines()\n",
    "circlos = dingo.calc_circles()\n",
    "#dingo.draw_image()\n"
   ]
  },
  {
   "cell_type": "code",
   "execution_count": 2,
   "metadata": {},
   "outputs": [],
   "source": [
    "\n",
    "\n",
    "cv2.namedWindow(\"open33\", cv2.WINDOW_NORMAL)\n",
    "cv2.imshow('open33',dingo.draw_img)\n",
    "cv2.waitKey()\n",
    "cv2.destroyAllWindows()"
   ]
  },
  {
   "cell_type": "code",
   "execution_count": 1,
   "metadata": {},
   "outputs": [],
   "source": [
    "\n",
    "import os\n",
    "import ricimg_to_table as iit\n",
    "\n",
    "onlyfiles = os.listdir()\n",
    "test = os.getcwd()\n",
    "te = iit.imgorga(\"Meine_Bilder\")\n",
    "test2 = te.labels\n",
    "test3 = te.image_paths"
   ]
  },
  {
   "cell_type": "code",
   "execution_count": 16,
   "metadata": {},
   "outputs": [
    {
     "ename": "SyntaxError",
     "evalue": "invalid syntax (Temp/ipykernel_1300/4036932277.py, line 1)",
     "output_type": "error",
     "traceback": [
      "\u001b[1;36m  File \u001b[1;32m\"C:\\Users\\ric\\AppData\\Local\\Temp/ipykernel_1300/4036932277.py\"\u001b[1;36m, line \u001b[1;32m1\u001b[0m\n\u001b[1;33m    dict = {} slpktO%load_ext autoreload\u001b[0m\n\u001b[1;37m              ^\u001b[0m\n\u001b[1;31mSyntaxError\u001b[0m\u001b[1;31m:\u001b[0m invalid syntax\n"
     ]
    }
   ],
   "source": [
    "dict = {} slpktO\n",
    "\n",
    "%load_ext autoreload\n",
    "%autoreload 2\n",
    "\n",
    "element1 = {'args': 2, 'kwargs': 1, \"retVal\": 3, \"time\": 6}\n",
    "element2 = {'args': 4, 'kwargs': 4, \"retVal\": 6, \"time\": 4}"
   ]
  },
  {
   "cell_type": "code",
   "execution_count": 10,
   "metadata": {},
   "outputs": [],
   "source": [
    "\n",
    "%load_ext autoreload\n",
    "%autoreload 2\n"
   ]
  },
  {
   "cell_type": "code",
   "execution_count": 51,
   "metadata": {},
   "outputs": [],
   "source": [
    "\n",
    "\n",
    "import ricimg_to_table as ricL\n",
    "import cv2\n",
    "import ricpreimg as ricP\n",
    "#imginfo = ricL.imgorga(\"Archiv\\\\KI_Hausarbeit_V2\\\\Bilder_KI\")\n",
    "imginfo = ricL.imgorga(\"Alle_Bilder\")\n",
    "imgextract = ricP.preimg()\n",
    "\n",
    "feature_names = [\"Rel_BreitGross\", \"RelSpitze_oben\",\"RelSpitze_unten\", \"Anzahl_Linie\",\"Anzahl_Ecken\",\n",
    "                \"Anzahl_Kreis\",\"Label\"]\n",
    "\n",
    "for idx,label in enumerate(imginfo.labels):\n",
    "    for img_path in imginfo.image_paths[idx]:\n",
    "        #print(img_path)\n",
    "        img = cv2.imread(img_path)\n",
    "\n",
    "        imgextract.setimg(img)\n",
    "        imgextract.calc_canny_cnts()\n",
    "\n",
    "        \"\"\"windowname = img_path\n",
    "        cv2.namedWindow(windowname, cv2.WINDOW_NORMAL)\n",
    "        cv2.namedWindow(\"draw\", cv2.WINDOW_NORMAL)\n",
    "        cv2.imshow(windowname,imgextract.imgdict[\"cannyimg\"])\n",
    "        imgextract.draw_image(\"cnts\")\n",
    "        cv2.imshow(\"draw\",imgextract.draw_img)\n",
    "        cv2.waitKey()\n",
    "        cv2.destroyAllWindows()\"\"\"\n",
    "\n",
    "        rel = imgextract.calc_rel_breitgroß_2()\n",
    "        spitzo, spitzu = imgextract.calc_rel_spitze()\n",
    "        line_count = imgextract.calc_canny_lines()\n",
    "        edge_count = imgextract.calc_edges()\n",
    "        circle_count = imgextract.calc_circles()\n",
    "\n",
    "        imginfo.collect_numeric_data([rel,spitzo,spitzu,line_count,edge_count,circle_count,idx])\n",
    "        \n",
    "pd_imgdata = imginfo.get_feature_names(feature_names)\n",
    "\n",
    "pd_imgdata.to_excel(\"ricsData2.xlsx\")\n",
    "pd_imgdata.to_csv('ricsData3.csv')"
   ]
  },
  {
   "cell_type": "code",
   "execution_count": 1,
   "metadata": {},
   "outputs": [],
   "source": [
    "import pandas as pd\n",
    "\n",
    "df = pd.read_excel(\"Eigene_Liste.xlsx\")"
   ]
  },
  {
   "cell_type": "code",
   "execution_count": 2,
   "metadata": {},
   "outputs": [],
   "source": [
    "df.to_csv('ric.csv')"
   ]
  },
  {
   "cell_type": "code",
   "execution_count": 7,
   "metadata": {},
   "outputs": [
    {
     "ename": "KeyboardInterrupt",
     "evalue": "",
     "output_type": "error",
     "traceback": [
      "\u001b[1;31m---------------------------------------------------------------------------\u001b[0m",
      "\u001b[1;31mKeyboardInterrupt\u001b[0m                         Traceback (most recent call last)",
      "\u001b[1;32m~\\AppData\\Local\\Temp\\ipykernel_6316\\3844162214.py\u001b[0m in \u001b[0;36m<module>\u001b[1;34m\u001b[0m\n\u001b[0;32m     24\u001b[0m         \u001b[0mimgextract\u001b[0m\u001b[1;33m.\u001b[0m\u001b[0mdraw_image\u001b[0m\u001b[1;33m(\u001b[0m\u001b[1;34m\"cnts\"\u001b[0m\u001b[1;33m)\u001b[0m\u001b[1;33m\u001b[0m\u001b[1;33m\u001b[0m\u001b[0m\n\u001b[0;32m     25\u001b[0m         \u001b[0mcv2\u001b[0m\u001b[1;33m.\u001b[0m\u001b[0mimshow\u001b[0m\u001b[1;33m(\u001b[0m\u001b[0mwindowname2\u001b[0m\u001b[1;33m,\u001b[0m\u001b[0mimgextract\u001b[0m\u001b[1;33m.\u001b[0m\u001b[0mdraw_img\u001b[0m\u001b[1;33m)\u001b[0m\u001b[1;33m\u001b[0m\u001b[1;33m\u001b[0m\u001b[0m\n\u001b[1;32m---> 26\u001b[1;33m         \u001b[0mcv2\u001b[0m\u001b[1;33m.\u001b[0m\u001b[0mwaitKey\u001b[0m\u001b[1;33m(\u001b[0m\u001b[1;33m)\u001b[0m\u001b[1;33m\u001b[0m\u001b[1;33m\u001b[0m\u001b[0m\n\u001b[0m\u001b[0;32m     27\u001b[0m         \u001b[0mcv2\u001b[0m\u001b[1;33m.\u001b[0m\u001b[0mdestroyAllWindows\u001b[0m\u001b[1;33m(\u001b[0m\u001b[1;33m)\u001b[0m\u001b[1;33m\u001b[0m\u001b[1;33m\u001b[0m\u001b[0m\n\u001b[0;32m     28\u001b[0m \u001b[1;33m\u001b[0m\u001b[0m\n",
      "\u001b[1;31mKeyboardInterrupt\u001b[0m: "
     ]
    }
   ],
   "source": [
    "\n",
    "\n",
    "import ricimg_to_table as ricL\n",
    "import cv2\n",
    "import ricpreimg as ricP\n",
    "#imginfo = ricL.imgorga(\"Archiv\\\\KI_Hausarbeit_V2\\\\Bilder_KI\")\n",
    "imginfo = ricL.imgorga(\"Alle_Bilder\")\n",
    "imgextract = ricP.preimg()\n",
    "\n",
    "feature_names = [\"Rel_BreitGross\", \"RelSpitze_oben\",\"RelSpitze_unten\", \"Anzahl_Linie\",\"Anzahl_Ecken\",\n",
    "                \"Anzahl_Kreis\",\"innere_Konturen\",\"Label\"]\n",
    "\n",
    "for idx,label in enumerate(imginfo.labels):\n",
    "    for img_path in imginfo.image_paths[idx]:\n",
    "        #print(img_path)\n",
    "        img = cv2.imread(img_path)\n",
    "\n",
    "        imgextract.setimg(img)\n",
    "        imgextract.canny_filter2()\n",
    "\n",
    "        windowname = img_path\n",
    "        windowname2 = str(imgextract.imgdict[\"old_thres\"])\n",
    "        cv2.namedWindow(windowname, cv2.WINDOW_NORMAL)\n",
    "        cv2.namedWindow(windowname2, cv2.WINDOW_NORMAL)\n",
    "        cv2.imshow(windowname,imgextract.imgdict[\"cannyimg\"])\n",
    "        imgextract.draw_image(\"cnts\")\n",
    "        cv2.imshow(windowname2,imgextract.draw_img)\n",
    "        cv2.waitKey()\n",
    "        cv2.destroyAllWindows()\n",
    "\n",
    "        rel = imgextract.calc_rel_breitgroß_2()\n",
    "        spitzo, spitzu = imgextract.calc_rel_spitze()\n",
    "        line_count = imgextract.calc_canny_lines()\n",
    "        edge_count = imgextract.calc_edges()\n",
    "        circle_count = imgextract.calc_circles()\n",
    "        _,calc_inner_cnts_count = imgextract.calc_inner_cnts()\n",
    "\n",
    "        imginfo.collect_numeric_data([rel,spitzo,spitzu,line_count,edge_count,circle_count,calc_inner_cnts_count,idx])\n",
    "        \n",
    "pd_imgdata = imginfo.get_feature_names(feature_names)\n",
    "#pd_imgdata.to_excel(\"ricsData_small_v5.xlsx\")\n",
    "pd_imgdata.to_csv(\"ricsData_big_v5.csv\")"
   ]
  },
  {
   "cell_type": "code",
   "execution_count": 2,
   "metadata": {},
   "outputs": [
    {
     "name": "stdout",
     "output_type": "stream",
     "text": [
      "(35, 288)\n"
     ]
    }
   ],
   "source": [
    "import cv2\n",
    "import ricpreimg as rimg\n",
    "\n",
    "\n",
    "#test = cv2.imread(\"c:\\\\Hochschule\\\\WS21_22\\\\KI1\\\\Programme\\\\Vorles_tensorflow\\\\Aufgabe\\\\Archiv\\\\KI_Hausarbeit_V2\\\\Bilder_KI\\\\Dosenoeffner\\\\50f893ca7e.jpg\")\n",
    "test = cv2.imread(\"foe.jpeg\")\n",
    "dingo = rimg.preimg()\n",
    "dingo.setimg(test)\n",
    "dingo.canny_filter2()\n",
    "rel = dingo.calc_rel_breitgroß()\n",
    "spizo, spitzu = dingo.calc_rel_spitze()\n",
    "dinos = dingo.calc_canny_lines()\n",
    "circlos = dingo.calc_circles()\n",
    "sdfgn = dingo.calc_inner_cnts()\n",
    "dingo.draw_image()\n",
    "#print(dingo.draw_img)\n",
    "cv2.namedWindow(\"ope\", cv2.WINDOW_NORMAL)\n",
    "cv2.imshow(\"ope\",dingo.draw_img)\n",
    "#cv2.imshow(\"ope\",dingo.imgdict[\"cannyimg\"])\n",
    "cv2.waitKey()\n",
    "cv2.destroyAllWindows()\n",
    "print(dingo.imgdict[\"old_thres\"])"
   ]
  },
  {
   "cell_type": "code",
   "execution_count": 11,
   "metadata": {},
   "outputs": [
    {
     "ename": "AttributeError",
     "evalue": "'preimg' object has no attribute 'canny_threshold_cnts'",
     "output_type": "error",
     "traceback": [
      "\u001b[1;31m---------------------------------------------------------------------------\u001b[0m",
      "\u001b[1;31mAttributeError\u001b[0m                            Traceback (most recent call last)",
      "\u001b[1;32m~\\AppData\\Local\\Temp\\ipykernel_6316\\2266022234.py\u001b[0m in \u001b[0;36m<module>\u001b[1;34m\u001b[0m\n\u001b[0;32m     15\u001b[0m \u001b[1;33m\u001b[0m\u001b[0m\n\u001b[0;32m     16\u001b[0m         \u001b[0mimgextract\u001b[0m\u001b[1;33m.\u001b[0m\u001b[0msetimg\u001b[0m\u001b[1;33m(\u001b[0m\u001b[0mimg\u001b[0m\u001b[1;33m)\u001b[0m\u001b[1;33m\u001b[0m\u001b[1;33m\u001b[0m\u001b[0m\n\u001b[1;32m---> 17\u001b[1;33m         \u001b[0mimgextract\u001b[0m\u001b[1;33m.\u001b[0m\u001b[0mcanny_threshold_cnts\u001b[0m\u001b[1;33m(\u001b[0m\u001b[1;33m)\u001b[0m\u001b[1;33m\u001b[0m\u001b[1;33m\u001b[0m\u001b[0m\n\u001b[0m\u001b[0;32m     18\u001b[0m \u001b[1;33m\u001b[0m\u001b[0m\n\u001b[0;32m     19\u001b[0m         \u001b[0mwindowname\u001b[0m \u001b[1;33m=\u001b[0m \u001b[0mimg_path\u001b[0m\u001b[1;33m\u001b[0m\u001b[1;33m\u001b[0m\u001b[0m\n",
      "\u001b[1;31mAttributeError\u001b[0m: 'preimg' object has no attribute 'canny_threshold_cnts'"
     ]
    }
   ],
   "source": [
    "\n",
    "import ricimg_to_table as ricL\n",
    "import cv2\n",
    "import ricpreimg as ricP\n",
    "#imginfo = ricL.imgorga(\"Archiv\\\\KI_Hausarbeit_V2\\\\Bilder_KI\")\n",
    "imginfo = ricL.imgorga(\"Alle_Bilder\")\n",
    "imgextract = ricP.preimg()\n",
    "\n",
    "feature_names = [\"Rel_BreitGross\", \"RelSpitze_oben\",\"RelSpitze_unten\", \"Anzahl_Linie\",\"Anzahl_Ecken\",\n",
    "                \"Anzahl_Kreis\",\"Label\"]\n",
    "\n",
    "for idx,label in enumerate(imginfo.labels):\n",
    "    for img_path in imginfo.image_paths[idx]:\n",
    "        #print(img_path)\n",
    "        img = cv2.imread(img_path)\n",
    "\n",
    "        imgextract.setimg(img)\n",
    "        imgextract.calc_threshold_cnts()\n",
    "\n",
    "        windowname = img_path\n",
    "        windowname2 = \"sdfs\"\n",
    "        cv2.namedWindow(windowname, cv2.WINDOW_NORMAL)\n",
    "        cv2.namedWindow(windowname2, cv2.WINDOW_NORMAL)\n",
    "        cv2.imshow(windowname,imgextract.imgdict[\"cannyimg\"])\n",
    "        imgextract.draw_image(\"cnts\")\n",
    "        cv2.imshow(windowname2,imgextract.draw_img)\n",
    "        cv2.waitKey()\n",
    "        cv2.destroyAllWindows()\n",
    "\n",
    "        rel = imgextract.calc_rel_breitgroß_2()\n",
    "        spitzo, spitzu = imgextract.calc_rel_spitze()\n",
    "        line_count = imgextract.calc_canny_lines()\n",
    "        edge_count = imgextract.calc_edges()\n",
    "        circle_count = imgextract.calc_circles()\n",
    "        #_,calc_inner_cnts_count = imgextract.calc_inner_cnts()\n",
    "\n",
    "        imginfo.collect_numeric_data([rel,spitzo,spitzu,line_count,edge_count,circle_count,idx])\n",
    "        \n",
    "pd_imgdata = imginfo.get_feature_names(feature_names)\n",
    "#pd_imgdata.to_excel(\"ricsData_small_v5.xlsx\")\n",
    "pd_imgdata.to_csv(\"ricsData_big_v5.csv\")"
   ]
  }
 ],
 "metadata": {
  "interpreter": {
   "hash": "f0f9091a0a28f68c4dbc935a52f2f44d4866d209e20662b3f6a9f2abfaf89b83"
  },
  "kernelspec": {
   "display_name": "Python 3.8.8 64-bit ('tens': venv)",
   "language": "python",
   "name": "python3"
  },
  "language_info": {
   "codemirror_mode": {
    "name": "ipython",
    "version": 3
   },
   "file_extension": ".py",
   "mimetype": "text/x-python",
   "name": "python",
   "nbconvert_exporter": "python",
   "pygments_lexer": "ipython3",
   "version": "3.8.8"
  },
  "orig_nbformat": 4
 },
 "nbformat": 4,
 "nbformat_minor": 2
}
