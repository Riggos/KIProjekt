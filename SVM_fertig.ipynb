{
 "cells": [
  {
   "cell_type": "markdown",
   "metadata": {},
   "source": [
    "### Suport Vektor Machine  mit Sklearn\n",
    "\n",
    "\n",
    "von Eric Hirsch und Jonas Morsch "
   ]
  },
  {
   "cell_type": "markdown",
   "metadata": {},
   "source": [
    "### Einbinden alle benötigten Bibliotehken "
   ]
  },
  {
   "cell_type": "code",
   "execution_count": 50,
   "metadata": {},
   "outputs": [],
   "source": [
    "import numpy as np\n",
    "import pandas as pd\n",
    "import matplotlib.pyplot as plt\n",
    "import random\n",
    "%matplotlib inline\n",
    "\n",
    "import Data_preparation as DP\n",
    "\n",
    "DP=DP.Data_preparation()\n",
    "\n",
    "\n",
    "from sklearn.svm import SVC\n",
    "from sklearn import metrics\n",
    "from sklearn.metrics import ConfusionMatrixDisplay"
   ]
  },
  {
   "cell_type": "markdown",
   "metadata": {},
   "source": [
    "### Einlesen des Datensatzes "
   ]
  },
  {
   "cell_type": "code",
   "execution_count": 1,
   "metadata": {},
   "outputs": [
    {
     "ename": "NameError",
     "evalue": "name 'DP' is not defined",
     "output_type": "error",
     "traceback": [
      "\u001b[1;31m---------------------------------------------------------------------------\u001b[0m",
      "\u001b[1;31mNameError\u001b[0m                                 Traceback (most recent call last)",
      "Input \u001b[1;32mIn [1]\u001b[0m, in \u001b[0;36m<module>\u001b[1;34m\u001b[0m\n\u001b[1;32m----> 1\u001b[0m df\u001b[38;5;241m=\u001b[39m\u001b[43mDP\u001b[49m\u001b[38;5;241m.\u001b[39mload_csv_to_df(\u001b[38;5;124m\"\u001b[39m\u001b[38;5;124mricsData_big_v5.csv\u001b[39m\u001b[38;5;124m\"\u001b[39m)\n\u001b[0;32m      2\u001b[0m \u001b[38;5;28mprint\u001b[39m(df\u001b[38;5;241m.\u001b[39mcolumns)\u001b[38;5;66;03m# Anzeigen aller features und Labels \u001b[39;00m\n\u001b[0;32m      3\u001b[0m \u001b[38;5;66;03m# Merkamle welche für die Klassifizierung benutzt werden sollen auswählen \u001b[39;00m\n\u001b[0;32m      4\u001b[0m \u001b[38;5;66;03m#df=df[[\"Rel_BreitGross\",\"RelSpitze_oben\",\"RelSpitze_unten\",\"Anzahl_Linie\",\"Label\"]]\u001b[39;00m\n",
      "\u001b[1;31mNameError\u001b[0m: name 'DP' is not defined"
     ]
    }
   ],
   "source": [
    "df=DP.load_csv_to_df(\"ricsData_big_v5.csv\")\n",
    "print(df.columns)# Anzeigen aller features und Labels \n",
    "# Merkamle welche für die Klassifizierung benutzt werden sollen auswählen \n",
    "#df=df[[\"Rel_BreitGross\",\"RelSpitze_oben\",\"RelSpitze_unten\",\"Anzahl_Linie\",\"Label\"]]\n",
    "X_train,X_test,y_train,y_test=DP.split_data(df,0.7)# Aufteilen der Daten in Trainings und Testdaten \n",
    "df.head()"
   ]
  },
  {
   "cell_type": "markdown",
   "metadata": {},
   "source": [
    "### Erstellen des Suport Vector Machine Modesl und trainiern des Models"
   ]
  },
  {
   "cell_type": "code",
   "execution_count": 52,
   "metadata": {},
   "outputs": [
    {
     "data": {
      "text/plain": [
       "SVC()"
      ]
     },
     "execution_count": 52,
     "metadata": {},
     "output_type": "execute_result"
    }
   ],
   "source": [
    "model=SVC()\n",
    "model.fit(X_train.values,y_train.values.ravel())"
   ]
  },
  {
   "cell_type": "code",
   "execution_count": 53,
   "metadata": {},
   "outputs": [],
   "source": [
    "pred=model.predict(X_test.values)"
   ]
  },
  {
   "cell_type": "code",
   "execution_count": 54,
   "metadata": {},
   "outputs": [
    {
     "name": "stdout",
     "output_type": "stream",
     "text": [
      "              precision    recall  f1-score   support\n",
      "\n",
      "           0       0.55      0.33      0.42        81\n",
      "           1       0.57      0.67      0.62        78\n",
      "           2       0.60      0.74      0.67        82\n",
      "\n",
      "    accuracy                           0.58       241\n",
      "   macro avg       0.58      0.58      0.57       241\n",
      "weighted avg       0.58      0.58      0.57       241\n",
      "\n",
      "Confusion matrix\n",
      "[[27 30 24]\n",
      " [10 52 16]\n",
      " [12  9 61]]\n"
     ]
    },
    {
     "data": {
      "image/png": "[encoded data removed]",
      "text/plain": [
       "<Figure size 432x288 with 2 Axes>"
      ]
     },
     "metadata": {
      "needs_background": "light"
     },
     "output_type": "display_data"
    }
   ],
   "source": [
    "print(metrics.classification_report(y_test.values,pred))\n",
    "np.set_printoptions(precision=2) # only to digits after the dot \n",
    "class_names=[\"Dosenoeffner\",\"Flaschenoeffner\",\"Korkenzieher\"]# name the classes \n",
    "\n",
    "### create a confusion Matrix \n",
    "disp = ConfusionMatrixDisplay.from_estimator(\n",
    "    model,\n",
    "    X_test.values,\n",
    "    y_test.values,\n",
    "    display_labels=class_names,\n",
    "    cmap=plt.cm.Blues,\n",
    "    normalize=None,\n",
    ")\n",
    "disp.ax_.set_title(\"Confusion matrix\")\n",
    "\n",
    "print(\"Confusion matrix\")\n",
    "print(disp.confusion_matrix)"
   ]
  },
  {
   "cell_type": "code",
   "execution_count": 55,
   "metadata": {},
   "outputs": [
    {
     "name": "stdout",
     "output_type": "stream",
     "text": [
      "Class predictet by Naive Bayes: [1]\n",
      "actual Class: Label    2\n",
      "Name: 759, dtype: int64 \n"
     ]
    }
   ],
   "source": [
    "random_index=random.randint(0,len(X_test)) # ein Index im Bereich 0 länge der Testdaten wählen \n",
    "prediction=model.predict(X_test.values[random_index].reshape(1,-1))# ein zufälligesd Bild Vorhersagen \n",
    "print(\"Class predictet by Naive Bayes: {}\".format(prediction))\n",
    "print(\"actual Class: {} \".format(y_test.iloc[random_index,:]))"
   ]
  },
  {
   "cell_type": "code",
   "execution_count": null,
   "metadata": {},
   "outputs": [],
   "source": []
  }
 ],
 "metadata": {
  "interpreter": {
   "hash": "c551dc114b32d4ddc6af681dae58062c65c2dc9524da8427dc77f23f376f7293"
  },
  "kernelspec": {
   "display_name": "Python 3.9.9 64-bit ('env': venv)",
   "language": "python",
   "name": "python3"
  },
  "language_info": {
   "codemirror_mode": {
    "name": "ipython",
    "version": 3
   },
   "file_extension": ".py",
   "mimetype": "text/x-python",
   "name": "python",
   "nbconvert_exporter": "python",
   "pygments_lexer": "ipython3",
   "version": "3.9.9"
  },
  "orig_nbformat": 4
 },
 "nbformat": 4,
 "nbformat_minor": 2
}
