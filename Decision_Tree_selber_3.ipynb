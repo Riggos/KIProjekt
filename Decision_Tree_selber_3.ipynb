{
 "cells": [
  {
   "cell_type": "markdown",
   "metadata": {},
   "source": [
    "# Decision Tree "
   ]
  },
  {
   "cell_type": "markdown",
   "metadata": {},
   "source": [
    "### Imports\n"
   ]
  },
  {
   "cell_type": "code",
   "execution_count": 123,
   "metadata": {},
   "outputs": [],
   "source": [
    "import numpy as np\n",
    "import pandas as pd\n",
    "\n",
    "import matplotlib.pyplot as plt\n",
    "import seaborn as sns\n",
    "\n",
    "import random\n",
    "from pprint import pprint\n",
    "\n",
    "%matplotlib inline\n",
    "sns.set_style(\"darkgrid\")\n"
   ]
  },
  {
   "cell_type": "markdown",
   "metadata": {},
   "source": [
    "### Load the dataset\n"
   ]
  },
  {
   "cell_type": "code",
   "execution_count": 124,
   "metadata": {},
   "outputs": [],
   "source": [
    "df = pd.read_csv('ricsBigData.csv')#load Dataset\n",
    "\n",
    "if(df.columns[0]=='Unnamed: 0'): \n",
    "    \n",
    "    df=df.iloc[:,1:]#only use the feature and Label Colloums "
   ]
  },
  {
   "cell_type": "code",
   "execution_count": 125,
   "metadata": {},
   "outputs": [
    {
     "data": {
      "text/html": [
       "<div>\n",
       "<style scoped>\n",
       "    .dataframe tbody tr th:only-of-type {\n",
       "        vertical-align: middle;\n",
       "    }\n",
       "\n",
       "    .dataframe tbody tr th {\n",
       "        vertical-align: top;\n",
       "    }\n",
       "\n",
       "    .dataframe thead th {\n",
       "        text-align: right;\n",
       "    }\n",
       "</style>\n",
       "<table border=\"1\" class=\"dataframe\">\n",
       "  <thead>\n",
       "    <tr style=\"text-align: right;\">\n",
       "      <th></th>\n",
       "      <th>Rel_BreitGross</th>\n",
       "      <th>RelSpitze_oben</th>\n",
       "      <th>RelSpitze_unten</th>\n",
       "      <th>Anzahl_Linie</th>\n",
       "      <th>Anzahl_Ecken</th>\n",
       "      <th>Anzahl_Kreis</th>\n",
       "      <th>Label</th>\n",
       "    </tr>\n",
       "  </thead>\n",
       "  <tbody>\n",
       "    <tr>\n",
       "      <th>0</th>\n",
       "      <td>0.291153</td>\n",
       "      <td>0.009050</td>\n",
       "      <td>0.651584</td>\n",
       "      <td>9</td>\n",
       "      <td>2</td>\n",
       "      <td>0</td>\n",
       "      <td>0</td>\n",
       "    </tr>\n",
       "    <tr>\n",
       "      <th>1</th>\n",
       "      <td>0.338341</td>\n",
       "      <td>0.556122</td>\n",
       "      <td>0.750000</td>\n",
       "      <td>10</td>\n",
       "      <td>5</td>\n",
       "      <td>0</td>\n",
       "      <td>0</td>\n",
       "    </tr>\n",
       "    <tr>\n",
       "      <th>2</th>\n",
       "      <td>0.726178</td>\n",
       "      <td>0.985294</td>\n",
       "      <td>0.989496</td>\n",
       "      <td>6</td>\n",
       "      <td>8</td>\n",
       "      <td>0</td>\n",
       "      <td>0</td>\n",
       "    </tr>\n",
       "    <tr>\n",
       "      <th>3</th>\n",
       "      <td>0.316422</td>\n",
       "      <td>0.738397</td>\n",
       "      <td>0.616034</td>\n",
       "      <td>27</td>\n",
       "      <td>15</td>\n",
       "      <td>0</td>\n",
       "      <td>0</td>\n",
       "    </tr>\n",
       "    <tr>\n",
       "      <th>4</th>\n",
       "      <td>0.260098</td>\n",
       "      <td>0.175510</td>\n",
       "      <td>0.640816</td>\n",
       "      <td>15</td>\n",
       "      <td>8</td>\n",
       "      <td>0</td>\n",
       "      <td>0</td>\n",
       "    </tr>\n",
       "  </tbody>\n",
       "</table>\n",
       "</div>"
      ],
      "text/plain": [
       "   Rel_BreitGross  RelSpitze_oben  RelSpitze_unten  Anzahl_Linie  \\\n",
       "0        0.291153        0.009050         0.651584             9   \n",
       "1        0.338341        0.556122         0.750000            10   \n",
       "2        0.726178        0.985294         0.989496             6   \n",
       "3        0.316422        0.738397         0.616034            27   \n",
       "4        0.260098        0.175510         0.640816            15   \n",
       "\n",
       "   Anzahl_Ecken  Anzahl_Kreis  Label  \n",
       "0             2             0      0  \n",
       "1             5             0      0  \n",
       "2             8             0      0  \n",
       "3            15             0      0  \n",
       "4             8             0      0  "
      ]
     },
     "execution_count": 125,
     "metadata": {},
     "output_type": "execute_result"
    }
   ],
   "source": [
    "df.head()"
   ]
  },
  {
   "cell_type": "markdown",
   "metadata": {},
   "source": [
    "### Split the Data\n"
   ]
  },
  {
   "cell_type": "code",
   "execution_count": 126,
   "metadata": {},
   "outputs": [],
   "source": [
    "def train_test_split(df, test_size):\n",
    "    \n",
    "    if isinstance(test_size, float):\n",
    "        test_size = round(test_size * len(df))\n",
    "\n",
    "    indices = df.index.tolist()\n",
    "    test_indices = random.sample(population=indices, k=test_size)\n",
    "\n",
    "    test_df = df.loc[test_indices]\n",
    "    train_df = df.drop(test_indices)\n",
    "    \n",
    "    return train_df, test_df"
   ]
  },
  {
   "cell_type": "code",
   "execution_count": 127,
   "metadata": {},
   "outputs": [],
   "source": [
    "train_df,test_df=train_test_split(df,0.6)"
   ]
  },
  {
   "cell_type": "markdown",
   "metadata": {},
   "source": [
    "### Check if the Data is pure \n"
   ]
  },
  {
   "cell_type": "code",
   "execution_count": 128,
   "metadata": {},
   "outputs": [],
   "source": [
    "def check_purity(data): #Input is a numpy 2D arry \n",
    "    \n",
    "    label_column = data[:, -1]  # store the values of the label column\n",
    "    unique_classes = np.unique(label_column)#store all unique values in an arary \n",
    "\n",
    "    if len(unique_classes) == 1: #check if ther is only on class. Therfore it is unique\n",
    "        return True\n",
    "    else:\n",
    "        return False"
   ]
  },
  {
   "cell_type": "markdown",
   "metadata": {},
   "source": [
    "### clasify the Data"
   ]
  },
  {
   "cell_type": "code",
   "execution_count": 129,
   "metadata": {},
   "outputs": [],
   "source": [
    "def classify_data(data):#Input is a numpy 2D arry \n",
    "    \n",
    "    label_column = data[:, -1]   # store the values of the label column\n",
    "    unique_classes, counts_unique_classes = np.unique(label_column, return_counts=True)#returns a arry with the classes and one with the count of classes\n",
    "\n",
    "    index = counts_unique_classes.argmax()#returns the class witch appears the most \n",
    "    classification = unique_classes[index]\n",
    "    \n",
    "    return classification"
   ]
  },
  {
   "cell_type": "markdown",
   "metadata": {},
   "source": [
    "### Potential Splits\n"
   ]
  },
  {
   "cell_type": "code",
   "execution_count": 130,
   "metadata": {},
   "outputs": [],
   "source": [
    "def get_potential_splits(data): #Input is a numpy 2D arry \n",
    "    \n",
    "    potential_splits = {}\n",
    "    _, n_columns = data.shape\n",
    "    for column_index in range(n_columns - 1): # excluding the last column which is the label\n",
    "        values = data[:, column_index]\n",
    "        unique_values = np.unique(values)#store the unique values sorted \n",
    "        \n",
    "        potential_splits[column_index] = unique_values\n",
    "    \n",
    "    return potential_splits"
   ]
  },
  {
   "cell_type": "markdown",
   "metadata": {},
   "source": [
    "### Plot the potential Split in an Scatterplot "
   ]
  },
  {
   "cell_type": "code",
   "execution_count": 131,
   "metadata": {},
   "outputs": [
    {
     "name": "stderr",
     "output_type": "stream",
     "text": [
      "c:\\Users\\jonas\\Documents\\08_Master\\Python_Projekte\\Verfahren_der_KI\\KIProjekt\\env\\lib\\site-packages\\seaborn\\regression.py:581: UserWarning: The `size` parameter has been renamed to `height`; please update your code.\n",
      "  warnings.warn(msg, UserWarning)\n"
     ]
    },
    {
     "data": {
      "text/plain": [
       "<matplotlib.collections.LineCollection at 0x19350ed6280>"
      ]
     },
     "execution_count": 131,
     "metadata": {},
     "output_type": "execute_result"
    },
    {
     "data": {
      "image/png": "[encoded data removed]",
      "text/plain": [
       "<Figure size 689.625x432 with 1 Axes>"
      ]
     },
     "metadata": {},
     "output_type": "display_data"
    }
   ],
   "source": [
    "### TODO add to Data_vorbereitung \n",
    "potentialsplits=get_potential_splits(train_df.values) #get the potential Splits \n",
    "sns.lmplot(data=train_df,x=\"RelSpitze_unten\",y=\"Anzahl_Ecken\",fit_reg=False,hue=\"Label\",size=6,aspect=1.5) #Plot a scatterplot for two chosen columns \n",
    "plt.vlines(x=potentialsplits[4],ymin=7,ymax=80)#draw the potential Splits for the chosen row "
   ]
  },
  {
   "cell_type": "markdown",
   "metadata": {},
   "source": [
    "### Split the data \n"
   ]
  },
  {
   "cell_type": "code",
   "execution_count": 132,
   "metadata": {},
   "outputs": [],
   "source": [
    "def split_data(data, split_column, split_value):#check if the given data is below or above a given split_value \n",
    "    \n",
    "    split_column_values = data[:, split_column] #store all values of a chosen column \n",
    "\n",
    "    data_below = data[split_column_values <= split_value] #only choose the values that are above the split_value \n",
    "    data_above = data[split_column_values >  split_value] #only choose the values that are below the split_value \n",
    "    \n",
    "    return data_below, data_above"
   ]
  },
  {
   "cell_type": "markdown",
   "metadata": {},
   "source": [
    "### lowest Overall Entropy "
   ]
  },
  {
   "cell_type": "code",
   "execution_count": 133,
   "metadata": {},
   "outputs": [],
   "source": [
    "def calculate_entropy(data):\n",
    "    \n",
    "    label_column = data[:, -1]\n",
    "    _, counts = np.unique(label_column, return_counts=True) # count the unique values for each class \n",
    "\n",
    "    probabilities = counts / counts.sum() #calculate the probability for each class \n",
    "    entropy = sum(probabilities * -np.log2(probabilities)) #calculate the entropy \n",
    "     \n",
    "    return entropy"
   ]
  },
  {
   "cell_type": "code",
   "execution_count": 134,
   "metadata": {},
   "outputs": [],
   "source": [
    "def calculate_overall_entropy(data_below, data_above): \n",
    "    \n",
    "    n = len(data_below) + len(data_above) #count the total number of values \n",
    "    p_data_below = len(data_below) / n  #count the total number of the data_below \n",
    "    p_data_above = len(data_above) / n  #count the total number of the data_above \n",
    "\n",
    "    overall_entropy =  (p_data_below * calculate_entropy(data_below) #calculate the total entropy \n",
    "                      + p_data_above * calculate_entropy(data_above))\n",
    "    \n",
    "    return overall_entropy"
   ]
  },
  {
   "cell_type": "markdown",
   "metadata": {},
   "source": [
    "### find the best split based on the calculated entropy "
   ]
  },
  {
   "cell_type": "code",
   "execution_count": 135,
   "metadata": {},
   "outputs": [],
   "source": [
    "#calculate all the entropies for the potential splits and store the lowest one and the responding column and the split value \n",
    "def determine_best_split(data, potential_splits):\n",
    "    \n",
    "    overall_entropy = 9999\n",
    "    for column_index in potential_splits:\n",
    "        for value in potential_splits[column_index]:\n",
    "            data_below, data_above = split_data(data, split_column=column_index, split_value=value)\n",
    "            current_overall_entropy = calculate_overall_entropy(data_below, data_above)\n",
    "\n",
    "            if current_overall_entropy <= overall_entropy:\n",
    "                overall_entropy = current_overall_entropy\n",
    "                best_split_column = column_index\n",
    "                best_split_value = value\n",
    "    \n",
    "    return best_split_column, best_split_value"
   ]
  },
  {
   "cell_type": "code",
   "execution_count": 136,
   "metadata": {},
   "outputs": [
    {
     "data": {
      "text/plain": [
       "(4, 3.0)"
      ]
     },
     "execution_count": 136,
     "metadata": {},
     "output_type": "execute_result"
    }
   ],
   "source": [
    "potentialsplits=get_potential_splits(train_df.values)\n",
    "determine_best_split(train_df.values,potentialsplits)"
   ]
  },
  {
   "cell_type": "code",
   "execution_count": 137,
   "metadata": {},
   "outputs": [],
   "source": [
    "def determine_type_of_feature(df):\n",
    "    \n",
    "    feature_types = []\n",
    "    n_unique_values_treshold = 15\n",
    "    for feature in df.columns:\n",
    "        if feature != \"label\":\n",
    "            unique_values = df[feature].unique()\n",
    "            example_value = unique_values[0]\n",
    "\n",
    "            if (isinstance(example_value, str)) or (len(unique_values) <= n_unique_values_treshold):\n",
    "                feature_types.append(\"categorical\")\n",
    "            else:\n",
    "                feature_types.append(\"continuous\")\n",
    "    \n",
    "    return feature_types"
   ]
  },
  {
   "cell_type": "code",
   "execution_count": 138,
   "metadata": {},
   "outputs": [],
   "source": [
    "def decision_tree_algorithm(df, counter=0, min_samples=2, max_depth=5):\n",
    "    \n",
    "    # data preparations\n",
    "    if counter == 0:\n",
    "        global COLUMN_HEADERS, FEATURE_TYPES\n",
    "        COLUMN_HEADERS = df.columns\n",
    "        FEATURE_TYPES = determine_type_of_feature(df)\n",
    "        data = df.values\n",
    "    else:\n",
    "        data = df           \n",
    "    \n",
    "    \n",
    "    # base cases\n",
    "    if (check_purity(data)) or (len(data) < min_samples) or (counter == max_depth):\n",
    "        classification = classify_data(data)\n",
    "        \n",
    "        return classification\n",
    "\n",
    "    \n",
    "    # recursive part\n",
    "    else:    \n",
    "        counter += 1\n",
    "\n",
    "        # helper functions \n",
    "        potential_splits = get_potential_splits(data)\n",
    "        split_column, split_value = determine_best_split(data, potential_splits)\n",
    "        data_below, data_above = split_data(data, split_column, split_value)\n",
    "        \n",
    "        # check for empty data\n",
    "        if len(data_below) == 0 or len(data_above) == 0:\n",
    "            classification = classify_data(data)\n",
    "            return classification\n",
    "        \n",
    "        # determine question\n",
    "        feature_name = COLUMN_HEADERS[split_column]\n",
    "        type_of_feature = FEATURE_TYPES[split_column]\n",
    "        if type_of_feature == \"continuous\":\n",
    "            question = \"{} <= {}\".format(feature_name, split_value)\n",
    "            \n",
    "        # feature is categorical\n",
    "        else:\n",
    "            question = \"{} = {}\".format(feature_name, split_value)\n",
    "        \n",
    "        # instantiate sub-tree\n",
    "        sub_tree = {question: []}\n",
    "        \n",
    "        # find answers (recursion)\n",
    "        yes_answer = decision_tree_algorithm(data_below, counter, min_samples, max_depth)\n",
    "        no_answer = decision_tree_algorithm(data_above, counter, min_samples, max_depth)\n",
    "        \n",
    "        # If the answers are the same, then there is no point in asking the qestion.\n",
    "        # This could happen when the data is classified even though it is not pure\n",
    "        # yet (min_samples or max_depth base case).\n",
    "        if yes_answer == no_answer:\n",
    "            sub_tree = yes_answer\n",
    "        else:\n",
    "            sub_tree[question].append(yes_answer)\n",
    "            sub_tree[question].append(no_answer)\n",
    "        \n",
    "        return sub_tree"
   ]
  },
  {
   "cell_type": "code",
   "execution_count": 139,
   "metadata": {},
   "outputs": [
    {
     "name": "stdout",
     "output_type": "stream",
     "text": [
      "{'Anzahl_Ecken <= 3.0': [{'Anzahl_Linie <= 5.0': [{'Anzahl_Linie <= 4.0': [{'Anzahl_Kreis = 0.0': [{'RelSpitze_unten <= 0.9051490514905148': [{'RelSpitze_unten <= 0.6073170731707317': [{'RelSpitze_unten <= 0.3930041152263374': [{'Anzahl_Ecken <= 1.0': [1.0,\n",
      "                                                                                                                                                                                                                                                             0.0]},\n",
      "                                                                                                                                                                                                                                    1.0]},\n",
      "                                                                                                                                                                                         0.0]},\n",
      "                                                                                                                                              {'RelSpitze_oben <= 0.3545232273838631': [0.0,\n",
      "                                                                                                                                                                                        1.0]}]},\n",
      "                                                                                                   1.0]},\n",
      "                                                                           {'RelSpitze_unten <= 0.4488977955911823': [{'Anzahl_Ecken <= 2.0': [2.0,\n",
      "                                                                                                                                               1.0]},\n",
      "                                                                                                                      1.0]}]},\n",
      "                                                  {'Anzahl_Linie <= 8.0': [{'Rel_BreitGross <= 0.4563358222128897': [{'Rel_BreitGross <= 0.2081099548235121': [{'Anzahl_Linie <= 6.0': [2.0,\n",
      "                                                                                                                                                                                        0.0]},\n",
      "                                                                                                                                                               {'RelSpitze_oben <= 0.2024048096192384': [{'Anzahl_Ecken <= 2.0': [{'Anzahl_Ecken <= 1.0': [0.0,\n",
      "                                                                                                                                                                                                                                                           2.0]},\n",
      "                                                                                                                                                                                                                                  1.0]},\n",
      "                                                                                                                                                                                                         1.0]}]},\n",
      "                                                                                                                     2.0]},\n",
      "                                                                           {'RelSpitze_unten <= 0.5080321285140562': [{'Anzahl_Ecken <= 2.0': [1.0,\n",
      "                                                                                                                                               0.0]},\n",
      "                                                                                                                      {'Rel_BreitGross <= 0.3383356070941337': [{'Anzahl_Kreis = 0.0': [{'RelSpitze_unten <= 0.6129032258064516': [2.0,\n",
      "                                                                                                                                                                                                                                   {'RelSpitze_oben <= 0.9745762711864406': [0.0,\n",
      "                                                                                                                                                                                                                                                                             {'Anzahl_Linie <= 10.0': [0.0,\n",
      "                                                                                                                                                                                                                                                                                                       2.0]}]}]},\n",
      "                                                                                                                                                                                        1.0]},\n",
      "                                                                                                                                                                0.0]}]}]}]},\n",
      "                         {'RelSpitze_oben <= 0.910958904109589': [{'Rel_BreitGross <= 0.5017692026350846': [{'RelSpitze_oben <= 0.040084388185654': [{'Anzahl_Linie <= 16.0': [1.0,\n",
      "                                                                                                                                                                               2.0]},\n",
      "                                                                                                                                                     {'Anzahl_Linie <= 7.0': [{'RelSpitze_unten <= 0.9918032786885246': [{'RelSpitze_unten <= 0.9246575342465754': [{'RelSpitze_oben <= 0.2044088176352705': [1.0,\n",
      "                                                                                                                                                                                                                                                                                                              {'RelSpitze_oben <= 0.8831168831168831': [{'RelSpitze_unten <= 0.3473053892215569': [0.0,\n",
      "                                                                                                                                                                                                                                                                                                                                                                                                   2.0]},\n",
      "                                                                                                                                                                                                                                                                                                                                                        {'RelSpitze_unten <= 0.7362110311750599': [0.0,\n",
      "                                                                                                                                                                                                                                                                                                                                                                                                   2.0]}]}]},\n",
      "                                                                                                                                                                                                                                                                    1.0]},\n",
      "                                                                                                                                                                                                                         0.0]},\n",
      "                                                                                                                                                                              {'RelSpitze_oben <= 0.7383966244725738': [{'Anzahl_Linie <= 17.0': [{'RelSpitze_unten <= 0.5128205128205128': [2.0,\n",
      "                                                                                                                                                                                                                                                                                             {'RelSpitze_unten <= 0.8923076923076924': [0.0,\n",
      "                                                                                                                                                                                                                                                                                                                                        2.0]}]},\n",
      "                                                                                                                                                                                                                                                  0.0]},\n",
      "                                                                                                                                                                                                                        {'Anzahl_Ecken <= 17.0': [{'RelSpitze_unten <= 0.9947089947089948': [2.0,\n",
      "                                                                                                                                                                                                                                                                                             {'RelSpitze_oben <= 0.7532051282051282': [2.0,\n",
      "                                                                                                                                                                                                                                                                                                                                       0.0]}]},\n",
      "                                                                                                                                                                                                                                                  {'Anzahl_Kreis = 0.0': [2.0,\n",
      "                                                                                                                                                                                                                                                                          1.0]}]}]}]}]},\n",
      "                                                                                                            {'Rel_BreitGross <= 0.922080012405706': [{'RelSpitze_oben <= 0.8219512195121951': [{'RelSpitze_oben <= 0.3311688311688311': [2.0,\n",
      "                                                                                                                                                                                                                                         {'Anzahl_Ecken <= 6.0': [{'Anzahl_Linie <= 15.0': [{'RelSpitze_unten <= 0.3592436974789916': [2.0,\n",
      "                                                                                                                                                                                                                                                                                                                                       {'Anzahl_Kreis = 0.0': [0.0,\n",
      "                                                                                                                                                                                                                                                                                                                                                               2.0]}]},\n",
      "                                                                                                                                                                                                                                                                                            0.0]},\n",
      "                                                                                                                                                                                                                                                                  {'RelSpitze_oben <= 0.4107579462102689': [{'Anzahl_Linie <= 9.0': [0.0,\n",
      "                                                                                                                                                                                                                                                                                                                                     2.0]},\n",
      "                                                                                                                                                                                                                                                                                                            {'RelSpitze_unten <= 0.5596330275229358': [2.0,\n",
      "                                                                                                                                                                                                                                                                                                                                                       {'RelSpitze_oben <= 0.6472945891783567': [0.0,\n",
      "                                                                                                                                                                                                                                                                                                                                                                                                 2.0]}]}]}]}]},\n",
      "                                                                                                                                                                                               0.0]},\n",
      "                                                                                                                                                     {'Rel_BreitGross <= 0.9522865287297008': [1.0,\n",
      "                                                                                                                                                                                               {'Anzahl_Ecken <= 4.0': [0.0,\n",
      "                                                                                                                                                                                                                        2.0]}]}]}]},\n",
      "                                                                  {'Rel_BreitGross <= 0.3767546183317911': [{'Rel_BreitGross <= 0.3645833333333333': [{'Anzahl_Linie <= 8.0': [{'RelSpitze_oben <= 0.967391304347826': [2.0,\n",
      "                                                                                                                                                                                                                        {'Rel_BreitGross <= 0.3359095992743678': [1.0,\n",
      "                                                                                                                                                                                                                                                                  {'Anzahl_Ecken <= 5.0': [2.0,\n",
      "                                                                                                                                                                                                                                                                                           1.0]}]}]},\n",
      "                                                                                                                                                                               {'Rel_BreitGross <= 0.2474746029019802': [{'RelSpitze_unten <= 0.6460674157303371': [1.0,\n",
      "                                                                                                                                                                                                                                                                    2.0]},\n",
      "                                                                                                                                                                                                                         0.0]}]},\n",
      "                                                                                                                                                      2.0]},\n",
      "                                                                                                            {'Anzahl_Linie <= 6.0': [{'RelSpitze_oben <= 0.992248062015504': [{'RelSpitze_unten <= 0.9978448275862069': [{'RelSpitze_oben <= 0.9870410367170628': [{'Anzahl_Ecken <= 14.0': [{'RelSpitze_unten <= 0.5991902834008097': [1.0,\n",
      "                                                                                                                                                                                                                                                                                                                                        {'Anzahl_Linie <= 3.0': [0.0,\n",
      "                                                                                                                                                                                                                                                                                                                                                                 1.0]}]},\n",
      "                                                                                                                                                                                                                                                                                             1.0]},\n",
      "                                                                                                                                                                                                                                                                   0.0]},\n",
      "                                                                                                                                                                                                                         2.0]},\n",
      "                                                                                                                                                                              {'Anzahl_Ecken <= 11.0': [{'RelSpitze_unten <= 0.1478696741854636': [2.0,\n",
      "                                                                                                                                                                                                                                                   1.0]},\n",
      "                                                                                                                                                                                                        2.0]}]},\n",
      "                                                                                                                                     {'RelSpitze_unten <= 0.4188861985472155': [1.0,\n",
      "                                                                                                                                                                                {'Anzahl_Ecken <= 10.0': [{'RelSpitze_unten <= 0.8285714285714286': [0.0,\n",
      "                                                                                                                                                                                                                                                     {'RelSpitze_unten <= 0.8959537572254336': [2.0,\n",
      "                                                                                                                                                                                                                                                                                                0.0]}]},\n",
      "                                                                                                                                                                                                          2.0]}]}]}]}]}]}\n"
     ]
    }
   ],
   "source": [
    "tree=decision_tree_algorithm(train_df,max_depth=10)\n",
    "pprint(tree)"
   ]
  },
  {
   "cell_type": "markdown",
   "metadata": {},
   "source": [
    "### Classify a given example "
   ]
  },
  {
   "cell_type": "code",
   "execution_count": 148,
   "metadata": {},
   "outputs": [
    {
     "data": {
      "text/plain": [
       "Rel_BreitGross             0.39969\n",
       "RelSpitze_oben            0.988235\n",
       "RelSpitze_unten           0.564706\n",
       "Anzahl_Linie                    10\n",
       "Anzahl_Ecken                     4\n",
       "Anzahl_Kreis                     0\n",
       "Label                            0\n",
       "classification                 0.0\n",
       "classification_correct        True\n",
       "Name: 63, dtype: object"
      ]
     },
     "execution_count": 148,
     "metadata": {},
     "output_type": "execute_result"
    }
   ],
   "source": [
    "example=test_df.iloc[10]\n",
    "example"
   ]
  },
  {
   "cell_type": "code",
   "execution_count": 146,
   "metadata": {},
   "outputs": [],
   "source": [
    "def classify_example(example, tree):\n",
    "    question = list(tree.keys())[0]\n",
    "    feature_name, comparison_operator, value = question.split(\" \")\n",
    "\n",
    "    # ask question\n",
    "    if comparison_operator == \"<=\":  # feature is continuous\n",
    "        if example[feature_name] <= float(value):\n",
    "            answer = tree[question][0]\n",
    "        else:\n",
    "            answer = tree[question][1]\n",
    "    \n",
    "    # feature is categorical\n",
    "    else:\n",
    "        if str(example[feature_name]) == value:\n",
    "            answer = tree[question][0]\n",
    "        else:\n",
    "            answer = tree[question][1]\n",
    "\n",
    "    # base case\n",
    "    if not isinstance(answer, dict):\n",
    "        return answer\n",
    "    \n",
    "    # recursive part\n",
    "    else:\n",
    "        residual_tree = answer\n",
    "        return classify_example(example, residual_tree)"
   ]
  },
  {
   "cell_type": "code",
   "execution_count": 142,
   "metadata": {},
   "outputs": [
    {
     "data": {
      "text/plain": [
       "2.0"
      ]
     },
     "execution_count": 142,
     "metadata": {},
     "output_type": "execute_result"
    }
   ],
   "source": [
    "classify_example(example,tree)"
   ]
  },
  {
   "cell_type": "markdown",
   "metadata": {},
   "source": [
    "### Calculate the Accuracy"
   ]
  },
  {
   "cell_type": "code",
   "execution_count": 143,
   "metadata": {},
   "outputs": [],
   "source": [
    "def calculate_accuracy(df, tree):\n",
    "    \n",
    "    df[\"classification\"] = df.apply(classify_example, axis=1, args=(tree,))\n",
    "    df[\"classification_correct\"] = df[\"classification\"] == df[\"Label\"]\n",
    "    \n",
    "    accuracy = df[\"classification_correct\"].mean()\n",
    "    \n",
    "    return accuracy\n",
    "\n"
   ]
  },
  {
   "cell_type": "code",
   "execution_count": 144,
   "metadata": {},
   "outputs": [
    {
     "data": {
      "text/plain": [
       "0.5548654244306418"
      ]
     },
     "execution_count": 144,
     "metadata": {},
     "output_type": "execute_result"
    }
   ],
   "source": [
    "accuracy = calculate_accuracy(test_df, tree)\n",
    "accuracy"
   ]
  },
  {
   "cell_type": "code",
   "execution_count": null,
   "metadata": {},
   "outputs": [],
   "source": []
  }
 ],
 "metadata": {
  "interpreter": {
   "hash": "c551dc114b32d4ddc6af681dae58062c65c2dc9524da8427dc77f23f376f7293"
  },
  "kernelspec": {
   "display_name": "Python 3.9.9 64-bit ('env': venv)",
   "language": "python",
   "name": "python3"
  },
  "language_info": {
   "codemirror_mode": {
    "name": "ipython",
    "version": 3
   },
   "file_extension": ".py",
   "mimetype": "text/x-python",
   "name": "python",
   "nbconvert_exporter": "python",
   "pygments_lexer": "ipython3",
   "version": "3.9.9"
  },
  "orig_nbformat": 4
 },
 "nbformat": 4,
 "nbformat_minor": 2
}
