{
 "cells": [
  {
   "cell_type": "markdown",
   "metadata": {},
   "source": [
    "# Umwandlung Bilder in ein Dataframe\n",
    "\n",
    "Klasse \"imgorga\" von ricimg_to_table.py: lokalisiert die Bilder und wandelt gesammelte Feature-Vektoren der verschiedenen Bilder <br>\n",
    "Klasse \"preimg\" von ricpreimg.py: Kann mit verschieden Funktion gewünschte Features aus einem Bild extrahieren (mithilfe von Filtern und Algorithmen von cv2) <br>\n",
    "<br>\n",
    "\n",
    "Die Zelle selber sammelt für alle Bilder die Features und gibt am Ende eine csv.Datei für die Features aus\n"
   ]
  },
  {
   "cell_type": "code",
   "execution_count": null,
   "metadata": {},
   "outputs": [],
   "source": [
    "import ricimg_to_table as ricL\n",
    "import cv2\n",
    "import ricpreimg as ricP\n",
    "#imginfo = ricL.imgorga(\"Archiv\\\\KI_Hausarbeit_V2\\\\Bilder_KI\")\n",
    "imginfo = ricL.imgorga(\"Alle_Bilder\")\n",
    "imgextract = ricP.preimg()\n",
    "\n",
    "feature_names = [\"Rel_BreitGross\", \"RelSpitze_oben\",\"RelSpitze_unten\", \"Anzahl_Linie\",\"Anzahl_Ecken\",\n",
    "                \"Anzahl_Kreis\",\"Label\"]\n",
    "\n",
    "for idx,label in enumerate(imginfo.labels):\n",
    "    for img_path in imginfo.image_paths[idx]:\n",
    "        #print(img_path)\n",
    "        img = cv2.imread(img_path)\n",
    "\n",
    "        imgextract.setimg(img)\n",
    "        imgextract.calc_canny_cnts()\n",
    "\n",
    "        \"\"\"windowname = img_path\n",
    "        cv2.namedWindow(windowname, cv2.WINDOW_NORMAL)\n",
    "        cv2.namedWindow(\"draw\", cv2.WINDOW_NORMAL)\n",
    "        cv2.imshow(windowname,imgextract.imgdict[\"cannyimg\"])\n",
    "        imgextract.draw_image(\"cnts\")\n",
    "        cv2.imshow(\"draw\",imgextract.draw_img)\n",
    "        cv2.waitKey()\n",
    "        cv2.destroyAllWindows()\"\"\"\n",
    "\n",
    "        rel = imgextract.calc_rel_breitgroß_2()\n",
    "        spitzo, spitzu = imgextract.calc_rel_spitze()\n",
    "        line_count = imgextract.calc_canny_lines()\n",
    "        edge_count = imgextract.calc_edges()\n",
    "        circle_count = imgextract.calc_circles()\n",
    "\n",
    "        imginfo.collect_numeric_data([rel,spitzo,spitzu,line_count,edge_count,circle_count,idx])\n",
    "        \n",
    "pd_imgdata = imginfo.get_feature_names(feature_names)\n",
    "\n",
    "pd_imgdata.to_excel(\"Features.xlsx\")\n",
    "pd_imgdata.to_csv('Features.csv')"
   ]
  },
  {
   "cell_type": "markdown",
   "metadata": {},
   "source": [
    "Version 2 der oberen zelle mit enem Feature mehr und andere Vorgehnsweise um das Bild für die Features zu filtern"
   ]
  },
  {
   "cell_type": "code",
   "execution_count": null,
   "metadata": {},
   "outputs": [],
   "source": [
    "import ricimg_to_table as ricL\n",
    "import cv2\n",
    "import ricpreimg as ricP\n",
    "#imginfo = ricL.imgorga(\"Archiv\\\\KI_Hausarbeit_V2\\\\Bilder_KI\")\n",
    "imginfo = ricL.imgorga(\"Alle_Bilder\")\n",
    "imgextract = ricP.preimg()\n",
    "\n",
    "feature_names = [\"Rel_BreitGross\", \"RelSpitze_oben\",\"RelSpitze_unten\", \"Anzahl_Linie\",\"Anzahl_Ecken\",\n",
    "                \"Anzahl_Kreis\",\"innere_Konturen\",\"Label\"]\n",
    "\n",
    "for idx,label in enumerate(imginfo.labels):\n",
    "    for img_path in imginfo.image_paths[idx]:\n",
    "        #print(img_path)\n",
    "        img = cv2.imread(img_path)\n",
    "\n",
    "        imgextract.setimg(img)\n",
    "        imgextract.canny_filter2()\n",
    "\n",
    "        windowname = img_path\n",
    "        windowname2 = str(imgextract.imgdict[\"old_thres\"])\n",
    "        cv2.namedWindow(windowname, cv2.WINDOW_NORMAL)\n",
    "        cv2.namedWindow(windowname2, cv2.WINDOW_NORMAL)\n",
    "        cv2.imshow(windowname,imgextract.imgdict[\"cannyimg\"])\n",
    "        imgextract.draw_image(\"cnts\")\n",
    "        cv2.imshow(windowname2,imgextract.draw_img)\n",
    "        cv2.waitKey()\n",
    "        cv2.destroyAllWindows()\n",
    "\n",
    "        rel = imgextract.calc_rel_breitgroß_2()\n",
    "        spitzo, spitzu = imgextract.calc_rel_spitze()\n",
    "        line_count = imgextract.calc_canny_lines()\n",
    "        edge_count = imgextract.calc_edges()\n",
    "        circle_count = imgextract.calc_circles()\n",
    "        _,calc_inner_cnts_count = imgextract.calc_inner_cnts()\n",
    "\n",
    "        imginfo.collect_numeric_data([rel,spitzo,spitzu,line_count,edge_count,circle_count,calc_inner_cnts_count,idx])\n",
    "        \n",
    "pd_imgdata = imginfo.get_feature_names(feature_names)\n",
    "#pd_imgdata.to_excel(\"ricsData_small_v5.xlsx\")\n",
    "pd_imgdata.to_csv(\"ricsData_big_v5.csv\")"
   ]
  }
 ],
 "metadata": {
  "language_info": {
   "name": "python"
  },
  "orig_nbformat": 4
 },
 "nbformat": 4,
 "nbformat_minor": 2
}
