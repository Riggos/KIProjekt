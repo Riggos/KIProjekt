{
 "cells": [
  {
   "cell_type": "code",
   "execution_count": 32,
   "metadata": {},
   "outputs": [],
   "source": [
    "from sklearn.model_selection import train_test_split\n",
    "from sklearn.naive_bayes import GaussianNB\n",
    "import pandas as pd \n",
    "from sklearn import metrics\n"
   ]
  },
  {
   "cell_type": "code",
   "execution_count": 33,
   "metadata": {},
   "outputs": [],
   "source": [
    "def loadCsv(filename):\n",
    "    \n",
    "    df = pd.read_csv(filename, usecols=['Rel_BreitGross', 'RelSpitze_oben',\n",
    "                     'RelSpitze_unten', 'Anzahl_Linie', 'Anzahl_Kreis','Anzahl_Ecken', 'Label'])\n",
    "    dataset = df.values.tolist()\n",
    "\n",
    "    for i in range(len(dataset)):\n",
    "        dataset[i] = [float(x) for x in dataset[i]]\n",
    "    return dataset"
   ]
  },
  {
   "cell_type": "code",
   "execution_count": 34,
   "metadata": {},
   "outputs": [],
   "source": [
    "lines=loadCsv('ricsBigData.csv')\n",
    "dataset=pd.DataFrame(lines)\n",
    "#print(dataset.head())\n",
    "data=dataset.iloc[:,0:6]\n",
    "#print(data.head())\n",
    "label=dataset.iloc[:,6]\n",
    "#print(data.head())"
   ]
  },
  {
   "cell_type": "code",
   "execution_count": 35,
   "metadata": {},
   "outputs": [],
   "source": [
    "X_train,X_test,y_train,y_test =train_test_split(data,label,test_size=0.8,random_state=0)\n",
    "gnb = GaussianNB()\n",
    "y_pred = gnb.fit(X_train,y_train).predict(X_test)"
   ]
  },
  {
   "cell_type": "code",
   "execution_count": 36,
   "metadata": {},
   "outputs": [
    {
     "name": "stdout",
     "output_type": "stream",
     "text": [
      "              precision    recall  f1-score   support\n",
      "\n",
      "         0.0       0.36      0.65      0.46       189\n",
      "         1.0       0.65      0.30      0.41       236\n",
      "         2.0       0.59      0.53      0.56       219\n",
      "\n",
      "    accuracy                           0.48       644\n",
      "   macro avg       0.53      0.49      0.48       644\n",
      "weighted avg       0.54      0.48      0.47       644\n",
      "\n",
      "[[122  19  48]\n",
      " [134  70  32]\n",
      " [ 84  19 116]]\n"
     ]
    }
   ],
   "source": [
    "print(metrics.classification_report(y_test,y_pred))\n",
    "print(metrics.confusion_matrix(y_test,y_pred))"
   ]
  },
  {
   "cell_type": "code",
   "execution_count": null,
   "metadata": {},
   "outputs": [],
   "source": []
  }
 ],
 "metadata": {
  "interpreter": {
   "hash": "c551dc114b32d4ddc6af681dae58062c65c2dc9524da8427dc77f23f376f7293"
  },
  "kernelspec": {
   "display_name": "Python 3.9.9 64-bit ('env': venv)",
   "language": "python",
   "name": "python3"
  },
  "language_info": {
   "codemirror_mode": {
    "name": "ipython",
    "version": 3
   },
   "file_extension": ".py",
   "mimetype": "text/x-python",
   "name": "python",
   "nbconvert_exporter": "python",
   "pygments_lexer": "ipython3",
   "version": "3.9.9"
  },
  "orig_nbformat": 4
 },
 "nbformat": 4,
 "nbformat_minor": 2
}
