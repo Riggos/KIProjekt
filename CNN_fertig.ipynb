{
 "cells": [
  {
   "cell_type": "code",
   "execution_count": 92,
   "metadata": {},
   "outputs": [],
   "source": [
    "import os\n",
    "import numpy as np\n",
    "\n",
    "from tensorflow.keras.callbacks import TensorBoard\n",
    "from tensorflow.keras.models import Sequential\n",
    "from tensorflow.keras.layers import Dense, Dropout, Flatten\n",
    "from tensorflow.keras.layers import Conv2D, MaxPooling2D\n",
    "from sklearn.metrics import classification_report,confusion_matrix\n",
    "from sklearn.metrics import f1_score\n",
    "\n",
    "\n",
    "import cv2\n",
    "from tensorflow.keras.utils import to_categorical\n",
    "\n",
    "from matplotlib import pyplot as plt\n",
    "\n",
    "import Data_vorbereitung as D_v \n",
    "Data_preparation = D_v.Data_preparation()\n",
    "\n",
    "\n",
    "from sklearn.preprocessing import LabelEncoder\n",
    "import numpy as np"
   ]
  },
  {
   "cell_type": "code",
   "execution_count": 73,
   "metadata": {},
   "outputs": [
    {
     "name": "stdout",
     "output_type": "stream",
     "text": [
      "The autoreload extension is already loaded. To reload it, use:\n",
      "  %reload_ext autoreload\n"
     ]
    }
   ],
   "source": [
    "%load_ext autoreload\n",
    "%autoreload 2"
   ]
  },
  {
   "cell_type": "markdown",
   "metadata": {},
   "source": [
    "### Load the Data "
   ]
  },
  {
   "cell_type": "code",
   "execution_count": 74,
   "metadata": {},
   "outputs": [
    {
     "name": "stdout",
     "output_type": "stream",
     "text": [
      "Dosenoeffner\n"
     ]
    }
   ],
   "source": [
    "Images,Labels = Data_preparation.create_dataset(\"Meine_Bilder/\",100,100)\n",
    "\n",
    "print(Labels[0])\n"
   ]
  },
  {
   "cell_type": "code",
   "execution_count": 75,
   "metadata": {},
   "outputs": [],
   "source": [
    "Images_train,Images_test,Labels_train,Labels_test= Data_preparation.split_Image_data(Images,Labels,0.8)"
   ]
  },
  {
   "cell_type": "code",
   "execution_count": 76,
   "metadata": {},
   "outputs": [
    {
     "data": {
      "text/plain": [
       "(100, 100)"
      ]
     },
     "execution_count": 76,
     "metadata": {},
     "output_type": "execute_result"
    }
   ],
   "source": [
    "Images_train=np.asarray(Images_train)\n",
    "Images_train[0].shape"
   ]
  },
  {
   "cell_type": "code",
   "execution_count": 77,
   "metadata": {},
   "outputs": [
    {
     "name": "stdout",
     "output_type": "stream",
     "text": [
      "Shape Trainingsdaten: (67, 100, 100)\n",
      "Shape Testdaten: (17, 100, 100)\n",
      "Dimension Bild Nr. 5: (100, 100)\n",
      "Label zu Bild Nr. 5 Dosenoeffner\n"
     ]
    }
   ],
   "source": [
    "print(\"Shape Trainingsdaten: {}\".format(Images_train.shape))\n",
    "print(\"Shape Testdaten: {}\".format(Images_test.shape))\n",
    "print(\"Dimension Bild Nr. 5: {}\".format(Images_train[5].shape))\n",
    "print(\"Label zu Bild Nr. 5 {}\".format(Labels_train[5]))\n",
    "cv2.namedWindow(\"open33\", cv2.WINDOW_NORMAL)\n",
    "cv2.imshow('open33',Images[10])\n",
    "cv2.waitKey()\n",
    "cv2.destroyAllWindows()"
   ]
  },
  {
   "cell_type": "code",
   "execution_count": 78,
   "metadata": {},
   "outputs": [],
   "source": [
    "len_Test_data=len(Images_test)\n",
    "len_Train_data=len(Images_train)\n",
    "\n",
    "\n",
    "train_images = Images_train.reshape(len_Train_data, 100, 100, 1)\n",
    "train_images = train_images.astype('float32')\n",
    "train_images /= 255\n",
    "\n",
    "test_images = Images_test.reshape(len_Test_data, 100, 100, 1)\n",
    "test_images = test_images.astype('float32')\n",
    "test_images /= 255\n",
    "\n",
    "\n",
    "\n",
    "\"\"\"\n",
    "for i in range(len(Labels_train)):\n",
    "    if Labels_train[i]==\"Dosenoeffner\":\n",
    "        Labels_train[i]=0\n",
    "    elif Labels_train[i]==\"Flaschenoeffner\":\n",
    "        Labels_train[i]=1\n",
    "    else:\n",
    "        Labels_train[i]==\"Korkenzieher\"\n",
    "        Labels_train[i]=2\n",
    "\n",
    "for i in range(len(Labels_test)):\n",
    "    if Labels_test[i]==\"Dosenoeffner\":\n",
    "        Labels_test[i]=0\n",
    "    elif Labels_test[i]==\"Flaschenoeffner\":\n",
    "        Labels_test[i]=1\n",
    "    else:\n",
    "        Labels_test[i]==\"Korkenzieher\"\n",
    "        Labels_test[i]=2\n",
    "\"\"\"       \n",
    "Labels_test=np.array(Labels_test)\n",
    "Labels_train=np.array(Labels_train)\n",
    "label_encoder=LabelEncoder()\n",
    "Labels_test=label_encoder.fit_transform(Labels_test)\n",
    "Labels_train=label_encoder.fit_transform(Labels_train)\n",
    "\n",
    "Labels_train=to_categorical(Labels_train)\n",
    "Labels_test=to_categorical(Labels_test)\n",
    "\n",
    "NrTrainimages = train_images.shape[0]\n",
    "NrTestimages = test_images.shape[0]\n"
   ]
  },
  {
   "cell_type": "code",
   "execution_count": 79,
   "metadata": {},
   "outputs": [
    {
     "name": "stdout",
     "output_type": "stream",
     "text": [
      "Trainingsdatensatz:(67, 100, 100, 1)\n",
      "Testdatensatz:(17, 100, 100, 1)\n",
      "Wir haben 67 Trainingsbilder und 17 Testbilder.\n"
     ]
    }
   ],
   "source": [
    "print(\"Trainingsdatensatz:{}\".format(train_images.shape))\n",
    "print(\"Testdatensatz:{}\".format(test_images.shape))\n",
    "\n",
    "print(\"Wir haben {} Trainingsbilder und {} Testbilder.\".format(NrTrainimages, NrTestimages))"
   ]
  },
  {
   "cell_type": "code",
   "execution_count": 80,
   "metadata": {},
   "outputs": [
    {
     "data": {
      "image/png": "[encoded data removed]",
      "text/plain": [
       "<Figure size 432x288 with 1 Axes>"
      ]
     },
     "metadata": {
      "needs_background": "light"
     },
     "output_type": "display_data"
    }
   ],
   "source": [
    "%matplotlib inline\n",
    "import matplotlib.pyplot as plt\n",
    "import random\n",
    "\n",
    "randindex = random.randint(0,len_Train_data)\n",
    "plttitle = \"Trainingsbild Nr. {} \\n Klasse: {}\".format(randindex,Labels_train[randindex])\n",
    "plt.imshow(train_images[randindex].reshape(100,100), cmap='gray')\n",
    "plt.title(plttitle)\n",
    "plt.axis('off')\n",
    "plt.show()\n"
   ]
  },
  {
   "cell_type": "code",
   "execution_count": 81,
   "metadata": {},
   "outputs": [
    {
     "name": "stdout",
     "output_type": "stream",
     "text": [
      "Model: \"sequential_3\"\n",
      "_________________________________________________________________\n",
      " Layer (type)                Output Shape              Param #   \n",
      "=================================================================\n",
      " conv2d_6 (Conv2D)           (None, 96, 96, 32)        832       \n",
      "                                                                 \n",
      " max_pooling2d_6 (MaxPooling  (None, 48, 48, 32)       0         \n",
      " 2D)                                                             \n",
      "                                                                 \n",
      " conv2d_7 (Conv2D)           (None, 44, 44, 64)        51264     \n",
      "                                                                 \n",
      " max_pooling2d_7 (MaxPooling  (None, 22, 22, 64)       0         \n",
      " 2D)                                                             \n",
      "                                                                 \n",
      " dropout_6 (Dropout)         (None, 22, 22, 64)        0         \n",
      "                                                                 \n",
      " flatten_3 (Flatten)         (None, 30976)             0         \n",
      "                                                                 \n",
      " features (Dense)            (None, 128)               3965056   \n",
      "                                                                 \n",
      " dropout_7 (Dropout)         (None, 128)               0         \n",
      "                                                                 \n",
      " dense_6 (Dense)             (None, 64)                8256      \n",
      "                                                                 \n",
      " dense_7 (Dense)             (None, 3)                 195       \n",
      "                                                                 \n",
      "=================================================================\n",
      "Total params: 4,025,603\n",
      "Trainable params: 4,025,603\n",
      "Non-trainable params: 0\n",
      "_________________________________________________________________\n"
     ]
    }
   ],
   "source": [
    "# Die Netzwerkarchitektur\n",
    "model = Sequential()\n",
    "\n",
    "# Das Format der Eingabedaten wird an das erste Layer übergeben\n",
    "mnist_inputshape = train_images.shape[1:4]\n",
    "\n",
    "# Kodierungsblock\n",
    "model.add(Conv2D(32, kernel_size=(5,5), \n",
    "      activation = 'relu',\n",
    "      input_shape=mnist_inputshape))\n",
    "model.add(MaxPooling2D(pool_size=(2,2)))\n",
    "# Conv_Block 2\n",
    "model.add(Conv2D(64, kernel_size=(5,5),activation= 'relu'))\n",
    "model.add(MaxPooling2D(pool_size=(2,2)))\n",
    "model.add(Dropout(0.5))\n",
    "\n",
    "# Prädiktionssblock\n",
    "model.add(Flatten())\n",
    "model.add(Dense(128, activation='relu', name='features'))\n",
    "model.add(Dropout(0.5))\n",
    "model.add(Dense(64, activation='relu'))\n",
    "model.add(Dense(3,activation='softmax'))\n",
    "model.summary()\n"
   ]
  },
  {
   "cell_type": "code",
   "execution_count": 82,
   "metadata": {},
   "outputs": [],
   "source": [
    "model.compile(loss='categorical_crossentropy',\n",
    "             optimizer='Adam',\n",
    "             metrics=['accuracy'])"
   ]
  },
  {
   "cell_type": "code",
   "execution_count": 83,
   "metadata": {},
   "outputs": [
    {
     "name": "stdout",
     "output_type": "stream",
     "text": [
      "Epoch 1/5\n",
      "1/1 [==============================] - 1s 882ms/step - loss: 1.0986 - accuracy: 0.3284 - val_loss: 1.0812 - val_accuracy: 0.7647\n",
      "Epoch 2/5\n",
      "1/1 [==============================] - 0s 358ms/step - loss: 1.0861 - accuracy: 0.6269 - val_loss: 0.9829 - val_accuracy: 0.7647\n",
      "Epoch 3/5\n",
      "1/1 [==============================] - 0s 388ms/step - loss: 1.0260 - accuracy: 0.6269 - val_loss: 0.8078 - val_accuracy: 0.7647\n",
      "Epoch 4/5\n",
      "1/1 [==============================] - 0s 369ms/step - loss: 0.9286 - accuracy: 0.6269 - val_loss: 0.7084 - val_accuracy: 0.7647\n",
      "Epoch 5/5\n",
      "1/1 [==============================] - 0s 356ms/step - loss: 0.9995 - accuracy: 0.6269 - val_loss: 0.7084 - val_accuracy: 0.7647\n"
     ]
    }
   ],
   "source": [
    "# TensorBoard - Vorbereitung\n",
    "LOGDIR = \"logs\" # hier das eigene Verzeichnis angeben\n",
    "my_tensorboard = TensorBoard(log_dir = LOGDIR,\n",
    "      histogram_freq=0,\n",
    "      write_graph=True,\n",
    "      write_images=True)\n",
    "# Hyperparameter\n",
    "my_batch_size = 128\n",
    "my_num_classes = 3\n",
    "my_epochs = 5\n",
    "\n",
    "history = model.fit(train_images, Labels_train,\n",
    "      batch_size=my_batch_size,\n",
    "      callbacks=[my_tensorboard],\n",
    "      epochs=my_epochs,\n",
    "      use_multiprocessing=False,\n",
    "      verbose=1,\n",
    "      validation_data=(test_images, Labels_test))\n"
   ]
  },
  {
   "cell_type": "code",
   "execution_count": 84,
   "metadata": {},
   "outputs": [
    {
     "name": "stdout",
     "output_type": "stream",
     "text": [
      "1/1 [==============================] - 0s 36ms/step - loss: 0.7084 - accuracy: 0.7647\n",
      "Test Verlust: 0.7084380984306335\n",
      "Test Genauigkeit: 0.7647058963775635\n"
     ]
    }
   ],
   "source": [
    "score = model.evaluate(test_images, Labels_test)\n",
    "print('Test Verlust:', score[0])\n",
    "print('Test Genauigkeit:', score[1])"
   ]
  },
  {
   "cell_type": "code",
   "execution_count": 85,
   "metadata": {},
   "outputs": [
    {
     "data": {
      "image/png": "[encoded data removed]",
      "text/plain": [
       "<Figure size 432x288 with 1 Axes>"
      ]
     },
     "metadata": {
      "needs_background": "light"
     },
     "output_type": "display_data"
    }
   ],
   "source": [
    "prediction = model.predict(Images_test)\n",
    "randindex = random.randint(0,len(Images_test))\n",
    "# Die Funktion argmax() liefert uns den index des höchsten Werts des Ergebnisvektors\n",
    "CNN = prediction[randindex].argmax()\n",
    "plttitle = \"Testbild Nr. {} \\n CNN Klasse: {}\".format(randindex,CNN)\n",
    "plt.imshow(test_images[randindex].reshape(100,100), cmap='gray')\n",
    "plt.title(plttitle)\n",
    "plt.axis('off')\n",
    "plt.show()"
   ]
  },
  {
   "cell_type": "code",
   "execution_count": 86,
   "metadata": {},
   "outputs": [
    {
     "name": "stdout",
     "output_type": "stream",
     "text": [
      "dict_keys(['loss', 'accuracy', 'val_loss', 'val_accuracy'])\n"
     ]
    }
   ],
   "source": [
    "print(history.history.keys())"
   ]
  },
  {
   "cell_type": "code",
   "execution_count": 87,
   "metadata": {},
   "outputs": [
    {
     "data": {
      "image/png": "[encoded data removed]",
      "text/plain": [
       "<Figure size 432x288 with 1 Axes>"
      ]
     },
     "metadata": {
      "needs_background": "light"
     },
     "output_type": "display_data"
    },
    {
     "data": {
      "image/png": "[encoded data removed]",
      "text/plain": [
       "<Figure size 432x288 with 1 Axes>"
      ]
     },
     "metadata": {
      "needs_background": "light"
     },
     "output_type": "display_data"
    }
   ],
   "source": [
    "acc=history.history['accuracy']\n",
    "val_acc=history.history['val_accuracy']\n",
    "loss=history.history['loss']\n",
    "val_loss=history.history['val_loss']\n",
    "\n",
    "epochs = range(len(acc))\n",
    "\n",
    "plt.plot(epochs, acc, 'bo', label='Trainingsgenauigkeit')\n",
    "plt.plot(epochs, val_acc, 'b', label='Validierungsgenauigkeit')\n",
    "plt.title('Trainings- und Validierungsgenauigkeit')\n",
    "plt.legend()\n",
    "\n",
    "plt.figure()\n",
    "\n",
    "plt.plot(epochs, loss, 'bo', label='Trainings Loss')\n",
    "plt.plot(epochs, val_loss, 'b', label='Validierungs loss')\n",
    "plt.title('Trainings und Validierungs Loss')\n",
    "plt.legend()\n",
    "\n",
    "plt.show()"
   ]
  },
  {
   "cell_type": "code",
   "execution_count": null,
   "metadata": {},
   "outputs": [],
   "source": []
  },
  {
   "cell_type": "code",
   "execution_count": null,
   "metadata": {},
   "outputs": [],
   "source": [
    "\n"
   ]
  },
  {
   "cell_type": "code",
   "execution_count": null,
   "metadata": {},
   "outputs": [],
   "source": []
  }
 ],
 "metadata": {
  "interpreter": {
   "hash": "c551dc114b32d4ddc6af681dae58062c65c2dc9524da8427dc77f23f376f7293"
  },
  "kernelspec": {
   "display_name": "Python 3.9.9 64-bit ('env': venv)",
   "language": "python",
   "name": "python3"
  },
  "language_info": {
   "codemirror_mode": {
    "name": "ipython",
    "version": 3
   },
   "file_extension": ".py",
   "mimetype": "text/x-python",
   "name": "python",
   "nbconvert_exporter": "python",
   "pygments_lexer": "ipython3",
   "version": "3.9.9"
  },
  "orig_nbformat": 4
 },
 "nbformat": 4,
 "nbformat_minor": 2
}
