{
 "cells": [
  {
   "cell_type": "code",
   "execution_count": 12,
   "metadata": {},
   "outputs": [],
   "source": [
    "import numpy as np \n",
    "import pandas as pd \n",
    "\n",
    "import random \n",
    "from pprint import pprint \n",
    "\n",
    "import Data_vorbereitung as DV \n",
    "DP =DV.Data_preparation()\n",
    "\n",
    "\n",
    "\n",
    "import Random_Forrest_class as RF \n",
    "RF_class=RF.Random_Forrest_class()"
   ]
  },
  {
   "cell_type": "markdown",
   "metadata": {},
   "source": [
    "### Load the Dataset "
   ]
  },
  {
   "cell_type": "code",
   "execution_count": 13,
   "metadata": {},
   "outputs": [
    {
     "data": {
      "text/html": [
       "<div>\n",
       "<style scoped>\n",
       "    .dataframe tbody tr th:only-of-type {\n",
       "        vertical-align: middle;\n",
       "    }\n",
       "\n",
       "    .dataframe tbody tr th {\n",
       "        vertical-align: top;\n",
       "    }\n",
       "\n",
       "    .dataframe thead th {\n",
       "        text-align: right;\n",
       "    }\n",
       "</style>\n",
       "<table border=\"1\" class=\"dataframe\">\n",
       "  <thead>\n",
       "    <tr style=\"text-align: right;\">\n",
       "      <th></th>\n",
       "      <th>Rel_BreitGross</th>\n",
       "      <th>RelSpitze_oben</th>\n",
       "      <th>RelSpitze_unten</th>\n",
       "      <th>Anzahl_Linie</th>\n",
       "      <th>Anzahl_Ecken</th>\n",
       "      <th>Anzahl_Kreis</th>\n",
       "      <th>innere_Konturen</th>\n",
       "      <th>Label</th>\n",
       "    </tr>\n",
       "  </thead>\n",
       "  <tbody>\n",
       "    <tr>\n",
       "      <th>0</th>\n",
       "      <td>0.288606</td>\n",
       "      <td>0.074919</td>\n",
       "      <td>0.618893</td>\n",
       "      <td>6</td>\n",
       "      <td>1</td>\n",
       "      <td>0</td>\n",
       "      <td>0.716694</td>\n",
       "      <td>0</td>\n",
       "    </tr>\n",
       "    <tr>\n",
       "      <th>1</th>\n",
       "      <td>0.494050</td>\n",
       "      <td>0.685185</td>\n",
       "      <td>0.634259</td>\n",
       "      <td>5</td>\n",
       "      <td>7</td>\n",
       "      <td>0</td>\n",
       "      <td>0.163891</td>\n",
       "      <td>0</td>\n",
       "    </tr>\n",
       "    <tr>\n",
       "      <th>2</th>\n",
       "      <td>0.497540</td>\n",
       "      <td>0.986384</td>\n",
       "      <td>0.989410</td>\n",
       "      <td>15</td>\n",
       "      <td>8</td>\n",
       "      <td>0</td>\n",
       "      <td>0.169400</td>\n",
       "      <td>0</td>\n",
       "    </tr>\n",
       "    <tr>\n",
       "      <th>3</th>\n",
       "      <td>0.480687</td>\n",
       "      <td>0.714286</td>\n",
       "      <td>0.592262</td>\n",
       "      <td>21</td>\n",
       "      <td>6</td>\n",
       "      <td>0</td>\n",
       "      <td>0.085573</td>\n",
       "      <td>0</td>\n",
       "    </tr>\n",
       "    <tr>\n",
       "      <th>4</th>\n",
       "      <td>0.322937</td>\n",
       "      <td>0.159763</td>\n",
       "      <td>0.633136</td>\n",
       "      <td>21</td>\n",
       "      <td>3</td>\n",
       "      <td>0</td>\n",
       "      <td>0.038672</td>\n",
       "      <td>0</td>\n",
       "    </tr>\n",
       "  </tbody>\n",
       "</table>\n",
       "</div>"
      ],
      "text/plain": [
       "   Rel_BreitGross  RelSpitze_oben  RelSpitze_unten  Anzahl_Linie  \\\n",
       "0        0.288606        0.074919         0.618893             6   \n",
       "1        0.494050        0.685185         0.634259             5   \n",
       "2        0.497540        0.986384         0.989410            15   \n",
       "3        0.480687        0.714286         0.592262            21   \n",
       "4        0.322937        0.159763         0.633136            21   \n",
       "\n",
       "   Anzahl_Ecken  Anzahl_Kreis  innere_Konturen  Label  \n",
       "0             1             0         0.716694      0  \n",
       "1             7             0         0.163891      0  \n",
       "2             8             0         0.169400      0  \n",
       "3             6             0         0.085573      0  \n",
       "4             3             0         0.038672      0  "
      ]
     },
     "execution_count": 13,
     "metadata": {},
     "output_type": "execute_result"
    }
   ],
   "source": [
    "df = DP.load_csv_to_df(\"ricsData_big_v5.csv\")\n",
    "df.head()\n"
   ]
  },
  {
   "cell_type": "markdown",
   "metadata": {},
   "source": [
    "### Show the distribution over the diffrent classes "
   ]
  },
  {
   "cell_type": "code",
   "execution_count": 14,
   "metadata": {},
   "outputs": [
    {
     "data": {
      "text/plain": [
       "Flaschenoeffner    289\n",
       "Korkenzieher       276\n",
       "Dosenoeffner       240\n",
       "Name: Label, dtype: int64"
      ]
     },
     "execution_count": 14,
     "metadata": {},
     "output_type": "execute_result"
    },
    {
     "data": {
      "image/png": "[encoded data removed]",
      "text/plain": [
       "<Figure size 432x288 with 1 Axes>"
      ]
     },
     "metadata": {
      "needs_background": "light"
     },
     "output_type": "display_data"
    }
   ],
   "source": [
    "Label = df.Label.value_counts(normalize=False) # count all values in the Label column \n",
    "Label = Label.sort_index()  # sort the Labels after their class \n",
    "\n",
    "# replace the integer Value of the class with the class name \n",
    "def transform_label(value):\n",
    "    if value==0:\n",
    "        return\"Dosenoeffner\"\n",
    "    elif value ==1:\n",
    "        return\"Flaschenoeffner\"\n",
    "    else:\n",
    "        return \"Korkenzieher\"\n",
    "\n",
    "df[\"Label\"]=df.Label.apply(transform_label)# change the integer to the string value \n",
    "Label = df.Label.value_counts(normalize=False)\n",
    "Label[[\"Dosenoeffner\",\"Flaschenoeffner\",\"Korkenzieher\"]].plot(kind=\"bar\")\n",
    "Label "
   ]
  },
  {
   "cell_type": "code",
   "execution_count": 15,
   "metadata": {},
   "outputs": [],
   "source": [
    "random.seed(0)\n",
    "train_df, test_df = RF_class.train_test_split(df, test_size=0.2)"
   ]
  },
  {
   "cell_type": "code",
   "execution_count": 16,
   "metadata": {},
   "outputs": [],
   "source": [
    "def bootstrapping(train_df,n_bootstrap):\n",
    "    bootstraps_indices =np.random.randint(low=0,high=len(train_df),size=n_bootstrap)\n",
    "    df_bootstrapped =train_df.iloc[bootstraps_indices]\n",
    "    \n",
    "    return df_bootstrapped\n",
    "    "
   ]
  },
  {
   "cell_type": "code",
   "execution_count": 17,
   "metadata": {},
   "outputs": [],
   "source": [
    "def random_forrest_algorithm(train_df,n_trees,n_bootstrap,n_features,dt_max_depth):\n",
    "    forest=[]\n",
    "    for i in range(n_trees):\n",
    "        df_bootstrapped=bootstrapping(train_df,n_bootstrap)\n",
    "        tree=RF_class.decision_tree_algorithm(df_bootstrapped,max_depth=dt_max_depth,random_subspace=n_features)\n",
    "        forest.append(tree)\n",
    "    \n",
    "    return forest\n"
   ]
  },
  {
   "cell_type": "code",
   "execution_count": null,
   "metadata": {},
   "outputs": [],
   "source": []
  },
  {
   "cell_type": "code",
   "execution_count": 18,
   "metadata": {},
   "outputs": [],
   "source": [
    "def random_forrest_predictions(test_df,forest):\n",
    "    df_predictions={}\n",
    "    for i in range(len(forest)):\n",
    "        column_name=\"tree{}\".format(i)\n",
    "        predictions= RF_class.decision_tree_predictions(test_df,tree=forest[i])\n",
    "        df_predictions[column_name] = predictions\n",
    "        \n",
    "        \n",
    "    df_predictions=pd.DataFrame(df_predictions)\n",
    "    random_forest_predicitons = df_predictions.mode(axis=1)[0] # return the prediction that appears the most \n",
    "    \n",
    "    return random_forest_predicitons"
   ]
  },
  {
   "cell_type": "code",
   "execution_count": 21,
   "metadata": {},
   "outputs": [
    {
     "name": "stdout",
     "output_type": "stream",
     "text": [
      "0.639751552795031\n",
      "0.6894409937888198\n",
      "0.6894409937888198\n",
      "0.7018633540372671\n",
      "0.6583850931677019\n",
      "0.6335403726708074\n",
      "0.7018633540372671\n",
      "0.6770186335403726\n",
      "0.6832298136645962\n",
      "0.5900621118012422\n",
      "average accuracy: 0.6664596273291925\n"
     ]
    }
   ],
   "source": [
    "accuracies=[]\n",
    "\n",
    "for i in range(10):\n",
    "    forest=RF_class.random_forrest_algorithm(train_df, n_trees=5,n_bootstrap=600,dt_max_depth=10,n_features=4)\n",
    "    predictions = RF_class.random_forrest_predictions(test_df,forest) \n",
    "    accuracy = RF_class.calculate_accuracy2(predictions,test_df.Label)\n",
    "    print(accuracy)\n",
    "    accuracies.append(accuracy)\n",
    "\n",
    "print(\"average accuracy: {}\".format(np.array(accuracies).mean()))"
   ]
  },
  {
   "cell_type": "code",
   "execution_count": null,
   "metadata": {},
   "outputs": [],
   "source": []
  }
 ],
 "metadata": {
  "interpreter": {
   "hash": "c551dc114b32d4ddc6af681dae58062c65c2dc9524da8427dc77f23f376f7293"
  },
  "kernelspec": {
   "display_name": "Python 3.9.9 64-bit ('env': venv)",
   "language": "python",
   "name": "python3"
  },
  "language_info": {
   "codemirror_mode": {
    "name": "ipython",
    "version": 3
   },
   "file_extension": ".py",
   "mimetype": "text/x-python",
   "name": "python",
   "nbconvert_exporter": "python",
   "pygments_lexer": "ipython3",
   "version": "3.9.9"
  },
  "orig_nbformat": 4
 },
 "nbformat": 4,
 "nbformat_minor": 2
}
