{
 "cells": [
  {
   "cell_type": "code",
   "execution_count": null,
   "metadata": {},
   "outputs": [],
   "source": [
    "\n",
    "import numpy as np\n",
    "import cv2 \n",
    "\n",
    "Bild = cv2.imread('kz2.jpeg')\n",
    "gray = cv2.cvtColor(Bild, cv2.COLOR_BGR2GRAY)\n",
    "image = cv2.GaussianBlur(gray, (9,9), 0)\n",
    "canny_img= cv2.Canny(image=image, threshold1=8,threshold2=255)\n",
    "\n",
    "Groesse= cv2.getStructuringElement(cv2.MORPH_ELLIPSE,(5,5))\n",
    "dil_img = cv2.dilate(canny_img,Groesse,iterations = 6)\n",
    "height, width = image.shape\n",
    "\n",
    "cnts1= cv2.findContours(dil_img, cv2.RETR_EXTERNAL, cv2.CHAIN_APPROX_SIMPLE)\n",
    "cnts = cnts1[0] if len(cnts1) == 2 else cnts1[1]\n",
    "c = max(cnts, key=cv2.contourArea)\n",
    "\n",
    "cv2.drawContours(Bild, [c], -1, (36, 255, 12), 10)\n",
    "\n",
    "\n",
    "cv2.namedWindow(\"open33\", cv2.WINDOW_NORMAL)\n",
    "cv2.imshow('open33',dil_img)\n",
    "cv2.waitKey(0)\n",
    "cv2.destroyAllWindows()"
   ]
  },
  {
   "cell_type": "code",
   "execution_count": null,
   "metadata": {},
   "outputs": [],
   "source": [
    "import numpy as np\n",
    "dingo = (5,-5)\n",
    "lala = (3,2)\n",
    "\n",
    "ts = np.subtract(dingo, lala) \n",
    "print(np.positive(ts))\n",
    "print (np.absolute(ts))"
   ]
  },
  {
   "cell_type": "markdown",
   "metadata": {},
   "source": [
    "%load_ext autoreload\n",
    "%autoreload 2"
   ]
  },
  {
   "cell_type": "code",
   "execution_count": 9,
   "metadata": {},
   "outputs": [],
   "source": [
    "import cv2\n",
    "import ricpreimg as rimg\n",
    "\n",
    "test = cv2.imread(\"c:\\\\Hochschule\\\\WS21_22\\\\KI1\\\\Programme\\\\Vorles_tensorflow\\\\Aufgabe\\\\Meine_Bilder\\\\Flaschenoeffner\\\\WhatsApp Image 2021-12-29 at 17.55.23 (7).jpeg\")\n",
    "dingo = rimg.preimg()\n",
    "dingo.setimg(test)\n",
    "dingo.calc_canny_cnts()\n",
    "rel = dingo.calc_rel_breitgroß()\n",
    "spizo, spitzu = dingo.calc_rel_spitze()\n",
    "dinos = dingo.calc_canny_lines()\n",
    "circlos = dingo.calc_circles()\n",
    "#dingo.draw_image()\n"
   ]
  },
  {
   "cell_type": "code",
   "execution_count": 16,
   "metadata": {},
   "outputs": [],
   "source": [
    "\n",
    "\n",
    "cv2.namedWindow(\"open33\", cv2.WINDOW_NORMAL)\n",
    "cv2.imshow('open33',dingo.draw_img)\n",
    "cv2.waitKey()\n",
    "cv2.destroyAllWindows()"
   ]
  },
  {
   "cell_type": "code",
   "execution_count": 1,
   "metadata": {},
   "outputs": [],
   "source": [
    "\n",
    "import os\n",
    "import ricimg_to_table as iit\n",
    "\n",
    "onlyfiles = os.listdir()\n",
    "test = os.getcwd()\n",
    "te = iit.imgorga(\"Meine_Bilder\")\n",
    "test2 = te.labels\n",
    "test3 = te.image_paths"
   ]
  },
  {
   "cell_type": "code",
   "execution_count": 16,
   "metadata": {},
   "outputs": [
    {
     "ename": "SyntaxError",
     "evalue": "invalid syntax (Temp/ipykernel_1300/4036932277.py, line 1)",
     "output_type": "error",
     "traceback": [
      "\u001b[1;36m  File \u001b[1;32m\"C:\\Users\\ric\\AppData\\Local\\Temp/ipykernel_1300/4036932277.py\"\u001b[1;36m, line \u001b[1;32m1\u001b[0m\n\u001b[1;33m    dict = {} slpktO%load_ext autoreload\u001b[0m\n\u001b[1;37m              ^\u001b[0m\n\u001b[1;31mSyntaxError\u001b[0m\u001b[1;31m:\u001b[0m invalid syntax\n"
     ]
    }
   ],
   "source": [
    "dict = {} slpktO%load_ext autoreload\n",
    "%autoreload 2\n",
    "\n",
    "element1 = {'args': 2, 'kwargs': 1, \"retVal\": 3, \"time\": 6}\n",
    "element2 = {'args': 4, 'kwargs': 4, \"retVal\": 6, \"time\": 4}"
   ]
  },
  {
   "cell_type": "code",
   "execution_count": 12,
   "metadata": {},
   "outputs": [
    {
     "data": {
      "text/plain": [
       "'c:\\\\Hochschule\\\\WS21_22\\\\KI1\\\\Programme\\\\Vorles_tensorflow\\\\Aufgabe'"
      ]
     },
     "execution_count": 12,
     "metadata": {},
     "output_type": "execute_result"
    }
   ],
   "source": [
    "os.getcwd()"
   ]
  },
  {
   "cell_type": "code",
   "execution_count": 11,
   "metadata": {},
   "outputs": [
    {
     "name": "stdout",
     "output_type": "stream",
     "text": [
      "The autoreload extension is already loaded. To reload it, use:\n",
      "  %reload_ext autoreload\n",
      "Meine_Bilder\\Dosenoeffner\\WhatsApp Image 2021-12-29 at 17.54.26 (1).jpeg\n",
      "Meine_Bilder\\Dosenoeffner\\WhatsApp Image 2021-12-29 at 17.54.26 (2).jpeg\n",
      "Meine_Bilder\\Dosenoeffner\\WhatsApp Image 2021-12-29 at 17.54.26 (3).jpeg\n",
      "Meine_Bilder\\Dosenoeffner\\WhatsApp Image 2021-12-29 at 17.54.26 (4).jpeg\n",
      "Meine_Bilder\\Dosenoeffner\\WhatsApp Image 2021-12-29 at 17.54.26 (5).jpeg\n",
      "Meine_Bilder\\Dosenoeffner\\WhatsApp Image 2021-12-29 at 17.54.26 (6).jpeg\n",
      "Meine_Bilder\\Dosenoeffner\\WhatsApp Image 2021-12-29 at 17.54.26 (7).jpeg\n",
      "Meine_Bilder\\Dosenoeffner\\WhatsApp Image 2021-12-29 at 17.54.26.jpeg\n",
      "Meine_Bilder\\Flaschenoeffner\\WhatsApp Image 2021-12-29 at 17.55.16 (1).jpeg\n",
      "Meine_Bilder\\Flaschenoeffner\\WhatsApp Image 2021-12-29 at 17.55.16 (2).jpeg\n",
      "Meine_Bilder\\Flaschenoeffner\\WhatsApp Image 2021-12-29 at 17.55.16 (3).jpeg\n",
      "Meine_Bilder\\Flaschenoeffner\\WhatsApp Image 2021-12-29 at 17.55.16.jpeg\n",
      "Meine_Bilder\\Flaschenoeffner\\WhatsApp Image 2021-12-29 at 17.55.17 (1).jpeg\n",
      "Meine_Bilder\\Flaschenoeffner\\WhatsApp Image 2021-12-29 at 17.55.17.jpeg\n",
      "Meine_Bilder\\Flaschenoeffner\\WhatsApp Image 2021-12-29 at 17.55.18 (1).jpeg\n",
      "Meine_Bilder\\Flaschenoeffner\\WhatsApp Image 2021-12-29 at 17.55.18 (2).jpeg\n",
      "Meine_Bilder\\Flaschenoeffner\\WhatsApp Image 2021-12-29 at 17.55.18 (3).jpeg\n",
      "Meine_Bilder\\Flaschenoeffner\\WhatsApp Image 2021-12-29 at 17.55.18 (4).jpeg\n",
      "Meine_Bilder\\Flaschenoeffner\\WhatsApp Image 2021-12-29 at 17.55.18.jpeg\n",
      "Meine_Bilder\\Flaschenoeffner\\WhatsApp Image 2021-12-29 at 17.55.19 (1).jpeg\n",
      "Meine_Bilder\\Flaschenoeffner\\WhatsApp Image 2021-12-29 at 17.55.19 (2).jpeg\n",
      "Meine_Bilder\\Flaschenoeffner\\WhatsApp Image 2021-12-29 at 17.55.19 (3).jpeg\n",
      "Meine_Bilder\\Flaschenoeffner\\WhatsApp Image 2021-12-29 at 17.55.19.jpeg\n",
      "Meine_Bilder\\Flaschenoeffner\\WhatsApp Image 2021-12-29 at 17.55.21 (1).jpeg\n",
      "Meine_Bilder\\Flaschenoeffner\\WhatsApp Image 2021-12-29 at 17.55.21 (2).jpeg\n",
      "Meine_Bilder\\Flaschenoeffner\\WhatsApp Image 2021-12-29 at 17.55.21.jpeg\n",
      "Meine_Bilder\\Flaschenoeffner\\WhatsApp Image 2021-12-29 at 17.55.22 (1).jpeg\n",
      "Meine_Bilder\\Flaschenoeffner\\WhatsApp Image 2021-12-29 at 17.55.22.jpeg\n",
      "Meine_Bilder\\Flaschenoeffner\\WhatsApp Image 2021-12-29 at 17.55.23 (1).jpeg\n",
      "Meine_Bilder\\Flaschenoeffner\\WhatsApp Image 2021-12-29 at 17.55.23 (2).jpeg\n",
      "Meine_Bilder\\Flaschenoeffner\\WhatsApp Image 2021-12-29 at 17.55.23 (5).jpeg\n",
      "Meine_Bilder\\Flaschenoeffner\\WhatsApp Image 2021-12-29 at 17.55.23 (6).jpeg\n",
      "Meine_Bilder\\Flaschenoeffner\\WhatsApp Image 2021-12-29 at 17.55.23 (7).jpeg\n",
      "Meine_Bilder\\Flaschenoeffner\\WhatsApp Image 2021-12-29 at 17.55.23.jpeg\n",
      "Meine_Bilder\\Flaschenoeffner\\WhatsApp Image 2021-12-29 at 17.55.46.jpeg\n",
      "Meine_Bilder\\Flaschenoeffner\\WhatsApp Image 2021-12-29 at 17.55.47 (1).jpeg\n",
      "Meine_Bilder\\Flaschenoeffner\\WhatsApp Image 2021-12-29 at 17.55.47.jpeg\n",
      "Meine_Bilder\\Flaschenoeffner\\WhatsApp Image 2021-12-29 at 17.56.00 (3).jpeg\n",
      "Meine_Bilder\\Korkenzieher\\WhatsApp Image 2021-12-29 at 17.56.00 (1).jpeg\n",
      "Meine_Bilder\\Korkenzieher\\WhatsApp Image 2021-12-29 at 17.56.00 (2).jpeg\n",
      "Meine_Bilder\\Korkenzieher\\WhatsApp Image 2021-12-29 at 17.56.00.jpeg\n",
      "Meine_Bilder\\Korkenzieher\\WhatsApp Image 2021-12-29 at 17.56.01 (1).jpeg\n",
      "Meine_Bilder\\Korkenzieher\\WhatsApp Image 2021-12-29 at 17.56.01.jpeg\n",
      "Meine_Bilder\\Korkenzieher\\WhatsApp Image 2021-12-29 at 17.56.02.jpeg\n"
     ]
    },
    {
     "ename": "PermissionError",
     "evalue": "[Errno 13] Permission denied: 'Eigene_Liste.xlsx'",
     "output_type": "error",
     "traceback": [
      "\u001b[1;31m---------------------------------------------------------------------------\u001b[0m",
      "\u001b[1;31mPermissionError\u001b[0m                           Traceback (most recent call last)",
      "\u001b[1;32m~\\AppData\\Local\\Temp\\ipykernel_19488\\3805038508.py\u001b[0m in \u001b[0;36m<module>\u001b[1;34m\u001b[0m\n\u001b[0;32m     37\u001b[0m \u001b[0mpd_imgdata\u001b[0m \u001b[1;33m=\u001b[0m \u001b[0mimginfo\u001b[0m\u001b[1;33m.\u001b[0m\u001b[0mget_feature_names\u001b[0m\u001b[1;33m(\u001b[0m\u001b[0mfeature_names\u001b[0m\u001b[1;33m)\u001b[0m\u001b[1;33m\u001b[0m\u001b[1;33m\u001b[0m\u001b[0m\n\u001b[0;32m     38\u001b[0m \u001b[1;33m\u001b[0m\u001b[0m\n\u001b[1;32m---> 39\u001b[1;33m \u001b[0mpd_imgdata\u001b[0m\u001b[1;33m.\u001b[0m\u001b[0mto_excel\u001b[0m\u001b[1;33m(\u001b[0m\u001b[1;34m\"Eigene_Liste.xlsx\"\u001b[0m\u001b[1;33m)\u001b[0m\u001b[1;33m\u001b[0m\u001b[1;33m\u001b[0m\u001b[0m\n\u001b[0m",
      "\u001b[1;32mc:\\Hochschule\\WS21_22\\KI1\\Programme\\Vorles_tensorflow\\tens\\lib\\site-packages\\pandas\\core\\generic.py\u001b[0m in \u001b[0;36mto_excel\u001b[1;34m(self, excel_writer, sheet_name, na_rep, float_format, columns, header, index, index_label, startrow, startcol, engine, merge_cells, encoding, inf_rep, verbose, freeze_panes, storage_options)\u001b[0m\n\u001b[0;32m   2282\u001b[0m             \u001b[0minf_rep\u001b[0m\u001b[1;33m=\u001b[0m\u001b[0minf_rep\u001b[0m\u001b[1;33m,\u001b[0m\u001b[1;33m\u001b[0m\u001b[1;33m\u001b[0m\u001b[0m\n\u001b[0;32m   2283\u001b[0m         )\n\u001b[1;32m-> 2284\u001b[1;33m         formatter.write(\n\u001b[0m\u001b[0;32m   2285\u001b[0m             \u001b[0mexcel_writer\u001b[0m\u001b[1;33m,\u001b[0m\u001b[1;33m\u001b[0m\u001b[1;33m\u001b[0m\u001b[0m\n\u001b[0;32m   2286\u001b[0m             \u001b[0msheet_name\u001b[0m\u001b[1;33m=\u001b[0m\u001b[0msheet_name\u001b[0m\u001b[1;33m,\u001b[0m\u001b[1;33m\u001b[0m\u001b[1;33m\u001b[0m\u001b[0m\n",
      "\u001b[1;32mc:\\Hochschule\\WS21_22\\KI1\\Programme\\Vorles_tensorflow\\tens\\lib\\site-packages\\pandas\\io\\formats\\excel.py\u001b[0m in \u001b[0;36mwrite\u001b[1;34m(self, writer, sheet_name, startrow, startcol, freeze_panes, engine, storage_options)\u001b[0m\n\u001b[0;32m    832\u001b[0m             \u001b[1;31m# error: Cannot instantiate abstract class 'ExcelWriter' with abstract\u001b[0m\u001b[1;33m\u001b[0m\u001b[1;33m\u001b[0m\u001b[1;33m\u001b[0m\u001b[0m\n\u001b[0;32m    833\u001b[0m             \u001b[1;31m# attributes 'engine', 'save', 'supported_extensions' and 'write_cells'\u001b[0m\u001b[1;33m\u001b[0m\u001b[1;33m\u001b[0m\u001b[1;33m\u001b[0m\u001b[0m\n\u001b[1;32m--> 834\u001b[1;33m             writer = ExcelWriter(  # type: ignore[abstract]\n\u001b[0m\u001b[0;32m    835\u001b[0m                 \u001b[0mwriter\u001b[0m\u001b[1;33m,\u001b[0m \u001b[0mengine\u001b[0m\u001b[1;33m=\u001b[0m\u001b[0mengine\u001b[0m\u001b[1;33m,\u001b[0m \u001b[0mstorage_options\u001b[0m\u001b[1;33m=\u001b[0m\u001b[0mstorage_options\u001b[0m\u001b[1;33m\u001b[0m\u001b[1;33m\u001b[0m\u001b[0m\n\u001b[0;32m    836\u001b[0m             )\n",
      "\u001b[1;32mc:\\Hochschule\\WS21_22\\KI1\\Programme\\Vorles_tensorflow\\tens\\lib\\site-packages\\pandas\\io\\excel\\_openpyxl.py\u001b[0m in \u001b[0;36m__init__\u001b[1;34m(self, path, engine, date_format, datetime_format, mode, storage_options, if_sheet_exists, engine_kwargs, **kwargs)\u001b[0m\n\u001b[0;32m     50\u001b[0m         \u001b[0mengine_kwargs\u001b[0m \u001b[1;33m=\u001b[0m \u001b[0mcombine_kwargs\u001b[0m\u001b[1;33m(\u001b[0m\u001b[0mengine_kwargs\u001b[0m\u001b[1;33m,\u001b[0m \u001b[0mkwargs\u001b[0m\u001b[1;33m)\u001b[0m\u001b[1;33m\u001b[0m\u001b[1;33m\u001b[0m\u001b[0m\n\u001b[0;32m     51\u001b[0m \u001b[1;33m\u001b[0m\u001b[0m\n\u001b[1;32m---> 52\u001b[1;33m         super().__init__(\n\u001b[0m\u001b[0;32m     53\u001b[0m             \u001b[0mpath\u001b[0m\u001b[1;33m,\u001b[0m\u001b[1;33m\u001b[0m\u001b[1;33m\u001b[0m\u001b[0m\n\u001b[0;32m     54\u001b[0m             \u001b[0mmode\u001b[0m\u001b[1;33m=\u001b[0m\u001b[0mmode\u001b[0m\u001b[1;33m,\u001b[0m\u001b[1;33m\u001b[0m\u001b[1;33m\u001b[0m\u001b[0m\n",
      "\u001b[1;32mc:\\Hochschule\\WS21_22\\KI1\\Programme\\Vorles_tensorflow\\tens\\lib\\site-packages\\pandas\\io\\excel\\_base.py\u001b[0m in \u001b[0;36m__init__\u001b[1;34m(self, path, engine, date_format, datetime_format, mode, storage_options, if_sheet_exists, engine_kwargs, **kwargs)\u001b[0m\n\u001b[0;32m    923\u001b[0m         \u001b[0mself\u001b[0m\u001b[1;33m.\u001b[0m\u001b[0mhandles\u001b[0m \u001b[1;33m=\u001b[0m \u001b[0mIOHandles\u001b[0m\u001b[1;33m(\u001b[0m\u001b[0mcast\u001b[0m\u001b[1;33m(\u001b[0m\u001b[0mBuffer\u001b[0m\u001b[1;33m,\u001b[0m \u001b[0mpath\u001b[0m\u001b[1;33m)\u001b[0m\u001b[1;33m,\u001b[0m \u001b[0mcompression\u001b[0m\u001b[1;33m=\u001b[0m\u001b[1;33m{\u001b[0m\u001b[1;34m\"copression\"\u001b[0m\u001b[1;33m:\u001b[0m \u001b[1;32mNone\u001b[0m\u001b[1;33m}\u001b[0m\u001b[1;33m)\u001b[0m\u001b[1;33m\u001b[0m\u001b[1;33m\u001b[0m\u001b[0m\n\u001b[0;32m    924\u001b[0m         \u001b[1;32mif\u001b[0m \u001b[1;32mnot\u001b[0m \u001b[0misinstance\u001b[0m\u001b[1;33m(\u001b[0m\u001b[0mpath\u001b[0m\u001b[1;33m,\u001b[0m \u001b[0mExcelWriter\u001b[0m\u001b[1;33m)\u001b[0m\u001b[1;33m:\u001b[0m\u001b[1;33m\u001b[0m\u001b[1;33m\u001b[0m\u001b[0m\n\u001b[1;32m--> 925\u001b[1;33m             self.handles = get_handle(\n\u001b[0m\u001b[0;32m    926\u001b[0m                 \u001b[0mpath\u001b[0m\u001b[1;33m,\u001b[0m \u001b[0mmode\u001b[0m\u001b[1;33m,\u001b[0m \u001b[0mstorage_options\u001b[0m\u001b[1;33m=\u001b[0m\u001b[0mstorage_options\u001b[0m\u001b[1;33m,\u001b[0m \u001b[0mis_text\u001b[0m\u001b[1;33m=\u001b[0m\u001b[1;32mFalse\u001b[0m\u001b[1;33m\u001b[0m\u001b[1;33m\u001b[0m\u001b[0m\n\u001b[0;32m    927\u001b[0m             )\n",
      "\u001b[1;32mc:\\Hochschule\\WS21_22\\KI1\\Programme\\Vorles_tensorflow\\tens\\lib\\site-packages\\pandas\\io\\common.py\u001b[0m in \u001b[0;36mget_handle\u001b[1;34m(path_or_buf, mode, encoding, compression, memory_map, is_text, errors, storage_options)\u001b[0m\n\u001b[0;32m    709\u001b[0m         \u001b[1;32melse\u001b[0m\u001b[1;33m:\u001b[0m\u001b[1;33m\u001b[0m\u001b[1;33m\u001b[0m\u001b[0m\n\u001b[0;32m    710\u001b[0m             \u001b[1;31m# Binary mode\u001b[0m\u001b[1;33m\u001b[0m\u001b[1;33m\u001b[0m\u001b[1;33m\u001b[0m\u001b[0m\n\u001b[1;32m--> 711\u001b[1;33m             \u001b[0mhandle\u001b[0m \u001b[1;33m=\u001b[0m \u001b[0mopen\u001b[0m\u001b[1;33m(\u001b[0m\u001b[0mhandle\u001b[0m\u001b[1;33m,\u001b[0m \u001b[0mioargs\u001b[0m\u001b[1;33m.\u001b[0m\u001b[0mmode\u001b[0m\u001b[1;33m)\u001b[0m\u001b[1;33m\u001b[0m\u001b[1;33m\u001b[0m\u001b[0m\n\u001b[0m\u001b[0;32m    712\u001b[0m         \u001b[0mhandles\u001b[0m\u001b[1;33m.\u001b[0m\u001b[0mappend\u001b[0m\u001b[1;33m(\u001b[0m\u001b[0mhandle\u001b[0m\u001b[1;33m)\u001b[0m\u001b[1;33m\u001b[0m\u001b[1;33m\u001b[0m\u001b[0m\n\u001b[0;32m    713\u001b[0m \u001b[1;33m\u001b[0m\u001b[0m\n",
      "\u001b[1;31mPermissionError\u001b[0m: [Errno 13] Permission denied: 'Eigene_Liste.xlsx'"
     ]
    }
   ],
   "source": [
    "%load_ext autoreload\n",
    "%autoreload 2\n",
    "\n",
    "\n",
    "import ricimg_to_table as ricL\n",
    "import cv2\n",
    "import ricpreimg as ricP\n",
    "imginfo = ricL.imgorga(\"Meine_Bilder\")\n",
    "imgextract = ricP.preimg()\n",
    "\n",
    "feature_names = [\"Rel_BreitGroß\", \"RelSpitze_oben\",\"RelSpitze_unten\", \"Anzahl_Linie\",\n",
    "                \"Anzahl_Kreis\",\"Label\"]\n",
    "\n",
    "for idx,label in enumerate(imginfo.labels):\n",
    "    for img_path in imginfo.image_paths[idx]:\n",
    "        print(img_path)\n",
    "        img = cv2.imread(img_path)\n",
    "\n",
    "        imgextract.setimg(img)\n",
    "        imgextract.calc_canny_cnts()\n",
    "\n",
    "        windowname = img_path\n",
    "        cv2.namedWindow(windowname, cv2.WINDOW_NORMAL)\n",
    "        cv2.namedWindow(\"draw\", cv2.WINDOW_NORMAL)\n",
    "        cv2.imshow(windowname,imgextract.imgdict[\"cannyimg\"])\n",
    "        cv2.imshow(\"draw\",imgextract.draw_img)\n",
    "        cv2.waitKey()\n",
    "        cv2.destroyAllWindows()\n",
    "\n",
    "        rel = imgextract.calc_rel_breitgroß()\n",
    "        spitzo, spitzu = imgextract.calc_rel_spitze()\n",
    "        line_count = imgextract.calc_canny_lines()\n",
    "        circle_count = imgextract.calc_circles()\n",
    "\n",
    "        imginfo.collect_numeric_data([rel,spitzo,spitzu,line_count,circle_count,label])\n",
    "        \n",
    "pd_imgdata = imginfo.get_feature_names(feature_names)\n",
    "\n",
    "pd_imgdata.to_excel(\"Eigene_Liste.xlsx\")"
   ]
  }
 ],
 "metadata": {
  "interpreter": {
   "hash": "f0f9091a0a28f68c4dbc935a52f2f44d4866d209e20662b3f6a9f2abfaf89b83"
  },
  "kernelspec": {
   "display_name": "Python 3.8.8 64-bit ('tens': venv)",
   "language": "python",
   "name": "python3"
  },
  "language_info": {
   "codemirror_mode": {
    "name": "ipython",
    "version": 3
   },
   "file_extension": ".py",
   "mimetype": "text/x-python",
   "name": "python",
   "nbconvert_exporter": "python",
   "pygments_lexer": "ipython3",
   "version": "3.8.8"
  },
  "orig_nbformat": 4
 },
 "nbformat": 4,
 "nbformat_minor": 2
}
