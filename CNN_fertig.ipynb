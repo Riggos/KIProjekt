{
 "cells": [
  {
   "cell_type": "markdown",
   "metadata": {},
   "source": [
    "# CNN Klassifikator mit keras \n",
    "\n",
    "von Eric Hirsch und Jonas Morsch "
   ]
  },
  {
   "cell_type": "code",
   "execution_count": 60,
   "metadata": {},
   "outputs": [],
   "source": [
    "import os\n",
    "import numpy as np\n",
    "\n",
    "from tensorflow.keras.models import Sequential\n",
    "from tensorflow.keras.layers import Dense, Dropout, Flatten\n",
    "from tensorflow.keras.layers import Conv2D, MaxPooling2D\n",
    "from sklearn.metrics import classification_report,confusion_matrix\n",
    "\n",
    "\n",
    "\n",
    "import cv2\n",
    "from tensorflow.keras.utils import to_categorical\n",
    "\n",
    "from matplotlib import pyplot as plt\n",
    "\n",
    "import Data_preparation as DP\n",
    "DP = DP.Data_preparation()\n",
    "\n",
    "\n",
    "from sklearn.preprocessing import LabelEncoder\n",
    "import numpy as np"
   ]
  },
  {
   "cell_type": "code",
   "execution_count": 61,
   "metadata": {},
   "outputs": [
    {
     "name": "stdout",
     "output_type": "stream",
     "text": [
      "The autoreload extension is already loaded. To reload it, use:\n",
      "  %reload_ext autoreload\n"
     ]
    }
   ],
   "source": [
    "%load_ext autoreload\n",
    "%autoreload 2"
   ]
  },
  {
   "cell_type": "markdown",
   "metadata": {},
   "source": [
    "### Die Bilder laden "
   ]
  },
  {
   "cell_type": "code",
   "execution_count": 70,
   "metadata": {},
   "outputs": [],
   "source": [
    "Images,Labels = DP.create_Image_dataset(\"BIG_Bilder/\",100,100)\n",
    "Images_train,Images_test,Labels_train,Labels_test= DP.split_Image_data(Images,Labels,0.8)"
   ]
  },
  {
   "cell_type": "code",
   "execution_count": 71,
   "metadata": {},
   "outputs": [],
   "source": [
    "#Die Daten in ein numpy Array umwandeln \n",
    "Images_train=np.asarray(Images_train)\n",
    "Images_test=np.asarray(Images_test)"
   ]
  },
  {
   "cell_type": "markdown",
   "metadata": {},
   "source": [
    "### Übersicht über die Testdaten"
   ]
  },
  {
   "cell_type": "code",
   "execution_count": 72,
   "metadata": {},
   "outputs": [
    {
     "name": "stdout",
     "output_type": "stream",
     "text": [
      "Shape Trainingsdaten: (3864, 100, 100)\n",
      "Shape Testdaten: (966, 100, 100)\n",
      "Dimension Bild Nr. 5: (100, 100)\n",
      "Label zu Bild Nr. 5 Korkenzieher\n"
     ]
    }
   ],
   "source": [
    "print(\"Shape Trainingsdaten: {}\".format(Images_train.shape))\n",
    "print(\"Shape Testdaten: {}\".format(Images_test.shape))\n",
    "print(\"Dimension Bild Nr. 5: {}\".format(Images_train[5].shape))\n",
    "print(\"Label zu Bild Nr. 5 {}\".format(Labels_train[5]))\n",
    "cv2.namedWindow(\"open33\", cv2.WINDOW_NORMAL)\n",
    "cv2.imshow('open33',Images[10])\n",
    "cv2.waitKey()\n",
    "cv2.destroyAllWindows()"
   ]
  },
  {
   "cell_type": "markdown",
   "metadata": {},
   "source": [
    "### Die Bilder reshapen und normalisieren "
   ]
  },
  {
   "cell_type": "code",
   "execution_count": 73,
   "metadata": {},
   "outputs": [],
   "source": [
    "len_Test_data=len(Images_test)\n",
    "len_Train_data=len(Images_train)\n",
    "\n",
    "\n",
    "train_images = Images_train.reshape(len_Train_data, 100, 100, 1)\n",
    "train_images = train_images.astype('float32')\n",
    "train_images /= 255\n",
    "\n",
    "test_images = Images_test.reshape(len_Test_data, 100, 100, 1)\n",
    "test_images = test_images.astype('float32')\n",
    "test_images /= 255\n",
    "      \n",
    "Labels_test=np.array(Labels_test)\n",
    "Labels_train=np.array(Labels_train)\n",
    "label_encoder=LabelEncoder()\n",
    "Labels_test=label_encoder.fit_transform(Labels_test)\n",
    "Labels_train=label_encoder.fit_transform(Labels_train)\n",
    "\n",
    "Labels_train=to_categorical(Labels_train)\n",
    "Labels_test=to_categorical(Labels_test)\n",
    "\n",
    "NrTrainimages = train_images.shape[0]\n",
    "NrTestimages = test_images.shape[0]\n",
    "\n",
    "\n",
    "\n",
    "\n",
    "\n"
   ]
  },
  {
   "cell_type": "code",
   "execution_count": 74,
   "metadata": {},
   "outputs": [
    {
     "name": "stdout",
     "output_type": "stream",
     "text": [
      "Trainingsdatensatz:(3864, 100, 100, 1)\n",
      "Testdatensatz:(966, 100, 100, 1)\n",
      "Wir haben 3864 Trainingsbilder und 966 Testbilder.\n"
     ]
    }
   ],
   "source": [
    "print(\"Trainingsdatensatz:{}\".format(train_images.shape))\n",
    "print(\"Testdatensatz:{}\".format(test_images.shape))\n",
    "\n",
    "print(\"Wir haben {} Trainingsbilder und {} Testbilder.\".format(NrTrainimages, NrTestimages))"
   ]
  },
  {
   "cell_type": "markdown",
   "metadata": {},
   "source": [
    "### Ein Beispielbild anzeigen "
   ]
  },
  {
   "cell_type": "code",
   "execution_count": 75,
   "metadata": {},
   "outputs": [
    {
     "data": {
      "image/png": "[encoded data removed]",
      "text/plain": [
       "<Figure size 432x288 with 1 Axes>"
      ]
     },
     "metadata": {
      "needs_background": "light"
     },
     "output_type": "display_data"
    }
   ],
   "source": [
    "%matplotlib inline\n",
    "import matplotlib.pyplot as plt\n",
    "import random\n",
    "\n",
    "randindex = random.randint(0,len_Train_data)\n",
    "plttitle = \"Trainingsbild Nr. {} \\n Klasse: {}\".format(randindex,Labels_train[randindex])\n",
    "plt.imshow(train_images[randindex].reshape(100,100), cmap='gray')\n",
    "plt.title(plttitle)\n",
    "plt.axis('off')\n",
    "plt.show()\n"
   ]
  },
  {
   "cell_type": "markdown",
   "metadata": {},
   "source": [
    "### CNN Model erzeugen \n"
   ]
  },
  {
   "cell_type": "code",
   "execution_count": 76,
   "metadata": {},
   "outputs": [
    {
     "name": "stdout",
     "output_type": "stream",
     "text": [
      "Model: \"sequential_4\"\n",
      "_________________________________________________________________\n",
      " Layer (type)                Output Shape              Param #   \n",
      "=================================================================\n",
      " conv2d_8 (Conv2D)           (None, 96, 96, 32)        832       \n",
      "                                                                 \n",
      " max_pooling2d_8 (MaxPooling  (None, 48, 48, 32)       0         \n",
      " 2D)                                                             \n",
      "                                                                 \n",
      " conv2d_9 (Conv2D)           (None, 44, 44, 64)        51264     \n",
      "                                                                 \n",
      " max_pooling2d_9 (MaxPooling  (None, 22, 22, 64)       0         \n",
      " 2D)                                                             \n",
      "                                                                 \n",
      " dropout_8 (Dropout)         (None, 22, 22, 64)        0         \n",
      "                                                                 \n",
      " flatten_4 (Flatten)         (None, 30976)             0         \n",
      "                                                                 \n",
      " dense_9 (Dense)             (None, 128)               3965056   \n",
      "                                                                 \n",
      " dropout_9 (Dropout)         (None, 128)               0         \n",
      "                                                                 \n",
      " features (Dense)            (None, 64)                8256      \n",
      "                                                                 \n",
      " dense_10 (Dense)            (None, 3)                 195       \n",
      "                                                                 \n",
      "=================================================================\n",
      "Total params: 4,025,603\n",
      "Trainable params: 4,025,603\n",
      "Non-trainable params: 0\n",
      "_________________________________________________________________\n"
     ]
    }
   ],
   "source": [
    "# The Network architecture\n",
    "model = Sequential()\n",
    "\n",
    "# handle the format of the images to the input Layer\n",
    "mnist_inputshape = train_images.shape[1:4]\n",
    "\n",
    "# Kodierungsblock\n",
    "model.add(Conv2D(32, kernel_size=(5,5), \n",
    "      activation = 'relu',\n",
    "      input_shape=mnist_inputshape))\n",
    "model.add(MaxPooling2D(pool_size=(2,2)))\n",
    "# Conv_Block 2\n",
    "model.add(Conv2D(64, kernel_size=(5,5),activation= 'relu'))\n",
    "model.add(MaxPooling2D(pool_size=(2,2)))\n",
    "model.add(Dropout(0.5))\n",
    "\n",
    "# Prädiktionssblock\n",
    "model.add(Flatten())\n",
    "model.add(Dense(128, activation='relu'))\n",
    "model.add(Dropout(0.5))\n",
    "model.add(Dense(64, activation='relu',name='features'))\n",
    "model.add(Dense(3,activation='softmax'))\n",
    "model.summary()\n"
   ]
  },
  {
   "cell_type": "markdown",
   "metadata": {},
   "source": [
    "### Das Modell compilen "
   ]
  },
  {
   "cell_type": "code",
   "execution_count": 77,
   "metadata": {},
   "outputs": [],
   "source": [
    "\n",
    "model.compile(loss='categorical_crossentropy',\n",
    "             optimizer='Adam',\n",
    "             metrics=['accuracy'])"
   ]
  },
  {
   "cell_type": "markdown",
   "metadata": {},
   "source": [
    "### Das Modell trainieren "
   ]
  },
  {
   "cell_type": "code",
   "execution_count": 78,
   "metadata": {},
   "outputs": [
    {
     "name": "stdout",
     "output_type": "stream",
     "text": [
      "Epoch 1/5\n",
      "31/31 [==============================] - 21s 666ms/step - loss: 1.0963 - accuracy: 0.3641 - val_loss: 1.1008 - val_accuracy: 0.3188\n",
      "Epoch 2/5\n",
      "31/31 [==============================] - 20s 663ms/step - loss: 1.0949 - accuracy: 0.3703 - val_loss: 1.1005 - val_accuracy: 0.3188\n",
      "Epoch 3/5\n",
      "31/31 [==============================] - 18s 593ms/step - loss: 1.0946 - accuracy: 0.3690 - val_loss: 1.1026 - val_accuracy: 0.3188\n",
      "Epoch 4/5\n",
      "31/31 [==============================] - 18s 586ms/step - loss: 1.0950 - accuracy: 0.3610 - val_loss: 1.1023 - val_accuracy: 0.3188\n",
      "Epoch 5/5\n",
      "31/31 [==============================] - 18s 579ms/step - loss: 1.0941 - accuracy: 0.3693 - val_loss: 1.1027 - val_accuracy: 0.3188\n"
     ]
    }
   ],
   "source": [
    "# Hyperparameter\n",
    "my_batch_size = 128\n",
    "my_num_classes = 3\n",
    "my_epochs = 5\n",
    "\n",
    "history = model.fit(train_images, Labels_train,\n",
    "      batch_size=my_batch_size,\n",
    "      epochs=my_epochs,\n",
    "      use_multiprocessing=False,\n",
    "      verbose=1,\n",
    "      validation_data=(test_images, Labels_test))\n"
   ]
  },
  {
   "cell_type": "markdown",
   "metadata": {},
   "source": [
    "### Metrics Plotten"
   ]
  },
  {
   "cell_type": "code",
   "execution_count": 79,
   "metadata": {},
   "outputs": [
    {
     "name": "stdout",
     "output_type": "stream",
     "text": [
      "WARNING:tensorflow:5 out of the last 15 calls to <function Model.make_predict_function.<locals>.predict_function at 0x000001D2C4202AF0> triggered tf.function retracing. Tracing is expensive and the excessive number of tracings could be due to (1) creating @tf.function repeatedly in a loop, (2) passing tensors with different shapes, (3) passing Python objects instead of tensors. For (1), please define your @tf.function outside of the loop. For (2), @tf.function has experimental_relax_shapes=True option that relaxes argument shapes that can avoid unnecessary retracing. For (3), please refer to https://www.tensorflow.org/guide/function#controlling_retracing and https://www.tensorflow.org/api_docs/python/tf/function for  more details.\n",
      "              precision    recall  f1-score   support\n",
      "\n",
      "           0       0.00      0.00      0.00       319\n",
      "           1       0.00      0.00      0.00       308\n",
      "           2       0.35      1.00      0.52       339\n",
      "\n",
      "    accuracy                           0.35       966\n",
      "   macro avg       0.12      0.33      0.17       966\n",
      "weighted avg       0.12      0.35      0.18       966\n",
      "\n"
     ]
    }
   ],
   "source": [
    "\n",
    "y_pred=model.predict(Images_test) \n",
    "y_pred=np.argmax(y_pred, axis=1)\n",
    "y_test=np.argmax(Labels_test, axis=1)\n",
    "print(classification_report(y_test,y_pred,zero_division=0))\n",
    "\n",
    "\n"
   ]
  },
  {
   "cell_type": "code",
   "execution_count": 80,
   "metadata": {},
   "outputs": [
    {
     "name": "stdout",
     "output_type": "stream",
     "text": [
      "31/31 [==============================] - 1s 35ms/step - loss: 1.1027 - accuracy: 0.3188\n",
      "Test Verlust: 1.1026666164398193\n",
      "Test Genauigkeit: 0.3188405930995941\n"
     ]
    }
   ],
   "source": [
    "score = model.evaluate(test_images, Labels_test)\n",
    "print('Test Verlust:', score[0])\n",
    "print('Test Genauigkeit:', score[1])"
   ]
  },
  {
   "cell_type": "markdown",
   "metadata": {},
   "source": [
    "### Ein einzelnes Bild trainiern "
   ]
  },
  {
   "cell_type": "code",
   "execution_count": 55,
   "metadata": {},
   "outputs": [
    {
     "data": {
      "image/png": "[encoded data removed]",
      "text/plain": [
       "<Figure size 432x288 with 1 Axes>"
      ]
     },
     "metadata": {
      "needs_background": "light"
     },
     "output_type": "display_data"
    }
   ],
   "source": [
    "y_prediction = model.predict(Images_test)\n",
    "randindex = random.randint(0,len(Images_test))\n",
    "# Die Funktion argmax() liefert uns den index des höchsten Werts des Ergebnisvektors\n",
    "CNN = y_prediction[randindex].argmax()\n",
    "plttitle = \"Testbild Nr. {} \\n CNN Klasse: {}\".format(randindex,CNN)\n",
    "plt.imshow(test_images[randindex].reshape(100,100), cmap='gray')\n",
    "plt.title(plttitle)\n",
    "plt.axis('off')\n",
    "plt.show()"
   ]
  },
  {
   "cell_type": "markdown",
   "metadata": {},
   "source": [
    "### Plotten der Genauigkeit und Lossfunktion"
   ]
  },
  {
   "cell_type": "code",
   "execution_count": 56,
   "metadata": {},
   "outputs": [
    {
     "data": {
      "image/png": "[encoded data removed]",
      "text/plain": [
       "<Figure size 432x288 with 1 Axes>"
      ]
     },
     "metadata": {
      "needs_background": "light"
     },
     "output_type": "display_data"
    },
    {
     "data": {
      "image/png": "[encoded data removed]",
      "text/plain": [
       "<Figure size 432x288 with 1 Axes>"
      ]
     },
     "metadata": {
      "needs_background": "light"
     },
     "output_type": "display_data"
    }
   ],
   "source": [
    "acc=history.history['accuracy']\n",
    "val_acc=history.history['val_accuracy']\n",
    "loss=history.history['loss']\n",
    "val_loss=history.history['val_loss']\n",
    "\n",
    "epochs = range(len(acc))\n",
    "\n",
    "plt.plot(epochs, acc, 'bo', label='Trainingsgenauigkeit')\n",
    "plt.plot(epochs, val_acc, 'b', label='Validierungsgenauigkeit')\n",
    "plt.title('Trainings- und Validierungsgenauigkeit')\n",
    "plt.legend()\n",
    "\n",
    "plt.figure()\n",
    "\n",
    "plt.plot(epochs, loss, 'bo', label='Trainings Loss')\n",
    "plt.plot(epochs, val_loss, 'b', label='Validierungs loss')\n",
    "plt.title('Trainings und Validierungs Loss')\n",
    "plt.legend()\n",
    "\n",
    "plt.show()"
   ]
  },
  {
   "cell_type": "code",
   "execution_count": null,
   "metadata": {},
   "outputs": [],
   "source": []
  }
 ],
 "metadata": {
  "interpreter": {
   "hash": "c551dc114b32d4ddc6af681dae58062c65c2dc9524da8427dc77f23f376f7293"
  },
  "kernelspec": {
   "display_name": "Python 3.9.9 64-bit ('env': venv)",
   "language": "python",
   "name": "python3"
  },
  "language_info": {
   "codemirror_mode": {
    "name": "ipython",
    "version": 3
   },
   "file_extension": ".py",
   "mimetype": "text/x-python",
   "name": "python",
   "nbconvert_exporter": "python",
   "pygments_lexer": "ipython3",
   "version": "3.9.9"
  },
  "orig_nbformat": 4
 },
 "nbformat": 4,
 "nbformat_minor": 2
}
