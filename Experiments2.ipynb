{
 "cells": [
  {
   "cell_type": "markdown",
   "metadata": {},
   "source": [
    "## Aspect ratio durch Rechteck\n",
    "https://docs.opencv.org/4.x/dd/d49/tutorial_py_contour_features.html"
   ]
  },
  {
   "cell_type": "code",
   "execution_count": 52,
   "metadata": {},
   "outputs": [],
   "source": [
    "\n",
    "import ricpreimg as rimg\n",
    "import numpy as np\n",
    "import cv2\n",
    "\n",
    "test = cv2.imread(\"c:\\\\Hochschule\\\\WS21_22\\\\KI1\\\\Programme\\\\Vorles_tensorflow\\\\Aufgabe\\\\Meine_Bilder\\\\Flaschenoeffner\\\\WhatsApp Image 2021-12-29 at 17.55.23 (7).jpeg\")\n",
    "test = cv2.imread(\"kz1.jpeg\")\n",
    "dingo = rimg.preimg()\n",
    "dingo.setimg(test)\n",
    "dingo.calc_canny_cnts()\n",
    "cnts = dingo.imgdict[\"cnts\"]\n",
    "rel1 = dingo.calc_rel_breitgroß()\n",
    "rel2 = dingo.calc_rel_breitgroß_2()\n",
    "rect = cv2.minAreaRect(cnts)\n",
    "box = cv2.boxPoints(rect)\n",
    "box = np.int0(box)\n",
    "cv2.drawContours(test,[box],0,(0,0,255),2)\n",
    "\n",
    "\n",
    "cv2.namedWindow(\"open33\", cv2.WINDOW_NORMAL)\n",
    "cv2.imshow('open33',test)\n",
    "cv2.waitKey()\n",
    "cv2.destroyAllWindows()"
   ]
  },
  {
   "cell_type": "code",
   "execution_count": 34,
   "metadata": {},
   "outputs": [
    {
     "name": "stdout",
     "output_type": "stream",
     "text": [
      "The autoreload extension is already loaded. To reload it, use:\n",
      "  %reload_ext autoreload\n"
     ]
    }
   ],
   "source": [
    "%load_ext autoreload\n",
    "%autoreload 2"
   ]
  },
  {
   "cell_type": "code",
   "execution_count": 55,
   "metadata": {},
   "outputs": [],
   "source": [
    "import ricpreimg as rimg\n",
    "\n",
    "dingo.clean_draw()\n",
    "lin = dingo.calc_edges()\n",
    "test = dingo.draw_img\n",
    "cv2.namedWindow(\"openn333\", cv2.WINDOW_NORMAL)\n",
    "cv2.imshow('openn333',dingo.draw_img)\n",
    "cv2.waitKey()\n",
    "cv2.destroyAllWindows()"
   ]
  },
  {
   "cell_type": "markdown",
   "metadata": {},
   "source": [
    "## Kontur in Kontur finden"
   ]
  },
  {
   "cell_type": "code",
   "execution_count": 58,
   "metadata": {},
   "outputs": [],
   "source": [
    "import numpy as np\n",
    "import cv2 as cv2\n",
    "Groesse= cv2.getStructuringElement(cv2.MORPH_ELLIPSE,(5,5))\n",
    "im = cv2.imread('foe2.jpeg')\n",
    "\n",
    "im  = cv2.resize(im,(500,750))\n",
    "imgray = cv2.cvtColor(im, cv2.COLOR_BGR2GRAY)\n",
    "imgray = cv2.GaussianBlur(imgray, (9,9), 0)\n",
    "thresh = cv2.Canny(image=imgray, threshold1=0,threshold2=3)\n",
    "thresh = cv2.dilate(thresh,Groesse,iterations = 3)\n",
    "contours, hierarchy = cv2.findContours(thresh, cv2.RETR_TREE, cv2.CHAIN_APPROX_SIMPLE)\n",
    "c1 = max(contours, key=cv2.contourArea)\n",
    "cv2.drawContours(im, [c1], -1, (36, 255, 12), 2)\n",
    "\n",
    "#[Next, Previous, First_Child, Parent]\n",
    "temp_list = []\n",
    "for idx, xx in enumerate(hierarchy[0]):\n",
    "    if xx[2] == -1 and xx[3] != -1:\n",
    "        temp_list.append(idx)\n",
    "for ii in temp_list:\n",
    "    cv2.drawContours(im, [contours[ii]], -1, (0, 0, 0), 2)\n",
    "    cc = contours[ii]\n",
    "#c1 = max(contours, key=cv2.contourArea)\n",
    "#idx = contours.index(c1)\n",
    "\n",
    "#cv2.drawContours(im, contours, -1, (0,255,0), 3)\n",
    "cv2.namedWindow(\"openn333\", cv2.WINDOW_NORMAL)\n",
    "cv2.imshow('openn333',im)\n",
    "cv2.waitKey()\n",
    "cv2.destroyAllWindows()"
   ]
  }
 ],
 "metadata": {
  "interpreter": {
   "hash": "f0f9091a0a28f68c4dbc935a52f2f44d4866d209e20662b3f6a9f2abfaf89b83"
  },
  "kernelspec": {
   "display_name": "Python 3.8.8 64-bit ('tens': venv)",
   "language": "python",
   "name": "python3"
  },
  "language_info": {
   "codemirror_mode": {
    "name": "ipython",
    "version": 3
   },
   "file_extension": ".py",
   "mimetype": "text/x-python",
   "name": "python",
   "nbconvert_exporter": "python",
   "pygments_lexer": "ipython3",
   "version": "3.8.8"
  },
  "orig_nbformat": 4
 },
 "nbformat": 4,
 "nbformat_minor": 2
}
