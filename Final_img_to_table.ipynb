{
 "cells": [
  {
   "cell_type": "markdown",
   "metadata": {},
   "source": [
    "# Umwandlung Bilder in ein Dataframe\n",
    "\n",
    "Klasse \"imgorga\" von ricimg_to_table.py: lokalisiert die Bilder und wandelt gesammelte Feature-Vektoren der verschiedenen Bilder <br>\n",
    "Klasse \"preimg\" von ricpreimg.py: Kann mit verschieden Funktion gewünschte Features aus einem Bild extrahieren (mithilfe von Filtern und Algorithmen von cv2) <br>\n",
    "<br>\n",
    "\n",
    "Die Zelle selber sammelt für alle Bilder die Features und gibt am Ende eine csv.Datei für die Features aus <br>\n",
    "(Die letzten Befehle die eine csv-Datei oder excel-Datei erstellen sind auskommentiert)\n"
   ]
  },
  {
   "cell_type": "code",
   "execution_count": 2,
   "metadata": {},
   "outputs": [],
   "source": [
    "import ricimg_to_table as ricL\n",
    "import cv2\n",
    "import ricpreimg as ricP\n",
    "\n",
    "imginfo = ricL.imgorga(\"Alle_Bilder\")\n",
    "imgextract = ricP.preimg()\n",
    "\n",
    "feature_names = [\"Rel_BreitGross\", \"RelSpitze_oben\",\"RelSpitze_unten\", \"Anzahl_Linie\",\"Anzahl_Ecken\",\n",
    "                \"Anzahl_Kreis\",\"Label\"]\n",
    "\n",
    "for idx,label in enumerate(imginfo.labels):\n",
    "    for img_path in imginfo.image_paths[idx]:\n",
    "        #print(img_path)\n",
    "        img = cv2.imread(img_path)\n",
    "\n",
    "        imgextract.setimg(img)\n",
    "        imgextract.calc_canny_cnts()\n",
    "\n",
    "        \"\"\"windowname = img_path\n",
    "        cv2.namedWindow(windowname, cv2.WINDOW_NORMAL)\n",
    "        cv2.namedWindow(\"draw\", cv2.WINDOW_NORMAL)\n",
    "        cv2.imshow(windowname,imgextract.imgdict[\"cannyimg\"])\n",
    "        imgextract.draw_image(\"cnts\")\n",
    "        cv2.imshow(\"draw\",imgextract.draw_img)\n",
    "        cv2.waitKey()\n",
    "        cv2.destroyAllWindows()\"\"\"\n",
    "\n",
    "        rel = imgextract.calc_rel_breitgroß_2()\n",
    "        spitzo, spitzu = imgextract.calc_rel_spitze()\n",
    "        line_count = imgextract.calc_canny_lines()\n",
    "        edge_count = imgextract.calc_edges()\n",
    "        circle_count = imgextract.calc_circles()\n",
    "\n",
    "        imginfo.collect_numeric_data([rel,spitzo,spitzu,line_count,edge_count,circle_count,idx])\n",
    "        \n",
    "pd_imgdata = imginfo.get_feature_names(feature_names)\n",
    "\n",
    "#pd_imgdata.to_excel(\"Features.xlsx\")\n",
    "#pd_imgdata.to_csv('Features.csv')"
   ]
  },
  {
   "cell_type": "markdown",
   "metadata": {},
   "source": [
    "Version 2 der oberen zelle mit enem Feature mehr und andere Vorgehnsweise um das Bild für die Features zu filtern\n",
    "(Die letzten Befehle die eine csv-Datei oder excel-Datei erstellen sind auskommentiert)"
   ]
  },
  {
   "cell_type": "code",
   "execution_count": null,
   "metadata": {},
   "outputs": [],
   "source": [
    "import ricimg_to_table as ricL\n",
    "import cv2\n",
    "import ricpreimg as ricP\n",
    "\n",
    "imginfo = ricL.imgorga(\"Alle_Bilder\")\n",
    "imgextract = ricP.preimg()\n",
    "\n",
    "feature_names = [\"Rel_BreitGross\", \"RelSpitze_oben\",\"RelSpitze_unten\", \"Anzahl_Linie\",\"Anzahl_Ecken\",\n",
    "                \"Anzahl_Kreis\",\"innere_Konturen\",\"Label\"]\n",
    "\n",
    "for idx,label in enumerate(imginfo.labels):\n",
    "    for img_path in imginfo.image_paths[idx]:\n",
    "        #print(img_path)\n",
    "        img = cv2.imread(img_path)\n",
    "\n",
    "        imgextract.setimg(img)\n",
    "        imgextract.canny_filter2()\n",
    "\n",
    "        \"\"\"windowname = img_path\n",
    "        windowname2 = str(imgextract.imgdict[\"old_thres\"])\n",
    "        cv2.namedWindow(windowname, cv2.WINDOW_NORMAL)\n",
    "        cv2.namedWindow(windowname2, cv2.WINDOW_NORMAL)\n",
    "        cv2.imshow(windowname,imgextract.imgdict[\"cannyimg\"])\n",
    "        imgextract.draw_image(\"cnts\")\n",
    "        cv2.imshow(windowname2,imgextract.draw_img)\n",
    "        cv2.waitKey()\n",
    "        cv2.destroyAllWindows()\"\"\"\n",
    "\n",
    "        rel = imgextract.calc_rel_breitgroß_2()\n",
    "        spitzo, spitzu = imgextract.calc_rel_spitze()\n",
    "        line_count = imgextract.calc_canny_lines()\n",
    "        edge_count = imgextract.calc_edges()\n",
    "        circle_count = imgextract.calc_circles()\n",
    "        _,calc_inner_cnts_count = imgextract.calc_inner_cnts()\n",
    "\n",
    "        imginfo.collect_numeric_data([rel,spitzo,spitzu,line_count,edge_count,circle_count,calc_inner_cnts_count,idx])\n",
    "        \n",
    "pd_imgdata = imginfo.get_feature_names(feature_names)\n",
    "#pd_imgdata.to_excel(\"ricsData_small_v5.xlsx\")\n",
    "#pd_imgdata.to_csv(\"ricsData_big_v5.csv\")"
   ]
  },
  {
   "cell_type": "markdown",
   "metadata": {},
   "source": [
    "## Testen einens Bildes \n",
    "\n",
    "Hier wird die \"preimg\"- Klasse mit einem Bild getestet"
   ]
  },
  {
   "cell_type": "code",
   "execution_count": 1,
   "metadata": {},
   "outputs": [
    {
     "name": "stderr",
     "output_type": "stream",
     "text": [
      "c:\\Hochschule\\WS21_22\\KI1\\Programme\\Vorles_tensorflow\\Aufgabe\\ricpreimg.py:422: SyntaxWarning: \"is\" with a literal. Did you mean \"==\"?\n",
      "  if wasdenn is \"cnts\" or wasdenn is None:\n"
     ]
    }
   ],
   "source": [
    "import cv2\n",
    "import ricpreimg as rimg\n",
    "\n",
    "test = cv2.imread(\"foe.jpeg\")\n",
    "#test = cv2.imread(\"kz1.jpeg\")\n",
    "dingo = rimg.preimg()\n",
    "dingo.setimg(test)\n",
    "dingo.calc_canny_cnts()\n",
    "rel = dingo.calc_rel_breitgroß()\n",
    "spizo, spitzu = dingo.calc_rel_spitze()\n",
    "dinos = dingo.calc_canny_lines()\n",
    "circlos = dingo.calc_circles()\n",
    "dingo.draw_image()\n",
    "cv2.namedWindow(\"open33\", cv2.WINDOW_NORMAL)\n",
    "cv2.imshow('open33',dingo.draw_img)\n",
    "cv2.waitKey()\n",
    "cv2.destroyAllWindows()"
   ]
  },
  {
   "cell_type": "markdown",
   "metadata": {},
   "source": [
    "## Testen des Canny Filters mit seinen Parametern\n",
    "\n",
    "Um zu schauen welche Einstellungen am Besten die Kanten in einem Bild erkennt"
   ]
  },
  {
   "cell_type": "code",
   "execution_count": null,
   "metadata": {},
   "outputs": [],
   "source": [
    "import cv2\n",
    "#29f2cfa4a4.jpg \n",
    "#weiss.JPG cv.getTrackbarPos('nlm_thresh:', source_window)\n",
    "#cannyimg = cv2.imread(\"c:\\\\Hochschule\\\\WS21_22\\\\KI1\\\\Programme\\\\Vorles_tensorflow\\\\Aufgabe\\\\Meine_Bilder\\\\Flaschenoeffner\\\\IMG_3942.JPG\")\n",
    "#cannyimg = cv2.imread(\"c:\\\\Hochschule\\\\WS21_22\\\\KI1\\\\Programme\\\\Vorles_tensorflow\\\\Aufgabe\\\\Alle_Bilder\\\\Dosenoeffner\\\\06dc1fea9f.jpg\")\n",
    "cannyimg = cv2.imread(\"kz1.jpeg\")\n",
    "cannyimg = cv2.resize(cannyimg,(700,700))\n",
    "cannygray = cv2.cvtColor(cannyimg, cv2.COLOR_BGR2GRAY)\n",
    "cannyblur =cannygray\n",
    "cannyblur = cv2.GaussianBlur(cannygray, (9,9), 0)\n",
    "global threshold10\n",
    "global threshold20\n",
    "threshold10 = 120\n",
    "threshold20 = 120\n",
    "maxScaleUp = 400\n",
    "scaleFactor = 1\n",
    "windowName = \"canny\"\n",
    "trackbarValue1 = \"Threshold1\"\n",
    "trackbarValue2 = \"Threshold2\"\n",
    "cv2.namedWindow(windowName, cv2.WINDOW_NORMAL)\n",
    "\n",
    "def flexthresh(*args):\n",
    "    global threshold10\n",
    "    # Get the scale factor from the trackbar\n",
    "    threshold10=args[0]\n",
    "    # Resize the image\n",
    "    edges = cv2.Canny(image=cannyblur, threshold1=threshold10,threshold2=threshold20)\n",
    "    cv2.imshow(windowName, edges)\n",
    "\n",
    "def flexthresh2(*args):\n",
    "    global threshold20\n",
    "    # Get the scale factor from the trackbar\n",
    "    threshold20 = args[0]\n",
    "    # Resize the image\n",
    "    edges = cv2.Canny(image=cannyblur, threshold1=threshold10,threshold2=threshold20)\n",
    "    cv2.imshow(windowName, edges)\n",
    "\n",
    "cv2.createTrackbar(trackbarValue1, windowName, scaleFactor, maxScaleUp, flexthresh)\n",
    "cv2.createTrackbar(trackbarValue2, windowName, scaleFactor, maxScaleUp, flexthresh2)\n",
    "\n",
    "\n",
    "cv2.imshow(windowName, cannyblur)\n",
    "cv2.waitKey()\n",
    "cv2.destroyAllWindows()"
   ]
  }
 ],
 "metadata": {
  "interpreter": {
   "hash": "f0f9091a0a28f68c4dbc935a52f2f44d4866d209e20662b3f6a9f2abfaf89b83"
  },
  "kernelspec": {
   "display_name": "Python 3.8.8 64-bit ('tens': venv)",
   "language": "python",
   "name": "python3"
  },
  "language_info": {
   "codemirror_mode": {
    "name": "ipython",
    "version": 3
   },
   "file_extension": ".py",
   "mimetype": "text/x-python",
   "name": "python",
   "nbconvert_exporter": "python",
   "pygments_lexer": "ipython3",
   "version": "3.8.8"
  },
  "orig_nbformat": 4
 },
 "nbformat": 4,
 "nbformat_minor": 2
}
