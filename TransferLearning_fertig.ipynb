{
 "cells": [
  {
   "cell_type": "code",
   "execution_count": 32,
   "metadata": {},
   "outputs": [],
   "source": [
    "import matplotlib.pyplot as plt\n",
    "import numpy as np\n",
    "import os\n",
    "import tensorflow as tf\n",
    "\n",
    "\n"
   ]
  },
  {
   "cell_type": "code",
   "execution_count": 33,
   "metadata": {},
   "outputs": [
    {
     "name": "stdout",
     "output_type": "stream",
     "text": [
      "The autoreload extension is already loaded. To reload it, use:\n",
      "  %reload_ext autoreload\n"
     ]
    }
   ],
   "source": [
    "%load_ext autoreload\n",
    "%autoreload 2"
   ]
  },
  {
   "cell_type": "code",
   "execution_count": 34,
   "metadata": {},
   "outputs": [
    {
     "name": "stdout",
     "output_type": "stream",
     "text": [
      "Found 805 files belonging to 3 classes.\n",
      "Using 644 files for training.\n",
      "Found 805 files belonging to 3 classes.\n",
      "Using 161 files for validation.\n"
     ]
    }
   ],
   "source": [
    "import tensorflow as tf\n",
    "from tensorflow import keras\n",
    "from tensorflow.keras.preprocessing import image_dataset_from_directory\n",
    "training_set = image_dataset_from_directory(\"Alle_Bilder\",\n",
    "                                             shuffle=True,\n",
    "                                             validation_split=0.2,\n",
    "                                             subset=\"training\",\n",
    "                                             batch_size=32,\n",
    "                                             image_size=(150, 150),\n",
    "                                             seed=1337,\n",
    "                                             label_mode = 'categorical')\n",
    "\n",
    "val_dataset = image_dataset_from_directory(\"Alle_Bilder\",\n",
    "                                                  shuffle=True,\n",
    "                                                  validation_split=0.2,\n",
    "                                                  subset='validation',\n",
    "                                                  batch_size=32,\n",
    "                                                  image_size=(150, 150),\n",
    "                                                  seed=1337,\n",
    "                                                  label_mode = 'categorical')"
   ]
  },
  {
   "cell_type": "code",
   "execution_count": 35,
   "metadata": {},
   "outputs": [],
   "source": [
    "data_augmentation = keras.Sequential(\n",
    "    [       keras.layers.experimental.preprocessing.RandomFlip(\"horizontal\"),\n",
    "   keras.layers.experimental.preprocessing.RandomRotation(0.1),\n",
    "    ]\n",
    ")"
   ]
  },
  {
   "cell_type": "code",
   "execution_count": 36,
   "metadata": {},
   "outputs": [],
   "source": [
    "base_model = keras.applications.InceptionResNetV2(\n",
    "    weights=\"imagenet\",  # Load weights pre-trained on ImageNet.\n",
    "    input_shape=(150, 150, 3),\n",
    "    include_top=False,\n",
    ")"
   ]
  },
  {
   "cell_type": "code",
   "execution_count": 37,
   "metadata": {},
   "outputs": [],
   "source": [
    "base_model.trainable = False\n",
    "inputs = keras.Input(shape=(150, 150, 3))\n",
    "x = data_augmentation(inputs) \n",
    "scale_layer = keras.layers.Rescaling(scale=1 / 127.5, offset=-1)\n",
    "x = scale_layer(x)\n",
    "#x = tf.keras.applications.InceptionResNetV2.preprocess_input(x)\n"
   ]
  },
  {
   "cell_type": "code",
   "execution_count": 38,
   "metadata": {},
   "outputs": [],
   "source": [
    "x = base_model(x, training=False)\n",
    "x = keras.layers.GlobalAveragePooling2D()(x)\n",
    "x = keras.layers.Dropout(0.2)(x)  \n",
    "outputs = keras.layers.Dense(3,activation='softmax')(x)\n",
    "model = keras.Model(inputs, outputs)"
   ]
  },
  {
   "cell_type": "code",
   "execution_count": 57,
   "metadata": {},
   "outputs": [
    {
     "name": "stdout",
     "output_type": "stream",
     "text": [
      "Epoch 1/5\n",
      "21/21 [==============================] - 39s 1s/step - loss: 0.3590 - accuracy: 0.8820 - val_loss: 0.1879 - val_accuracy: 0.9255\n",
      "Epoch 2/5\n",
      "21/21 [==============================] - 30s 1s/step - loss: 0.2565 - accuracy: 0.9115 - val_loss: 0.1675 - val_accuracy: 0.9379\n",
      "Epoch 3/5\n",
      "21/21 [==============================] - 29s 1s/step - loss: 0.2715 - accuracy: 0.9130 - val_loss: 0.1665 - val_accuracy: 0.9379\n",
      "Epoch 4/5\n",
      "21/21 [==============================] - 28s 1s/step - loss: 0.1737 - accuracy: 0.9348 - val_loss: 0.1904 - val_accuracy: 0.9317\n",
      "Epoch 5/5\n",
      "21/21 [==============================] - 29s 1s/step - loss: 0.2118 - accuracy: 0.9161 - val_loss: 0.1667 - val_accuracy: 0.9503\n"
     ]
    }
   ],
   "source": [
    "model.compile(optimizer='adam', loss=tf.keras.losses.CategoricalCrossentropy(),metrics=['accuracy'])\n",
    "\n",
    "history = model.fit(training_set, epochs=5, validation_data=val_dataset)\n"
   ]
  },
  {
   "cell_type": "code",
   "execution_count": null,
   "metadata": {},
   "outputs": [],
   "source": [
    "acc = history.history['accuracy']\n",
    "val_acc = history.history['val_accuracy']\n",
    "\n",
    "loss = history.history['loss']\n",
    "val_loss = history.history['val_loss']\n",
    "\n",
    "plt.figure(figsize=(8, 8))\n",
    "plt.subplot(2, 1, 1)\n",
    "plt.plot(acc, label='Training Accuracy')\n",
    "plt.plot(val_acc, label='Validation Accuracy')\n",
    "plt.legend(loc='lower right')\n",
    "plt.ylabel('Accuracy')\n",
    "plt.ylim([min(plt.ylim()),1])\n",
    "plt.title('Training and Validation Accuracy')\n",
    "\n",
    "plt.subplot(2, 1, 2)\n",
    "plt.plot(loss, label='Training Loss')\n",
    "plt.plot(val_loss, label='Validation Loss')\n",
    "plt.legend(loc='upper right')\n",
    "plt.ylabel('Cross Entropy')\n",
    "plt.ylim([0,1.0])\n",
    "plt.title('Training and Validation Loss')\n",
    "plt.xlabel('epoch')\n",
    "plt.show()"
   ]
  },
  {
   "cell_type": "code",
   "execution_count": 58,
   "metadata": {},
   "outputs": [
    {
     "name": "stdout",
     "output_type": "stream",
     "text": [
      "Model: \"model_3\"\n",
      "_________________________________________________________________\n",
      " Layer (type)                Output Shape              Param #   \n",
      "=================================================================\n",
      " input_8 (InputLayer)        [(None, 150, 150, 3)]     0         \n",
      "                                                                 \n",
      " sequential_3 (Sequential)   (None, 150, 150, 3)       0         \n",
      "                                                                 \n",
      " rescaling_3 (Rescaling)     (None, 150, 150, 3)       0         \n",
      "                                                                 \n",
      " inception_resnet_v2 (Functi  (None, 3, 3, 1536)       54336736  \n",
      " onal)                                                           \n",
      "                                                                 \n",
      " global_average_pooling2d_3   (None, 1536)             0         \n",
      " (GlobalAveragePooling2D)                                        \n",
      "                                                                 \n",
      " dropout_3 (Dropout)         (None, 1536)              0         \n",
      "                                                                 \n",
      " dense_3 (Dense)             (None, 3)                 4611      \n",
      "                                                                 \n",
      "=================================================================\n",
      "Total params: 54,341,347\n",
      "Trainable params: 54,280,803\n",
      "Non-trainable params: 60,544\n",
      "_________________________________________________________________\n",
      "Epoch 1/3\n",
      "21/21 [==============================] - 134s 6s/step - loss: 0.1791 - accuracy: 0.9348 - val_loss: 0.1525 - val_accuracy: 0.9752\n",
      "Epoch 2/3\n",
      "21/21 [==============================] - 116s 5s/step - loss: 0.0989 - accuracy: 0.9674 - val_loss: 0.1111 - val_accuracy: 0.9565\n",
      "Epoch 3/3\n",
      "21/21 [==============================] - 122s 6s/step - loss: 0.0581 - accuracy: 0.9798 - val_loss: 0.1283 - val_accuracy: 0.9627\n"
     ]
    }
   ],
   "source": [
    "base_model.trainable = True\n",
    "model.summary()\n",
    "\n",
    "model.compile(\n",
    "    optimizer=keras.optimizers.Adam(1e-5),  # Low learning rate\n",
    "    loss=tf.keras.losses.CategoricalCrossentropy(),metrics=['accuracy']\n",
    ")\n",
    "\n",
    "history = model.fit(training_set, epochs=3, validation_data=val_dataset)"
   ]
  },
  {
   "cell_type": "code",
   "execution_count": 59,
   "metadata": {},
   "outputs": [
    {
     "data": {
      "image/png": "[encoded data removed]",
      "text/plain": [
       "<Figure size 576x576 with 2 Axes>"
      ]
     },
     "metadata": {
      "needs_background": "light"
     },
     "output_type": "display_data"
    }
   ],
   "source": [
    "acc = history.history['accuracy']\n",
    "val_acc = history.history['val_accuracy']\n",
    "\n",
    "loss = history.history['loss']\n",
    "val_loss = history.history['val_loss']\n",
    "\n",
    "plt.figure(figsize=(8, 8))\n",
    "plt.subplot(2, 1, 1)\n",
    "plt.plot(acc, label='Training Accuracy')\n",
    "plt.plot(val_acc, label='Validation Accuracy')\n",
    "plt.legend(loc='lower right')\n",
    "plt.ylabel('Accuracy')\n",
    "plt.ylim([min(plt.ylim()),1])\n",
    "plt.title('Training and Validation Accuracy')\n",
    "\n",
    "plt.subplot(2, 1, 2)\n",
    "plt.plot(loss, label='Training Loss')\n",
    "plt.plot(val_loss, label='Validation Loss')\n",
    "plt.legend(loc='upper right')\n",
    "plt.ylabel('Cross Entropy')\n",
    "plt.ylim([0,1.0])\n",
    "plt.title('Training and Validation Loss')\n",
    "plt.xlabel('epoch')\n",
    "plt.show()"
   ]
  },
  {
   "cell_type": "code",
   "execution_count": null,
   "metadata": {},
   "outputs": [],
   "source": [
    "import random\n",
    "\n",
    "Images_test = image_dataset_from_directory(\"Alle_Bilder\",\n",
    "                                             shuffle=True,\n",
    "                                             batch_size=32,\n",
    "                                             image_size=(150, 150),\n",
    "                                             seed=1337,\n",
    "                                             label_mode = 'categorical')\n",
    "\n",
    "prediction = model.predict(Images_test)\n",
    "randindex = random.randint(0,len(Images_test))\n",
    "# Die Funktion argmax() liefert uns den index des höchsten Werts des Ergebnisvektors\n",
    "CNN = prediction[randindex].argmax()\n",
    "plttitle = \"Testbild Nr. {} \\n CNN Klasse: {}\".format(randindex,CNN)\n",
    "plt.imshow(test_images[randindex].reshape(100,100), cmap='gray')\n",
    "plt.title(plttitle)\n",
    "plt.axis('off')\n",
    "plt.show()"
   ]
  },
  {
   "cell_type": "code",
   "execution_count": 45,
   "metadata": {},
   "outputs": [],
   "source": [
    "import numpy as np\n",
    "import cv2\n",
    "\n",
    "\"\"\"img = cv2.imread('foe.jpeg')\n",
    "img = cv2.resize(img,(150,150))\n",
    "img= np.expand_dims(img, axis=0)\"\"\"\n",
    "\n",
    "\n",
    "\n",
    "Images_test = image_dataset_from_directory(\"Alle_Bilder\",\n",
    "                                             shuffle=True,\n",
    "                                             batch_size=32,\n",
    "                                             image_size=(150, 150),\n",
    "                                             seed=1337,\n",
    "                                             label_mode = 'categorical')\n",
    "prediction = model.predict(img)"
   ]
  },
  {
   "cell_type": "code",
   "execution_count": 53,
   "metadata": {},
   "outputs": [
    {
     "data": {
      "text/plain": [
       "array([[0.32933655, 0.3284506 , 0.3422129 ]], dtype=float32)"
      ]
     },
     "execution_count": 53,
     "metadata": {},
     "output_type": "execute_result"
    }
   ],
   "source": [
    "from PIL import Image\n",
    "import numpy as np\n",
    "def load(filename):\n",
    "   np_image = Image.open(filename)\n",
    "   np_image = np.array(np_image).astype('float32')/255\n",
    "   np_image = cv2.resize(np_image, (150, 150))\n",
    "   np_image = np.expand_dims(np_image, axis=0)\n",
    "   return np_image\n",
    "\n",
    "image = load('kz2.jpeg')\n",
    "model.predict(image)"
   ]
  },
  {
   "cell_type": "code",
   "execution_count": 56,
   "metadata": {},
   "outputs": [
    {
     "data": {
      "text/plain": [
       "array([[0.32984054, 0.33077112, 0.3393883 ]], dtype=float32)"
      ]
     },
     "execution_count": 56,
     "metadata": {},
     "output_type": "execute_result"
    }
   ],
   "source": [
    "image = load('foe2.jpeg')\n",
    "model.predict(image)"
   ]
  }
 ],
 "metadata": {
  "interpreter": {
   "hash": "f0f9091a0a28f68c4dbc935a52f2f44d4866d209e20662b3f6a9f2abfaf89b83"
  },
  "kernelspec": {
   "display_name": "Python 3.8.8 64-bit ('tens': venv)",
   "language": "python",
   "name": "python3"
  },
  "language_info": {
   "codemirror_mode": {
    "name": "ipython",
    "version": 3
   },
   "file_extension": ".py",
   "mimetype": "text/x-python",
   "name": "python",
   "nbconvert_exporter": "python",
   "pygments_lexer": "ipython3",
   "version": "3.8.8"
  },
  "orig_nbformat": 4
 },
 "nbformat": 4,
 "nbformat_minor": 2
}
