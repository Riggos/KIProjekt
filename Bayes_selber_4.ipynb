{
 "cells": [
  {
   "cell_type": "code",
   "execution_count": 23,
   "metadata": {},
   "outputs": [],
   "source": [
    "import Bayes_class as BC \n",
    "\n",
    "\n",
    "import Data_preparation as DP \n",
    "DP=DP.Data_preparation()\n",
    "\n",
    "import pandas as pd\n",
    "from sklearn.metrics import classification_report, confusion_matrix"
   ]
  },
  {
   "cell_type": "code",
   "execution_count": 24,
   "metadata": {},
   "outputs": [
    {
     "name": "stdout",
     "output_type": "stream",
     "text": [
      "training set size: 644 samples \n",
      "test set size: 161 samples\n"
     ]
    }
   ],
   "source": [
    "df=DP.load_csv_to_df(\"ricsData_big_v5.csv\")\n",
    "X_train,X_test,y_train,y_test=DP.split_data(df,0.8)"
   ]
  },
  {
   "cell_type": "code",
   "execution_count": 25,
   "metadata": {},
   "outputs": [],
   "source": [
    "nb=BC.GaussianNaiveBayes() \n",
    "nb.fit(X_train.values,y_train.values.ravel())\n",
    "y_predicted=nb.predict(X_test.values)\n"
   ]
  },
  {
   "cell_type": "code",
   "execution_count": 26,
   "metadata": {},
   "outputs": [
    {
     "name": "stdout",
     "output_type": "stream",
     "text": [
      "              precision    recall  f1-score   support\n",
      "\n",
      "           0       0.52      0.47      0.49        49\n",
      "           1       0.54      0.73      0.62        44\n",
      "           2       0.67      0.57      0.62        68\n",
      "\n",
      "    accuracy                           0.58       161\n",
      "   macro avg       0.58      0.59      0.58       161\n",
      "weighted avg       0.59      0.58      0.58       161\n",
      "\n"
     ]
    }
   ],
   "source": [
    "print(classification_report(y_predicted,y_test))"
   ]
  },
  {
   "cell_type": "markdown",
   "metadata": {},
   "source": []
  }
 ],
 "metadata": {
  "interpreter": {
   "hash": "c551dc114b32d4ddc6af681dae58062c65c2dc9524da8427dc77f23f376f7293"
  },
  "kernelspec": {
   "display_name": "Python 3.9.9 64-bit ('env': venv)",
   "language": "python",
   "name": "python3"
  },
  "language_info": {
   "codemirror_mode": {
    "name": "ipython",
    "version": 3
   },
   "file_extension": ".py",
   "mimetype": "text/x-python",
   "name": "python",
   "nbconvert_exporter": "python",
   "pygments_lexer": "ipython3",
   "version": "3.9.9"
  },
  "orig_nbformat": 4
 },
 "nbformat": 4,
 "nbformat_minor": 2
}
