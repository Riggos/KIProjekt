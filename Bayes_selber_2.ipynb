{
 "cells": [
  {
   "cell_type": "code",
   "execution_count": 282,
   "metadata": {},
   "outputs": [],
   "source": [
    "import numpy as np \n",
    "import pandas as pd\n",
    "import matplotlib.pyplot as plt\n",
    "import seaborn as sns\n",
    "sns.set_style(\"darkgrid\")\n",
    "import random\n",
    "import math"
   ]
  },
  {
   "cell_type": "code",
   "execution_count": 283,
   "metadata": {},
   "outputs": [
    {
     "data": {
      "text/html": [
       "<div>\n",
       "<style scoped>\n",
       "    .dataframe tbody tr th:only-of-type {\n",
       "        vertical-align: middle;\n",
       "    }\n",
       "\n",
       "    .dataframe tbody tr th {\n",
       "        vertical-align: top;\n",
       "    }\n",
       "\n",
       "    .dataframe thead th {\n",
       "        text-align: right;\n",
       "    }\n",
       "</style>\n",
       "<table border=\"1\" class=\"dataframe\">\n",
       "  <thead>\n",
       "    <tr style=\"text-align: right;\">\n",
       "      <th></th>\n",
       "      <th>Rel_BreitGross</th>\n",
       "      <th>RelSpitze_oben</th>\n",
       "      <th>RelSpitze_unten</th>\n",
       "      <th>Anzahl_Linie</th>\n",
       "      <th>Anzahl_Ecken</th>\n",
       "      <th>Anzahl_Kreis</th>\n",
       "      <th>Label</th>\n",
       "    </tr>\n",
       "  </thead>\n",
       "  <tbody>\n",
       "    <tr>\n",
       "      <th>0</th>\n",
       "      <td>0.585379</td>\n",
       "      <td>0.703125</td>\n",
       "      <td>0.796875</td>\n",
       "      <td>0</td>\n",
       "      <td>2</td>\n",
       "      <td>0</td>\n",
       "      <td>0</td>\n",
       "    </tr>\n",
       "    <tr>\n",
       "      <th>1</th>\n",
       "      <td>0.359746</td>\n",
       "      <td>0.986014</td>\n",
       "      <td>0.972028</td>\n",
       "      <td>0</td>\n",
       "      <td>2</td>\n",
       "      <td>0</td>\n",
       "      <td>0</td>\n",
       "    </tr>\n",
       "    <tr>\n",
       "      <th>2</th>\n",
       "      <td>0.440901</td>\n",
       "      <td>0.201531</td>\n",
       "      <td>0.994898</td>\n",
       "      <td>0</td>\n",
       "      <td>2</td>\n",
       "      <td>0</td>\n",
       "      <td>0</td>\n",
       "    </tr>\n",
       "    <tr>\n",
       "      <th>3</th>\n",
       "      <td>0.456432</td>\n",
       "      <td>0.182278</td>\n",
       "      <td>0.643038</td>\n",
       "      <td>0</td>\n",
       "      <td>1</td>\n",
       "      <td>0</td>\n",
       "      <td>0</td>\n",
       "    </tr>\n",
       "    <tr>\n",
       "      <th>4</th>\n",
       "      <td>0.409339</td>\n",
       "      <td>0.840426</td>\n",
       "      <td>0.837766</td>\n",
       "      <td>0</td>\n",
       "      <td>1</td>\n",
       "      <td>0</td>\n",
       "      <td>0</td>\n",
       "    </tr>\n",
       "  </tbody>\n",
       "</table>\n",
       "</div>"
      ],
      "text/plain": [
       "   Rel_BreitGross  RelSpitze_oben  RelSpitze_unten  Anzahl_Linie  \\\n",
       "0        0.585379        0.703125         0.796875             0   \n",
       "1        0.359746        0.986014         0.972028             0   \n",
       "2        0.440901        0.201531         0.994898             0   \n",
       "3        0.456432        0.182278         0.643038             0   \n",
       "4        0.409339        0.840426         0.837766             0   \n",
       "\n",
       "   Anzahl_Ecken  Anzahl_Kreis  Label  \n",
       "0             2             0      0  \n",
       "1             2             0      0  \n",
       "2             2             0      0  \n",
       "3             1             0      0  \n",
       "4             1             0      0  "
      ]
     },
     "execution_count": 283,
     "metadata": {},
     "output_type": "execute_result"
    }
   ],
   "source": [
    "#load data from csv file\n",
    "\n",
    "def loadCsv(filename):\n",
    "    #TODO choose collums by indices and not by string name\n",
    "    df = pd.read_csv(filename, usecols=['Rel_BreitGross', 'RelSpitze_oben',\n",
    "                     'RelSpitze_unten', 'Anzahl_Linie', 'Anzahl_Kreis','Anzahl_Ecken', 'Label'])\n",
    "    \"\"\"\n",
    "    dataset = df.values.tolist()\n",
    "    \n",
    "    for i in range(len(dataset)):\n",
    "        dataset[i] = [float(x) for x in dataset[i]]\n",
    "    \"\"\"\n",
    "    return df\n",
    "\n",
    "dataset=loadCsv('ricsData2.csv')\n",
    "dataset.head()"
   ]
  },
  {
   "cell_type": "code",
   "execution_count": 284,
   "metadata": {},
   "outputs": [
    {
     "data": {
      "text/plain": [
       "<AxesSubplot:>"
      ]
     },
     "execution_count": 284,
     "metadata": {},
     "output_type": "execute_result"
    },
    {
     "data": {
      "image/png": "[encoded data removed]",
      "text/plain": [
       "<Figure size 432x288 with 1 Axes>"
      ]
     },
     "metadata": {},
     "output_type": "display_data"
    }
   ],
   "source": [
    "dataset[\"Label\"].hist()"
   ]
  },
  {
   "cell_type": "code",
   "execution_count": 285,
   "metadata": {},
   "outputs": [
    {
     "data": {
      "text/plain": [
       "<AxesSubplot:>"
      ]
     },
     "execution_count": 285,
     "metadata": {},
     "output_type": "execute_result"
    },
    {
     "data": {
      "image/png": "[encoded data removed]",
      "text/plain": [
       "<Figure size 432x288 with 2 Axes>"
      ]
     },
     "metadata": {},
     "output_type": "display_data"
    }
   ],
   "source": [
    "#Check if the features are independent \n",
    "corr = dataset.iloc[:,:-1].corr(method=\"pearson\")\n",
    "cmap = sns.diverging_palette(250,354,80,60,center='dark',as_cmap=True)\n",
    "sns.heatmap(corr,vmax=1,vmin=0.5,cmap=cmap,square=True,linewidths=0.2)"
   ]
  },
  {
   "cell_type": "code",
   "execution_count": 286,
   "metadata": {},
   "outputs": [
    {
     "name": "stdout",
     "output_type": "stream",
     "text": [
      "Rel_BreitGross\n",
      "RelSpitze_oben\n",
      "RelSpitze_unten\n",
      "Anzahl_Linie\n",
      "Anzahl_Ecken\n",
      "Anzahl_Kreis\n",
      "Label\n"
     ]
    }
   ],
   "source": [
    "#print all features \n",
    "for col in dataset.columns:\n",
    "    print(col)"
   ]
  },
  {
   "cell_type": "code",
   "execution_count": 287,
   "metadata": {},
   "outputs": [
    {
     "data": {
      "text/html": [
       "<div>\n",
       "<style scoped>\n",
       "    .dataframe tbody tr th:only-of-type {\n",
       "        vertical-align: middle;\n",
       "    }\n",
       "\n",
       "    .dataframe tbody tr th {\n",
       "        vertical-align: top;\n",
       "    }\n",
       "\n",
       "    .dataframe thead th {\n",
       "        text-align: right;\n",
       "    }\n",
       "</style>\n",
       "<table border=\"1\" class=\"dataframe\">\n",
       "  <thead>\n",
       "    <tr style=\"text-align: right;\">\n",
       "      <th></th>\n",
       "      <th>Rel_BreitGross</th>\n",
       "      <th>RelSpitze_oben</th>\n",
       "      <th>RelSpitze_unten</th>\n",
       "      <th>Anzahl_Linie</th>\n",
       "      <th>Anzahl_Kreis</th>\n",
       "      <th>Anzahl_Ecken</th>\n",
       "      <th>Label</th>\n",
       "    </tr>\n",
       "  </thead>\n",
       "  <tbody>\n",
       "    <tr>\n",
       "      <th>0</th>\n",
       "      <td>0.585379</td>\n",
       "      <td>0.703125</td>\n",
       "      <td>0.796875</td>\n",
       "      <td>0</td>\n",
       "      <td>0</td>\n",
       "      <td>2</td>\n",
       "      <td>0</td>\n",
       "    </tr>\n",
       "    <tr>\n",
       "      <th>1</th>\n",
       "      <td>0.359746</td>\n",
       "      <td>0.986014</td>\n",
       "      <td>0.972028</td>\n",
       "      <td>0</td>\n",
       "      <td>0</td>\n",
       "      <td>2</td>\n",
       "      <td>0</td>\n",
       "    </tr>\n",
       "    <tr>\n",
       "      <th>2</th>\n",
       "      <td>0.440901</td>\n",
       "      <td>0.201531</td>\n",
       "      <td>0.994898</td>\n",
       "      <td>0</td>\n",
       "      <td>0</td>\n",
       "      <td>2</td>\n",
       "      <td>0</td>\n",
       "    </tr>\n",
       "    <tr>\n",
       "      <th>3</th>\n",
       "      <td>0.456432</td>\n",
       "      <td>0.182278</td>\n",
       "      <td>0.643038</td>\n",
       "      <td>0</td>\n",
       "      <td>0</td>\n",
       "      <td>1</td>\n",
       "      <td>0</td>\n",
       "    </tr>\n",
       "    <tr>\n",
       "      <th>4</th>\n",
       "      <td>0.409339</td>\n",
       "      <td>0.840426</td>\n",
       "      <td>0.837766</td>\n",
       "      <td>0</td>\n",
       "      <td>0</td>\n",
       "      <td>1</td>\n",
       "      <td>0</td>\n",
       "    </tr>\n",
       "  </tbody>\n",
       "</table>\n",
       "</div>"
      ],
      "text/plain": [
       "   Rel_BreitGross  RelSpitze_oben  RelSpitze_unten  Anzahl_Linie  \\\n",
       "0        0.585379        0.703125         0.796875             0   \n",
       "1        0.359746        0.986014         0.972028             0   \n",
       "2        0.440901        0.201531         0.994898             0   \n",
       "3        0.456432        0.182278         0.643038             0   \n",
       "4        0.409339        0.840426         0.837766             0   \n",
       "\n",
       "   Anzahl_Kreis  Anzahl_Ecken  Label  \n",
       "0             0             2      0  \n",
       "1             0             2      0  \n",
       "2             0             2      0  \n",
       "3             0             1      0  \n",
       "4             0             1      0  "
      ]
     },
     "execution_count": 287,
     "metadata": {},
     "output_type": "execute_result"
    }
   ],
   "source": [
    "#choose the features that are independet\n",
    "choosen_dataset=dataset[['Rel_BreitGross', 'RelSpitze_oben',\n",
    "                     'RelSpitze_unten', 'Anzahl_Linie', 'Anzahl_Kreis','Anzahl_Ecken','Label']]\n",
    "\n",
    "choosen_dataset.head()\n"
   ]
  },
  {
   "cell_type": "code",
   "execution_count": 288,
   "metadata": {},
   "outputs": [
    {
     "data": {
      "text/plain": [
       "<AxesSubplot:xlabel='Anzahl_Ecken', ylabel='Count'>"
      ]
     },
     "execution_count": 288,
     "metadata": {},
     "output_type": "execute_result"
    },
    {
     "data": {
      "image/png": "[encoded data removed]",
      "text/plain": [
       "<Figure size 1296x432 with 6 Axes>"
      ]
     },
     "metadata": {},
     "output_type": "display_data"
    }
   ],
   "source": [
    "#accorodingly to the choosen date change the name of the x values \n",
    "\n",
    "fig, axes = plt.subplots(2, 3, figsize=(18, 6), sharey=True)\n",
    "sns.histplot(choosen_dataset, ax=axes[0][0], x=\"Rel_BreitGross\", kde=True, color='r')\n",
    "sns.histplot(choosen_dataset, ax=axes[0][1], x=\"RelSpitze_oben\", kde=True, color='b')\n",
    "sns.histplot(choosen_dataset, ax=axes[0][2], x=\"RelSpitze_unten\", kde=True)\n",
    "sns.histplot(choosen_dataset, ax=axes[1][0], x=\"Anzahl_Linie\", kde=True, color='r')\n",
    "sns.histplot(choosen_dataset, ax=axes[1][1], x=\"Anzahl_Kreis\", kde=True, color='b')\n",
    "sns.histplot(choosen_dataset, ax=axes[1][2], x=\"Anzahl_Ecken\", kde=True)"
   ]
  },
  {
   "cell_type": "code",
   "execution_count": 289,
   "metadata": {},
   "outputs": [],
   "source": [
    "def splitDataset(df, splitRatio):\n",
    "    \n",
    "    dataset=df.values.tolist()#only use this line if the data is not in list format \n",
    "    trainSize = int(len(dataset)*splitRatio)\n",
    "    trainSet = []\n",
    "    copy = list(dataset)\n",
    "    while len(trainSet) < trainSize:\n",
    "        index = random.randrange(len(copy))\n",
    "        trainSet.append(copy.pop(index))\n",
    "    return [trainSet,copy]\n"
   ]
  },
  {
   "cell_type": "code",
   "execution_count": 290,
   "metadata": {},
   "outputs": [],
   "source": [
    "def separateByClass(dataset):\n",
    "    separated = {}\n",
    "    for i in range(len(dataset)):\n",
    "        vector = dataset [i]\n",
    "        if (vector[-1] not in separated):\n",
    "            separated[vector[-1]]=[]\n",
    "        separated[vector[-1]].append(vector)\n",
    "    return separated\n",
    "            "
   ]
  },
  {
   "cell_type": "code",
   "execution_count": 291,
   "metadata": {},
   "outputs": [],
   "source": [
    "def mean(numbers):\n",
    "    return sum(numbers)/float(len(numbers))"
   ]
  },
  {
   "cell_type": "code",
   "execution_count": 292,
   "metadata": {},
   "outputs": [],
   "source": [
    "def stdev(numbers):\n",
    "    avg = mean (numbers)\n",
    "    variance = sum ([pow(x-avg,2) for x in numbers])/float(len(numbers)-1)\n",
    "    return math.sqrt(variance)"
   ]
  },
  {
   "cell_type": "code",
   "execution_count": 293,
   "metadata": {},
   "outputs": [],
   "source": [
    "def summarize(dataset):\n",
    "    summaries =[(mean(attribute),stdev(attribute))for attribute in zip(*dataset) ]\n",
    "    del summaries[-1]\n",
    "    return summaries"
   ]
  },
  {
   "cell_type": "code",
   "execution_count": 294,
   "metadata": {},
   "outputs": [],
   "source": [
    "def summarizeByClass(dataset):\n",
    "    separated = separateByClass(dataset)\n",
    "    summaries = {}\n",
    "    for classValue, instances in separated.items():\n",
    "        summaries[classValue]= summarize(instances)\n",
    "    return summaries "
   ]
  },
  {
   "cell_type": "code",
   "execution_count": 295,
   "metadata": {},
   "outputs": [],
   "source": [
    "def calculateProbability(x,mean,stdev):\n",
    "    exponent = math.exp(-(math.pow(x-mean,2)/(2*math.pow(stdev,2))))\n",
    "    return (1/(math.sqrt(2*math.pi)*stdev))*exponent"
   ]
  },
  {
   "cell_type": "code",
   "execution_count": 296,
   "metadata": {},
   "outputs": [],
   "source": [
    "def calculateClassProbabilities(summaries, inputVector):\n",
    "    probabilities = {}\n",
    "    for classValue, classSummaries in summaries.items():\n",
    "        probabilities[classValue]= 1\n",
    "        for i in range(len(classSummaries)):\n",
    "            mean,stdev = classSummaries[i]\n",
    "            x = inputVector[i]\n",
    "            probabilities[classValue] *= calculateProbability(x,mean,stdev)\n",
    "        return probabilities"
   ]
  },
  {
   "cell_type": "code",
   "execution_count": 297,
   "metadata": {},
   "outputs": [],
   "source": [
    "def predict(summaries, inputVector):\n",
    "    probabilities = calculateClassProbabilities(summaries,inputVector)\n",
    "    bestLabel,bestProb = None, -1 \n",
    "    for classValue, probability in probabilities.items():\n",
    "        if bestLabel is None or probability > bestProb:\n",
    "            bestProb = probability\n",
    "            bestLabel = classValue\n",
    "    return bestLabel"
   ]
  },
  {
   "cell_type": "code",
   "execution_count": 298,
   "metadata": {},
   "outputs": [],
   "source": [
    "def getPredictions(summaries, testSet):\n",
    "    predictions =[]\n",
    "    for i in range(len(testSet)):\n",
    "        result = predict(summaries,testSet[i])\n",
    "        predictions.append(result)\n",
    "    return predictions\n",
    "      "
   ]
  },
  {
   "cell_type": "code",
   "execution_count": 299,
   "metadata": {},
   "outputs": [],
   "source": [
    "def getAccuracy(testSet, predictions):\n",
    "    correct=0\n",
    "    for x in range(len(testSet)):\n",
    "        if testSet[x][-1]==predictions[x]:\n",
    "            correct += 1\n",
    "    return (correct/float(len(testSet)))*100.0\n"
   ]
  },
  {
   "cell_type": "code",
   "execution_count": 300,
   "metadata": {},
   "outputs": [],
   "source": [
    "def main():\n",
    "    #filename = 'ric.csv'\n",
    "    splitRatio = 0.8 \n",
    "    #datset=loadCsv(filename)\n",
    "    trainingSet,testSet = splitDataset(choosen_dataset,splitRatio)\n",
    "    print('Split {0} rows into train ={1} and test = {2} rows'.format(len(choosen_dataset),len(trainingSet),len(testSet)))\n",
    "    #prepare model\n",
    "    summaries = summarizeByClass(trainingSet)\n",
    "    #test model\n",
    "    predictions = getPredictions (summaries, testSet)\n",
    "    accuracy = getAccuracy(testSet,predictions)\n",
    "    print('Acucuracy: {0}%'.format(accuracy))\n",
    "    "
   ]
  },
  {
   "cell_type": "code",
   "execution_count": 301,
   "metadata": {},
   "outputs": [
    {
     "name": "stdout",
     "output_type": "stream",
     "text": [
      "Split 84 rows into train =67 and test = 17 rows\n",
      "Acucuracy: 58.82352941176471%\n"
     ]
    }
   ],
   "source": [
    "main()"
   ]
  },
  {
   "cell_type": "code",
   "execution_count": null,
   "metadata": {},
   "outputs": [],
   "source": []
  },
  {
   "cell_type": "code",
   "execution_count": null,
   "metadata": {},
   "outputs": [],
   "source": []
  }
 ],
 "metadata": {
  "interpreter": {
   "hash": "c551dc114b32d4ddc6af681dae58062c65c2dc9524da8427dc77f23f376f7293"
  },
  "kernelspec": {
   "display_name": "Python 3.9.9 64-bit ('env': venv)",
   "language": "python",
   "name": "python3"
  },
  "language_info": {
   "codemirror_mode": {
    "name": "ipython",
    "version": 3
   },
   "file_extension": ".py",
   "mimetype": "text/x-python",
   "name": "python",
   "nbconvert_exporter": "python",
   "pygments_lexer": "ipython3",
   "version": "3.9.9"
  },
  "orig_nbformat": 4
 },
 "nbformat": 4,
 "nbformat_minor": 2
}
