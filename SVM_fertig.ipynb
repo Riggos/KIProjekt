{
 "cells": [
  {
   "cell_type": "markdown",
   "metadata": {},
   "source": [
    "### Suport Vektor Machine  mit Sklearn\n",
    "\n",
    "\n",
    "von Eric Hirsch und Jonas Morsch "
   ]
  },
  {
   "cell_type": "markdown",
   "metadata": {},
   "source": [
    "### Einbinden alle benötigten Bibliotehken "
   ]
  },
  {
   "cell_type": "code",
   "execution_count": 8,
   "metadata": {},
   "outputs": [],
   "source": [
    "import numpy as np\n",
    "import pandas as pd\n",
    "import matplotlib.pyplot as plt\n",
    "import random\n",
    "%matplotlib inline\n",
    "\n",
    "import Data_preparation as DP\n",
    "\n",
    "DP=DP.Data_preparation()\n",
    "\n",
    "\n",
    "from sklearn.svm import SVC\n",
    "from sklearn import metrics\n",
    "from sklearn.metrics import ConfusionMatrixDisplay\n",
    "from sklearn.metrics import classification_report, confusion_matrix,mean_squared_error"
   ]
  },
  {
   "cell_type": "markdown",
   "metadata": {},
   "source": [
    "### Einlesen des Datensatzes "
   ]
  },
  {
   "cell_type": "code",
   "execution_count": 9,
   "metadata": {},
   "outputs": [
    {
     "name": "stdout",
     "output_type": "stream",
     "text": [
      "Index(['Rel_BreitGross', 'RelSpitze_oben', 'RelSpitze_unten', 'Anzahl_Linie',\n",
      "       'Anzahl_Ecken', 'Anzahl_Kreis', 'innere_Konturen', 'Label'],\n",
      "      dtype='object')\n",
      "training set size: 564 samples \n",
      "test set size: 241 samples\n"
     ]
    },
    {
     "data": {
      "text/html": [
       "<div>\n",
       "<style scoped>\n",
       "    .dataframe tbody tr th:only-of-type {\n",
       "        vertical-align: middle;\n",
       "    }\n",
       "\n",
       "    .dataframe tbody tr th {\n",
       "        vertical-align: top;\n",
       "    }\n",
       "\n",
       "    .dataframe thead th {\n",
       "        text-align: right;\n",
       "    }\n",
       "</style>\n",
       "<table border=\"1\" class=\"dataframe\">\n",
       "  <thead>\n",
       "    <tr style=\"text-align: right;\">\n",
       "      <th></th>\n",
       "      <th>Rel_BreitGross</th>\n",
       "      <th>RelSpitze_oben</th>\n",
       "      <th>RelSpitze_unten</th>\n",
       "      <th>Anzahl_Linie</th>\n",
       "      <th>Anzahl_Ecken</th>\n",
       "      <th>Anzahl_Kreis</th>\n",
       "      <th>innere_Konturen</th>\n",
       "      <th>Label</th>\n",
       "    </tr>\n",
       "  </thead>\n",
       "  <tbody>\n",
       "    <tr>\n",
       "      <th>0</th>\n",
       "      <td>0.288606</td>\n",
       "      <td>0.074919</td>\n",
       "      <td>0.618893</td>\n",
       "      <td>6</td>\n",
       "      <td>1</td>\n",
       "      <td>0</td>\n",
       "      <td>0.716694</td>\n",
       "      <td>0</td>\n",
       "    </tr>\n",
       "    <tr>\n",
       "      <th>1</th>\n",
       "      <td>0.494050</td>\n",
       "      <td>0.685185</td>\n",
       "      <td>0.634259</td>\n",
       "      <td>5</td>\n",
       "      <td>7</td>\n",
       "      <td>0</td>\n",
       "      <td>0.163891</td>\n",
       "      <td>0</td>\n",
       "    </tr>\n",
       "    <tr>\n",
       "      <th>2</th>\n",
       "      <td>0.497540</td>\n",
       "      <td>0.986384</td>\n",
       "      <td>0.989410</td>\n",
       "      <td>15</td>\n",
       "      <td>8</td>\n",
       "      <td>0</td>\n",
       "      <td>0.169400</td>\n",
       "      <td>0</td>\n",
       "    </tr>\n",
       "    <tr>\n",
       "      <th>3</th>\n",
       "      <td>0.480687</td>\n",
       "      <td>0.714286</td>\n",
       "      <td>0.592262</td>\n",
       "      <td>21</td>\n",
       "      <td>6</td>\n",
       "      <td>0</td>\n",
       "      <td>0.085573</td>\n",
       "      <td>0</td>\n",
       "    </tr>\n",
       "    <tr>\n",
       "      <th>4</th>\n",
       "      <td>0.322937</td>\n",
       "      <td>0.159763</td>\n",
       "      <td>0.633136</td>\n",
       "      <td>21</td>\n",
       "      <td>3</td>\n",
       "      <td>0</td>\n",
       "      <td>0.038672</td>\n",
       "      <td>0</td>\n",
       "    </tr>\n",
       "  </tbody>\n",
       "</table>\n",
       "</div>"
      ],
      "text/plain": [
       "   Rel_BreitGross  RelSpitze_oben  RelSpitze_unten  Anzahl_Linie  \\\n",
       "0        0.288606        0.074919         0.618893             6   \n",
       "1        0.494050        0.685185         0.634259             5   \n",
       "2        0.497540        0.986384         0.989410            15   \n",
       "3        0.480687        0.714286         0.592262            21   \n",
       "4        0.322937        0.159763         0.633136            21   \n",
       "\n",
       "   Anzahl_Ecken  Anzahl_Kreis  innere_Konturen  Label  \n",
       "0             1             0         0.716694      0  \n",
       "1             7             0         0.163891      0  \n",
       "2             8             0         0.169400      0  \n",
       "3             6             0         0.085573      0  \n",
       "4             3             0         0.038672      0  "
      ]
     },
     "execution_count": 9,
     "metadata": {},
     "output_type": "execute_result"
    }
   ],
   "source": [
    "df=DP.load_csv_to_df(\"ricsData_big_v5.csv\")\n",
    "print(df.columns)# Anzeigen aller features und Labels \n",
    "# Merkamle welche für die Klassifizierung benutzt werden sollen auswählen \n",
    "#df=df[[\"Rel_BreitGross\",\"RelSpitze_oben\",\"RelSpitze_unten\",\"Anzahl_Linie\",\"Label\"]]\n",
    "X_train,X_test,y_train,y_test=DP.split_data(df,0.7)# Aufteilen der Daten in Trainings und Testdaten \n",
    "df.head()"
   ]
  },
  {
   "cell_type": "markdown",
   "metadata": {},
   "source": [
    "### Erstellen des Suport Vector Machine Modesl und trainiern des Models"
   ]
  },
  {
   "cell_type": "code",
   "execution_count": 10,
   "metadata": {},
   "outputs": [
    {
     "data": {
      "text/plain": [
       "SVC()"
      ]
     },
     "execution_count": 10,
     "metadata": {},
     "output_type": "execute_result"
    }
   ],
   "source": [
    "model=SVC()\n",
    "model.fit(X_train.values,y_train.values.ravel())"
   ]
  },
  {
   "cell_type": "code",
   "execution_count": 11,
   "metadata": {},
   "outputs": [],
   "source": [
    "pred=model.predict(X_test.values)"
   ]
  },
  {
   "cell_type": "code",
   "execution_count": 13,
   "metadata": {},
   "outputs": [
    {
     "name": "stdout",
     "output_type": "stream",
     "text": [
      "              precision    recall  f1-score   support\n",
      "\n",
      "           0       0.56      0.37      0.44        68\n",
      "           1       0.58      0.64      0.61        85\n",
      "           2       0.54      0.64      0.59        88\n",
      "\n",
      "    accuracy                           0.56       241\n",
      "   macro avg       0.56      0.55      0.55       241\n",
      "weighted avg       0.56      0.56      0.55       241\n",
      "\n",
      "Mean squarred Error: 0.942319905859604\n",
      "Confusion matrix\n",
      "[[25 19 24]\n",
      " [ 8 54 23]\n",
      " [12 20 56]]\n"
     ]
    },
    {
     "data": {
      "image/png": "[encoded data removed]",
      "text/plain": [
       "<Figure size 432x288 with 2 Axes>"
      ]
     },
     "metadata": {
      "needs_background": "light"
     },
     "output_type": "display_data"
    }
   ],
   "source": [
    "print(metrics.classification_report(y_test.values,pred))\n",
    "np.set_printoptions(precision=2) # only to digits after the dot \n",
    "class_names=[\"Dosenoeffner\",\"Flaschenoeffner\",\"Korkenzieher\"]# name the classes \n",
    "\n",
    "rms=mean_squared_error(y_test,pred,squared=False)\n",
    "\n",
    "print(\"Mean squarred Error:\",rms)\n",
    "\n",
    "### create a confusion Matrix \n",
    "disp = ConfusionMatrixDisplay.from_estimator(\n",
    "    model,\n",
    "    X_test.values,\n",
    "    y_test.values,\n",
    "    display_labels=class_names,\n",
    "    cmap=plt.cm.Blues,\n",
    "    normalize=None,\n",
    ")\n",
    "disp.ax_.set_title(\"Confusion matrix\")\n",
    "\n",
    "print(\"Confusion matrix\")\n",
    "print(disp.confusion_matrix)"
   ]
  },
  {
   "cell_type": "code",
   "execution_count": null,
   "metadata": {},
   "outputs": [
    {
     "name": "stdout",
     "output_type": "stream",
     "text": [
      "Class predictet by Naive Bayes: [2]\n",
      "actual Class: Label    1\n",
      "Name: 464, dtype: int64 \n"
     ]
    }
   ],
   "source": [
    "random_index=random.randint(0,len(X_test)) # ein Index im Bereich 0 länge der Testdaten wählen \n",
    "prediction=model.predict(X_test.values[random_index].reshape(1,-1))# ein zufälligesd Bild Vorhersagen \n",
    "print(\"Class predictet by Naive Bayes: {}\".format(prediction))\n",
    "print(\"actual Class: {} \".format(y_test.iloc[random_index,:]))"
   ]
  },
  {
   "cell_type": "code",
   "execution_count": null,
   "metadata": {},
   "outputs": [],
   "source": []
  }
 ],
 "metadata": {
  "interpreter": {
   "hash": "c551dc114b32d4ddc6af681dae58062c65c2dc9524da8427dc77f23f376f7293"
  },
  "kernelspec": {
   "display_name": "Python 3.9.9 64-bit ('env': venv)",
   "language": "python",
   "name": "python3"
  },
  "language_info": {
   "codemirror_mode": {
    "name": "ipython",
    "version": 3
   },
   "file_extension": ".py",
   "mimetype": "text/x-python",
   "name": "python",
   "nbconvert_exporter": "python",
   "pygments_lexer": "ipython3",
   "version": "3.9.9"
  },
  "orig_nbformat": 4
 },
 "nbformat": 4,
 "nbformat_minor": 2
}
