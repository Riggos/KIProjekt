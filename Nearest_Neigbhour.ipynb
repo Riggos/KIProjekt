{
 "cells": [
  {
   "cell_type": "markdown",
   "metadata": {},
   "source": [
    "# Nearest Neigbhor"
   ]
  },
  {
   "cell_type": "code",
   "execution_count": 64,
   "metadata": {},
   "outputs": [],
   "source": [
    "import matplotlib.pyplot as plt\n",
    "import numpy as np\n",
    "import pandas as pd\n",
    "import seaborn as sns\n",
    "import random \n",
    "\n",
    "from sklearn.model_selection import train_test_split , KFold\n",
    "from sklearn.preprocessing import Normalizer\n",
    "from sklearn.metrics import accuracy_score\n",
    "from sklearn.neighbors import KNeighborsClassifier\n",
    "from sklearn.metrics import classification_report, confusion_matrix\n",
    "from collections import Counter\n",
    "\n",
    "import Data_preparation as DV \n",
    "DV=DV.Data_preparation()\n"
   ]
  },
  {
   "cell_type": "markdown",
   "metadata": {},
   "source": [
    "### Load the Dataset "
   ]
  },
  {
   "cell_type": "code",
   "execution_count": 75,
   "metadata": {},
   "outputs": [
    {
     "name": "stdout",
     "output_type": "stream",
     "text": [
      "training set size: 402 samples \n",
      "test set size: 403 samples\n"
     ]
    }
   ],
   "source": [
    "\n",
    "df=DV.load_csv_to_df(\"ricsData_big_v5.csv\")\n",
    "train_features,test_features,train_labels,test_labels=DV.split_data(df,0.5)\n"
   ]
  },
  {
   "cell_type": "markdown",
   "metadata": {},
   "source": [
    "### Normalize the Dataset \n"
   ]
  },
  {
   "cell_type": "code",
   "execution_count": 76,
   "metadata": {},
   "outputs": [
    {
     "name": "stdout",
     "output_type": "stream",
     "text": [
      "x train before Normalization\n",
      "     Rel_BreitGross  RelSpitze_oben  RelSpitze_unten  Anzahl_Linie  \\\n",
      "124        0.400092        0.116242         0.542994            55   \n",
      "\n",
      "     Anzahl_Ecken  Anzahl_Kreis  innere_Konturen  \n",
      "124             3             0         0.090544  \n",
      "\n",
      "x train after Normalization\n",
      "[[0.00726304 0.00211019 0.00985718 0.99843729 0.05446022 0.\n",
      "  0.00164368]]\n"
     ]
    }
   ],
   "source": [
    "scaler= Normalizer().fit(train_features) # the scaler is fitted to the training set\n",
    "normalized_x_train= scaler.transform(train_features) # the scaler is applied to the training set\n",
    "normalized_x_test= scaler.transform(test_features) # the scaler is applied to the test set\n",
    "print('x train before Normalization')\n",
    "print(train_features[0:1])\n",
    "print('\\nx train after Normalization')\n",
    "print(normalized_x_train[0:1])"
   ]
  },
  {
   "cell_type": "markdown",
   "metadata": {},
   "source": [
    "### Make a KNN classifier"
   ]
  },
  {
   "cell_type": "code",
   "execution_count": 77,
   "metadata": {},
   "outputs": [],
   "source": [
    "K=6\n",
    "knn=KNeighborsClassifier(K)\n",
    "knn.fit(normalized_x_train, np.ravel(train_labels))\n",
    "y_pred= knn.predict(normalized_x_test)\n",
    "#print(y_pred)"
   ]
  },
  {
   "cell_type": "code",
   "execution_count": 78,
   "metadata": {},
   "outputs": [
    {
     "name": "stdout",
     "output_type": "stream",
     "text": [
      "The accuracy of sklearn implementation is 0.5136476426799007\n",
      "[[62 20 49]\n",
      " [39 66 38]\n",
      " [35 15 79]]\n",
      "              precision    recall  f1-score   support\n",
      "\n",
      "           0       0.46      0.47      0.46       131\n",
      "           1       0.65      0.46      0.54       143\n",
      "           2       0.48      0.61      0.54       129\n",
      "\n",
      "    accuracy                           0.51       403\n",
      "   macro avg       0.53      0.52      0.51       403\n",
      "weighted avg       0.53      0.51      0.51       403\n",
      "\n"
     ]
    }
   ],
   "source": [
    "print(f'The accuracy of sklearn implementation is {accuracy_score(np.ravel(test_labels), y_pred)}')\n",
    "print(confusion_matrix(test_labels, y_pred))\n",
    "print(classification_report(test_labels, y_pred))\n"
   ]
  },
  {
   "cell_type": "markdown",
   "metadata": {},
   "source": [
    "### Predict a single Image "
   ]
  },
  {
   "cell_type": "code",
   "execution_count": 74,
   "metadata": {},
   "outputs": [
    {
     "name": "stdout",
     "output_type": "stream",
     "text": [
      "Class predictet by KNN: [0]\n",
      "actual Class: Label    2\n",
      "Name: 724, dtype: int64 \n"
     ]
    }
   ],
   "source": [
    "random_index=random.randint(0,len(test_features))\n",
    "prediction=knn.predict(test_features.values[random_index].reshape(1,-1))\n",
    "print(\"Class predictet by KNN: {}\".format(prediction))\n",
    "print(\"actual Class: {} \".format(test_labels.iloc[random_index,:]))"
   ]
  },
  {
   "cell_type": "code",
   "execution_count": null,
   "metadata": {},
   "outputs": [],
   "source": []
  }
 ],
 "metadata": {
  "interpreter": {
   "hash": "c551dc114b32d4ddc6af681dae58062c65c2dc9524da8427dc77f23f376f7293"
  },
  "kernelspec": {
   "display_name": "Python 3.9.9 64-bit ('env': venv)",
   "language": "python",
   "name": "python3"
  },
  "language_info": {
   "codemirror_mode": {
    "name": "ipython",
    "version": 3
   },
   "file_extension": ".py",
   "mimetype": "text/x-python",
   "name": "python",
   "nbconvert_exporter": "python",
   "pygments_lexer": "ipython3",
   "version": "3.9.9"
  },
  "orig_nbformat": 4
 },
 "nbformat": 4,
 "nbformat_minor": 2
}
