{
 "cells": [
  {
   "cell_type": "code",
   "execution_count": null,
   "metadata": {},
   "outputs": [],
   "source": [
    "\n",
    "import numpy as np\n",
    "import cv2 \n",
    "\n",
    "Bild = cv2.imread('kz2.jpeg')\n",
    "gray = cv2.cvtColor(Bild, cv2.COLOR_BGR2GRAY)\n",
    "image = cv2.GaussianBlur(gray, (9,9), 0)\n",
    "canny_img= cv2.Canny(image=image, threshold1=8,threshold2=255)\n",
    "\n",
    "Groesse= cv2.getStructuringElement(cv2.MORPH_ELLIPSE,(5,5))\n",
    "dil_img = cv2.dilate(canny_img,Groesse,iterations = 6)\n",
    "height, width = image.shape\n",
    "\n",
    "cnts1= cv2.findContours(dil_img, cv2.RETR_EXTERNAL, cv2.CHAIN_APPROX_SIMPLE)\n",
    "cnts = cnts1[0] if len(cnts1) == 2 else cnts1[1]\n",
    "c = max(cnts, key=cv2.contourArea)\n",
    "\n",
    "cv2.drawContours(Bild, [c], -1, (36, 255, 12), 10)\n",
    "\n",
    "\n",
    "cv2.namedWindow(\"open33\", cv2.WINDOW_NORMAL)\n",
    "cv2.imshow('open33',dil_img)\n",
    "cv2.waitKey(0)\n",
    "cv2.destroyAllWindows()"
   ]
  },
  {
   "cell_type": "code",
   "execution_count": null,
   "metadata": {},
   "outputs": [],
   "source": [
    "import numpy as np\n",
    "dingo = (5,-5)\n",
    "lala = (3,2)\n",
    "\n",
    "ts = np.subtract(dingo, lala) \n",
    "print(np.positive(ts))\n",
    "print (np.absolute(ts))"
   ]
  },
  {
   "cell_type": "markdown",
   "metadata": {},
   "source": [
    "%load_ext autoreload\n",
    "%autoreload 2"
   ]
  },
  {
   "cell_type": "code",
   "execution_count": 5,
   "metadata": {},
   "outputs": [
    {
     "name": "stdout",
     "output_type": "stream",
     "text": [
      "Hi\n"
     ]
    }
   ],
   "source": [
    "\n",
    "import cv2\n",
    "import ricpreimg as rimg\n",
    "\n",
    "test = cv2.imread(\"kz2.jpeg\")\n",
    "dingo = rimg.preimg()\n",
    "dingo.setimg(\"C:\\Hochschule\\WS21_22\\KI1\\Programme\\Vorles_tensorflow\\Aufgabe\\kz2.jpeg\")\n",
    "dingo.calc_canny_cnts()\n",
    "rel = dingo.calc_rel_breitgroß()\n",
    "spizo, spitzu = dingo.calc_rel_spitze()\n",
    "dinos = dingo.calc_canny_lines()\n",
    "circlos = dingo.calc_circles()\n"
   ]
  }
 ],
 "metadata": {
  "interpreter": {
   "hash": "f0f9091a0a28f68c4dbc935a52f2f44d4866d209e20662b3f6a9f2abfaf89b83"
  },
  "kernelspec": {
   "display_name": "Python 3.8.8 64-bit ('tens': venv)",
   "language": "python",
   "name": "python3"
  },
  "language_info": {
   "codemirror_mode": {
    "name": "ipython",
    "version": 3
   },
   "file_extension": ".py",
   "mimetype": "text/x-python",
   "name": "python",
   "nbconvert_exporter": "python",
   "pygments_lexer": "ipython3",
   "version": "3.8.8"
  },
  "orig_nbformat": 4
 },
 "nbformat": 4,
 "nbformat_minor": 2
}
