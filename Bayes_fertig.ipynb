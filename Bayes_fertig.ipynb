{
 "cells": [
  {
   "cell_type": "code",
   "execution_count": 1,
   "metadata": {},
   "outputs": [],
   "source": [
    "from sklearn.model_selection import train_test_split\n",
    "from sklearn.naive_bayes import GaussianNB\n",
    "import pandas as pd \n",
    "import numpy as np \n",
    "from sklearn import metrics\n",
    "from sklearn.metrics import ConfusionMatrixDisplay\n",
    "import matplotlib.pyplot as plt\n",
    "\n",
    "import Data_preparation as  DP\n",
    "DP=DP.Data_preparation()\n"
   ]
  },
  {
   "cell_type": "code",
   "execution_count": 2,
   "metadata": {},
   "outputs": [
    {
     "name": "stdout",
     "output_type": "stream",
     "text": [
      "training set size: 322 samples \n",
      "test set size: 483 samples\n"
     ]
    }
   ],
   "source": [
    "df=DP.load_csv_to_df(\"ricsData_big_v5.csv\")\n",
    "X_train,X_test,y_train,y_test=DP.split_data(df,0.4)"
   ]
  },
  {
   "cell_type": "code",
   "execution_count": 3,
   "metadata": {},
   "outputs": [
    {
     "name": "stderr",
     "output_type": "stream",
     "text": [
      "c:\\Users\\jonas\\Documents\\08_Master\\Python_Projekte\\Verfahren_der_KI\\KIProjekt\\env\\lib\\site-packages\\sklearn\\utils\\validation.py:993: DataConversionWarning: A column-vector y was passed when a 1d array was expected. Please change the shape of y to (n_samples, ), for example using ravel().\n",
      "  y = column_or_1d(y, warn=True)\n"
     ]
    }
   ],
   "source": [
    "#X_train,X_test,y_train,y_test =train_test_split(data,label,test_size=0.8,random_state=0)\n",
    "gnb = GaussianNB()\n",
    "y_pred = gnb.fit(X_train,y_train).predict(X_test)\n",
    "\n"
   ]
  },
  {
   "cell_type": "code",
   "execution_count": 5,
   "metadata": {},
   "outputs": [
    {
     "name": "stdout",
     "output_type": "stream",
     "text": [
      "              precision    recall  f1-score   support\n",
      "\n",
      "           0       0.46      0.51      0.48       138\n",
      "           1       0.63      0.68      0.66       180\n",
      "           2       0.61      0.50      0.55       165\n",
      "\n",
      "    accuracy                           0.57       483\n",
      "   macro avg       0.57      0.56      0.56       483\n",
      "weighted avg       0.57      0.57      0.57       483\n",
      "\n",
      "Confusion matrix\n",
      "[[ 70  36  32]\n",
      " [ 35 123  22]\n",
      " [ 46  36  83]]\n"
     ]
    },
    {
     "data": {
      "image/png": "[encoded data removed]",
      "text/plain": [
       "<Figure size 432x288 with 2 Axes>"
      ]
     },
     "metadata": {
      "needs_background": "light"
     },
     "output_type": "display_data"
    }
   ],
   "source": [
    "print(metrics.classification_report(y_test,y_pred))\n",
    "np.set_printoptions(precision=2)\n",
    "class_names=[\"Dosenoeffner\",\"Flaschenoeffner\",\"Korkenzieher\"]\n",
    "\n",
    "\n",
    "disp = ConfusionMatrixDisplay.from_estimator(\n",
    "    gnb,\n",
    "    X_test,\n",
    "    y_test,\n",
    "    display_labels=class_names,\n",
    "    cmap=plt.cm.Blues,\n",
    "    normalize=None,\n",
    ")\n",
    "disp.ax_.set_title(\"Confusion matrix\")\n",
    "\n",
    "print(\"Confusion matrix\")\n",
    "print(disp.confusion_matrix)"
   ]
  },
  {
   "cell_type": "code",
   "execution_count": null,
   "metadata": {},
   "outputs": [],
   "source": []
  }
 ],
 "metadata": {
  "interpreter": {
   "hash": "c551dc114b32d4ddc6af681dae58062c65c2dc9524da8427dc77f23f376f7293"
  },
  "kernelspec": {
   "display_name": "Python 3.9.9 64-bit ('env': venv)",
   "language": "python",
   "name": "python3"
  },
  "language_info": {
   "codemirror_mode": {
    "name": "ipython",
    "version": 3
   },
   "file_extension": ".py",
   "mimetype": "text/x-python",
   "name": "python",
   "nbconvert_exporter": "python",
   "pygments_lexer": "ipython3",
   "version": "3.9.9"
  },
  "orig_nbformat": 4
 },
 "nbformat": 4,
 "nbformat_minor": 2
}
