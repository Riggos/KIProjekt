{
 "cells": [
  {
   "cell_type": "markdown",
   "metadata": {},
   "source": [
    "# Transfer Learning mithilfe von Tensorflow bzw. Keras\n",
    "\n",
    "von Eric Hirsch und Jonas Morsch\n"
   ]
  },
  {
   "cell_type": "code",
   "execution_count": 22,
   "metadata": {},
   "outputs": [],
   "source": [
    "import matplotlib.pyplot as plt\n",
    "import numpy as np\n",
    "import os\n",
    "import tensorflow as tf\n",
    "\n",
    "\n"
   ]
  },
  {
   "cell_type": "code",
   "execution_count": 23,
   "metadata": {},
   "outputs": [
    {
     "name": "stdout",
     "output_type": "stream",
     "text": [
      "The autoreload extension is already loaded. To reload it, use:\n",
      "  %reload_ext autoreload\n"
     ]
    }
   ],
   "source": [
    "%load_ext autoreload\n",
    "%autoreload 2"
   ]
  },
  {
   "cell_type": "markdown",
   "metadata": {},
   "source": [
    "Importieren der Bilder mit \"image_dataset_from_directory\""
   ]
  },
  {
   "cell_type": "code",
   "execution_count": 24,
   "metadata": {},
   "outputs": [
    {
     "name": "stdout",
     "output_type": "stream",
     "text": [
      "Found 805 files belonging to 3 classes.\n",
      "Using 644 files for training.\n",
      "Found 805 files belonging to 3 classes.\n",
      "Using 161 files for validation.\n"
     ]
    }
   ],
   "source": [
    "import tensorflow as tf\n",
    "from tensorflow import keras\n",
    "from tensorflow.keras.preprocessing import image_dataset_from_directory\n",
    "training_set = image_dataset_from_directory(\"Alle_Bilder\",\n",
    "                                             shuffle=True,\n",
    "                                             validation_split=0.2,\n",
    "                                             subset=\"training\",\n",
    "                                             batch_size=32,\n",
    "                                             image_size=(150, 150),\n",
    "                                             seed=1337,\n",
    "                                             label_mode = 'categorical')\n",
    "\n",
    "val_dataset = image_dataset_from_directory(\"Alle_Bilder\",\n",
    "                                                  shuffle=True,\n",
    "                                                  validation_split=0.2,\n",
    "                                                  subset='validation',\n",
    "                                                  batch_size=32,\n",
    "                                                  image_size=(150, 150),\n",
    "                                                  seed=1337,\n",
    "                                                  label_mode = 'categorical')"
   ]
  },
  {
   "cell_type": "markdown",
   "metadata": {},
   "source": [
    "Durchführung von data_augmentation"
   ]
  },
  {
   "cell_type": "code",
   "execution_count": 25,
   "metadata": {},
   "outputs": [],
   "source": [
    "data_augmentation = keras.Sequential(\n",
    "    [       keras.layers.experimental.preprocessing.RandomFlip(\"horizontal\"),\n",
    "   keras.layers.experimental.preprocessing.RandomRotation(0.1),\n",
    "    ]\n",
    ")"
   ]
  },
  {
   "cell_type": "markdown",
   "metadata": {},
   "source": [
    "Laden des fertigen Basis Modells, dass wir für das Tranfer Learning benutzen"
   ]
  },
  {
   "cell_type": "code",
   "execution_count": 26,
   "metadata": {},
   "outputs": [],
   "source": [
    "base_model = keras.applications.InceptionResNetV2(\n",
    "    weights=\"imagenet\",  # Load weights pre-trained on ImageNet.\n",
    "    input_shape=(150, 150, 3),\n",
    "    include_top=False,\n",
    ")"
   ]
  },
  {
   "cell_type": "markdown",
   "metadata": {},
   "source": [
    "Einstellen, dass erstmal das Basis Modell nicht trainiert wird bzw. die Gewichte davon nicht angepasst werden"
   ]
  },
  {
   "cell_type": "code",
   "execution_count": 27,
   "metadata": {},
   "outputs": [],
   "source": [
    "base_model.trainable = False\n",
    "\n"
   ]
  },
  {
   "cell_type": "markdown",
   "metadata": {},
   "source": [
    "Erstellen eigener Metriken, da Keras Recall, Precison und F1-Score nicht unterstützt"
   ]
  },
  {
   "cell_type": "code",
   "execution_count": 28,
   "metadata": {},
   "outputs": [],
   "source": [
    "from keras import backend as K\n",
    "\n",
    "def recall_m(y_true, y_pred):\n",
    "    true_positives = K.sum(K.round(K.clip(y_true * y_pred, 0, 1)))\n",
    "    possible_positives = K.sum(K.round(K.clip(y_true, 0, 1)))\n",
    "    recall = true_positives / (possible_positives + K.epsilon())\n",
    "    return recall\n",
    "\n",
    "def precision_m(y_true, y_pred):\n",
    "    true_positives = K.sum(K.round(K.clip(y_true * y_pred, 0, 1)))\n",
    "    predicted_positives = K.sum(K.round(K.clip(y_pred, 0, 1)))\n",
    "    precision = true_positives / (predicted_positives + K.epsilon())\n",
    "    return precision\n",
    "\n",
    "def f1_m(y_true, y_pred):\n",
    "    precision = precision_m(y_true, y_pred)\n",
    "    recall = recall_m(y_true, y_pred)\n",
    "    return 2*((precision*recall)/(precision+recall+K.epsilon()))"
   ]
  },
  {
   "cell_type": "markdown",
   "metadata": {},
   "source": [
    "## Erstellen und Trainieren des KI Modells\n",
    "\n",
    "Input-Layer wird für unsere Bilder angepasst <br>\n",
    "Danach kommt ein Data-Augmentation-Layer und Layer zum anpassen der Bilder<br>\n",
    "Das Basis-Modell wird angefügt und die letzten Layer inklusive Output-Layer wird für unsere Ergebnisse angepasst\n"
   ]
  },
  {
   "cell_type": "code",
   "execution_count": 29,
   "metadata": {},
   "outputs": [],
   "source": [
    "inputs = keras.Input(shape=(150, 150, 3))\n",
    "x = data_augmentation(inputs) \n",
    "scale_layer = keras.layers.Rescaling(scale=1 / 127.5, offset=-1)\n",
    "x = scale_layer(x)\n",
    "#x = tf.keras.applications.InceptionResNetV2.preprocess_input(x)\n",
    "x = base_model(x, training=False)\n",
    "x = keras.layers.GlobalAveragePooling2D()(x)\n",
    "x = keras.layers.Dropout(0.2)(x)  \n",
    "outputs = keras.layers.Dense(3,activation='softmax')(x)\n",
    "model = keras.Model(inputs, outputs)"
   ]
  },
  {
   "cell_type": "markdown",
   "metadata": {},
   "source": [
    "Trainieren des Modells"
   ]
  },
  {
   "cell_type": "code",
   "execution_count": 30,
   "metadata": {},
   "outputs": [
    {
     "name": "stdout",
     "output_type": "stream",
     "text": [
      "Epoch 1/6\n",
      "21/21 [==============================] - 37s 1s/step - loss: 0.8869 - accuracy: 0.6972 - f1_m: 0.6954 - precision_m: 0.7121 - recall_m: 0.6801 - val_loss: 0.3797 - val_accuracy: 0.8820 - val_f1_m: 0.9061 - val_precision_m: 0.9115 - val_recall_m: 0.9010\n",
      "Epoch 2/6\n",
      "21/21 [==============================] - 27s 1s/step - loss: 0.5151 - accuracy: 0.8354 - f1_m: 0.8320 - precision_m: 0.8415 - recall_m: 0.8229 - val_loss: 0.2284 - val_accuracy: 0.9130 - val_f1_m: 0.9268 - val_precision_m: 0.9318 - val_recall_m: 0.9219\n",
      "Epoch 3/6\n",
      "21/21 [==============================] - 27s 1s/step - loss: 0.3739 - accuracy: 0.8696 - f1_m: 0.8678 - precision_m: 0.8758 - recall_m: 0.8601 - val_loss: 0.1649 - val_accuracy: 0.9255 - val_f1_m: 0.9375 - val_precision_m: 0.9375 - val_recall_m: 0.9375\n",
      "Epoch 4/6\n",
      "21/21 [==============================] - 27s 1s/step - loss: 0.3441 - accuracy: 0.8727 - f1_m: 0.8693 - precision_m: 0.8792 - recall_m: 0.8601 - val_loss: 0.1774 - val_accuracy: 0.9317 - val_f1_m: 0.9392 - val_precision_m: 0.9519 - val_recall_m: 0.9271\n",
      "Epoch 5/6\n",
      "21/21 [==============================] - 27s 1s/step - loss: 0.3056 - accuracy: 0.8960 - f1_m: 0.8795 - precision_m: 0.8842 - recall_m: 0.8750 - val_loss: 0.1451 - val_accuracy: 0.9379 - val_f1_m: 0.9420 - val_precision_m: 0.9469 - val_recall_m: 0.9375\n",
      "Epoch 6/6\n",
      "21/21 [==============================] - 27s 1s/step - loss: 0.2725 - accuracy: 0.9053 - f1_m: 0.9095 - precision_m: 0.9144 - recall_m: 0.9048 - val_loss: 0.1555 - val_accuracy: 0.9255 - val_f1_m: 0.9400 - val_precision_m: 0.9425 - val_recall_m: 0.9375\n"
     ]
    }
   ],
   "source": [
    "model.compile(optimizer='adam', loss=tf.keras.losses.CategoricalCrossentropy(),metrics=['accuracy',f1_m,precision_m, recall_m])\n",
    "\n",
    "history = model.fit(training_set, epochs=6, validation_data=val_dataset)\n"
   ]
  },
  {
   "cell_type": "markdown",
   "metadata": {},
   "source": [
    "Zeigen der Loss und Accuracy-Werte während den Epochen"
   ]
  },
  {
   "cell_type": "code",
   "execution_count": 31,
   "metadata": {},
   "outputs": [
    {
     "data": {
      "image/png": "[encoded data removed]",
      "text/plain": [
       "<Figure size 576x576 with 2 Axes>"
      ]
     },
     "metadata": {
      "needs_background": "light"
     },
     "output_type": "display_data"
    }
   ],
   "source": [
    "acc = history.history['accuracy']\n",
    "val_acc = history.history['val_accuracy']\n",
    "\n",
    "loss = history.history['loss']\n",
    "val_loss = history.history['val_loss']\n",
    "\n",
    "plt.figure(figsize=(8, 8))\n",
    "plt.subplot(2, 1, 1)\n",
    "plt.plot(acc, label='Training Accuracy')\n",
    "plt.plot(val_acc, label='Validation Accuracy')\n",
    "plt.legend(loc='lower right')\n",
    "plt.ylabel('Accuracy')\n",
    "plt.ylim([min(plt.ylim()),1])\n",
    "plt.title('Training and Validation Accuracy')\n",
    "\n",
    "plt.subplot(2, 1, 2)\n",
    "plt.plot(loss, label='Training Loss')\n",
    "plt.plot(val_loss, label='Validation Loss')\n",
    "plt.legend(loc='upper right')\n",
    "plt.ylabel('Cross Entropy')\n",
    "plt.ylim([0,1.0])\n",
    "plt.title('Training and Validation Loss')\n",
    "plt.xlabel('epoch')\n",
    "plt.show()"
   ]
  },
  {
   "cell_type": "markdown",
   "metadata": {},
   "source": [
    "### Traineren des Modells: Fine-Tuning\n",
    "Nun wird eingestellt, dass auch die Gewichte des Basis-Modells trainiert werden können. Jedoch nur mit geringer Lernrate"
   ]
  },
  {
   "cell_type": "code",
   "execution_count": 32,
   "metadata": {},
   "outputs": [
    {
     "name": "stdout",
     "output_type": "stream",
     "text": [
      "Model: \"model_1\"\n",
      "_________________________________________________________________\n",
      " Layer (type)                Output Shape              Param #   \n",
      "=================================================================\n",
      " input_4 (InputLayer)        [(None, 150, 150, 3)]     0         \n",
      "                                                                 \n",
      " sequential_1 (Sequential)   (None, 150, 150, 3)       0         \n",
      "                                                                 \n",
      " rescaling_1 (Rescaling)     (None, 150, 150, 3)       0         \n",
      "                                                                 \n",
      " inception_resnet_v2 (Functi  (None, 3, 3, 1536)       54336736  \n",
      " onal)                                                           \n",
      "                                                                 \n",
      " global_average_pooling2d_1   (None, 1536)             0         \n",
      " (GlobalAveragePooling2D)                                        \n",
      "                                                                 \n",
      " dropout_1 (Dropout)         (None, 1536)              0         \n",
      "                                                                 \n",
      " dense_1 (Dense)             (None, 3)                 4611      \n",
      "                                                                 \n",
      "=================================================================\n",
      "Total params: 54,341,347\n",
      "Trainable params: 54,280,803\n",
      "Non-trainable params: 60,544\n",
      "_________________________________________________________________\n",
      "Epoch 1/3\n",
      "21/21 [==============================] - 136s 6s/step - loss: 0.1999 - accuracy: 0.9363 - f1_m: 0.9378 - precision_m: 0.9427 - recall_m: 0.9330 - val_loss: 0.1203 - val_accuracy: 0.9503 - val_f1_m: 0.9633 - val_precision_m: 0.9684 - val_recall_m: 0.9583\n",
      "Epoch 2/3\n",
      "21/21 [==============================] - 114s 5s/step - loss: 0.1174 - accuracy: 0.9612 - f1_m: 0.9628 - precision_m: 0.9628 - recall_m: 0.9628 - val_loss: 0.1183 - val_accuracy: 0.9317 - val_f1_m: 0.9498 - val_precision_m: 0.9572 - val_recall_m: 0.9427\n",
      "Epoch 3/3\n",
      "21/21 [==============================] - 112s 5s/step - loss: 0.0507 - accuracy: 0.9814 - f1_m: 0.9814 - precision_m: 0.9821 - recall_m: 0.9807 - val_loss: 0.0946 - val_accuracy: 0.9627 - val_f1_m: 0.9688 - val_precision_m: 0.9688 - val_recall_m: 0.9688\n"
     ]
    }
   ],
   "source": [
    "base_model.trainable = True\n",
    "model.summary()\n",
    "\n",
    "model.compile(\n",
    "    optimizer=keras.optimizers.Adam(1e-5),  # Low learning rate\n",
    "    loss=tf.keras.losses.CategoricalCrossentropy(),metrics=['accuracy',f1_m,precision_m, recall_m]\n",
    ")\n",
    "\n",
    "history = model.fit(training_set, epochs=3, validation_data=val_dataset)"
   ]
  },
  {
   "cell_type": "markdown",
   "metadata": {},
   "source": [
    "Zeigen der Loss und Accuracy-Werte während den Epochen fürs Fine-Tuning"
   ]
  },
  {
   "cell_type": "code",
   "execution_count": 33,
   "metadata": {},
   "outputs": [
    {
     "data": {
      "image/png": "[encoded data removed]",
      "text/plain": [
       "<Figure size 576x576 with 2 Axes>"
      ]
     },
     "metadata": {
      "needs_background": "light"
     },
     "output_type": "display_data"
    }
   ],
   "source": [
    "acc = history.history['accuracy']\n",
    "val_acc = history.history['val_accuracy']\n",
    "\n",
    "loss = history.history['loss']\n",
    "val_loss = history.history['val_loss']\n",
    "\n",
    "plt.figure(figsize=(8, 8))\n",
    "plt.subplot(2, 1, 1)\n",
    "plt.plot(acc, label='Training Accuracy')\n",
    "plt.plot(val_acc, label='Validation Accuracy')\n",
    "plt.legend(loc='lower right')\n",
    "plt.ylabel('Accuracy')\n",
    "plt.ylim([min(plt.ylim()),1])\n",
    "plt.title('Training and Validation Accuracy')\n",
    "\n",
    "plt.subplot(2, 1, 2)\n",
    "plt.plot(loss, label='Training Loss')\n",
    "plt.plot(val_loss, label='Validation Loss')\n",
    "plt.legend(loc='upper right')\n",
    "plt.ylabel('Cross Entropy')\n",
    "plt.ylim([0,1.0])\n",
    "plt.title('Training and Validation Loss')\n",
    "plt.xlabel('epoch')\n",
    "plt.show()"
   ]
  },
  {
   "cell_type": "markdown",
   "metadata": {},
   "source": [
    "## Bestimmen der Klasse eines Bildes mithilfe des trainerten Modells"
   ]
  },
  {
   "cell_type": "code",
   "execution_count": 34,
   "metadata": {},
   "outputs": [
    {
     "data": {
      "text/plain": [
       "array([[5.68739313e-04, 9.99417901e-01, 1.33421645e-05]], dtype=float32)"
      ]
     },
     "execution_count": 34,
     "metadata": {},
     "output_type": "execute_result"
    }
   ],
   "source": [
    "import cv2\n",
    "import numpy as np\n",
    "def load(filename):\n",
    "   np_image = cv2.imread(filename)\n",
    "   np_image = cv2.resize(np_image, (150, 150))\n",
    "   np_image = np.expand_dims(np_image, axis=0)\n",
    "   return np_image\n",
    "\n",
    "image = load('weiss.JPG')\n",
    "#0: Dosenoeffner   1:Flaschenoeffner   2:Korkenzieher\n",
    "model.predict(image)"
   ]
  }
 ],
 "metadata": {
  "interpreter": {
   "hash": "f0f9091a0a28f68c4dbc935a52f2f44d4866d209e20662b3f6a9f2abfaf89b83"
  },
  "kernelspec": {
   "display_name": "Python 3.8.8 64-bit ('tens': venv)",
   "language": "python",
   "name": "python3"
  },
  "language_info": {
   "codemirror_mode": {
    "name": "ipython",
    "version": 3
   },
   "file_extension": ".py",
   "mimetype": "text/x-python",
   "name": "python",
   "nbconvert_exporter": "python",
   "pygments_lexer": "ipython3",
   "version": "3.8.8"
  },
  "orig_nbformat": 4
 },
 "nbformat": 4,
 "nbformat_minor": 2
}
