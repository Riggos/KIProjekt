{
 "cells": [
  {
   "cell_type": "code",
   "execution_count": null,
   "metadata": {},
   "outputs": [],
   "source": [
    "# import the necessary packages\n",
    "import cv2\n",
    "class SimplePreprocessor:\n",
    "\tdef __init__(self, width, height, inter=cv2.INTER_AREA):\n",
    "\t\t# store the target image width, height, and interpolation\n",
    "\t\t# method used when resizing\n",
    "\t\tself.width = width\n",
    "\t\tself.height = height\n",
    "\t\tself.inter = inter\n",
    "\tdef preprocess(self, image):\n",
    "\t\t# resize the image to a fixed size, igndfdoring the aspect\n",
    "\t\t# ratio\n",
    "\t\treturn cv2.resize(image, (self.width, self.height),\n",
    "\t\t\tinterpolation=self.inter)"
   ]
  },
  {
   "cell_type": "code",
   "execution_count": 1,
   "metadata": {},
   "outputs": [],
   "source": [
    "import numpy as np\n",
    "import cv2\n",
    "import os\n",
    "class SimpleDatasetLoader:\n",
    "    def __init__(self, preprocessors=None):\n",
    "        # store the image preprocessor\n",
    "        self.preprocessors = preprocessors\n",
    "        # if the preprocessors are None, initialize them as an\n",
    "        # empty list\n",
    "        if self.preprocessors is None:\n",
    "            self.preprocessors = []\n",
    "\n",
    "    def load(self, imagePaths, verbose=-1):\n",
    "            # initialize the list of features and labels\n",
    "            data = []\n",
    "            labels = []\n",
    "            # loop over the input images\n",
    "            for (i, imagePath) in enumerate(imagePaths):\n",
    "                # load the image and extract the class label assuming\n",
    "                # that our path has the following format:\n",
    "                # /path/to/dataset/{class}/{image}.jpg\n",
    "                image = cv2.imread(imagePath)\n",
    "                label = imagePath.split(os.path.sep)[-2]\n",
    "\n",
    "                # check to see if our preprocessors are not None\n",
    "                if self.preprocessors is not None:\n",
    "                    # loop over the preprocessors and apply each to\n",
    "                    # the image\n",
    "                    for p in self.preprocessors:\n",
    "                        image = p.preprocess(image)\n",
    "                # treat our processed image as a \"feature vector\"\n",
    "                # by updating the data list followed by the labels\n",
    "                data.append(image)\n",
    "                labels.append(label)\n",
    "                # show an update every `verbose` images\n",
    "                if verbose > 0 and i > 0 and (i + 1) % verbose == 0:\n",
    "                    print(\"[INFO] processed {}/{}\".format(i + 1,\n",
    "                        len(imagePaths)))\n",
    "            # return a tuple of the data and labels\n",
    "            return (np.array(data), np.array(labels))"
   ]
  },
  {
   "cell_type": "code",
   "execution_count": 5,
   "metadata": {},
   "outputs": [],
   "source": [
    "import numpy as np\n",
    "import cv2 as cv\n",
    "filename = 'foe.jpeg'\n",
    "img = cv.imread(filename)\n",
    "gray = cv.cvtColor(img,cv.COLOR_BGR2GRAY)\n",
    "gray = np.float32(gray)\n",
    "dst = cv.cornerHarris(gray,2,3,0.04)\n",
    "#result is dilated for marking the corners, not important\n",
    "dst = cv.dilate(dst,None)\n",
    "# Threshold for an optimal value, it may vary depending on the image.\n",
    "img[dst>0.01*dst.max()]=[0,0,255]\n",
    "cv.imshow('dst',img)\n",
    "if cv.waitKey(0) & 0xff == 27:\n",
    "    cv.destroyAllWindows()"
   ]
  },
  {
   "cell_type": "code",
   "execution_count": null,
   "metadata": {},
   "outputs": [],
   "source": []
  }
 ],
 "metadata": {
  "interpreter": {
   "hash": "f0f9091a0a28f68c4dbc935a52f2f44d4866d209e20662b3f6a9f2abfaf89b83"
  },
  "kernelspec": {
   "display_name": "Python 3.8.8 64-bit ('tens': venv)",
   "language": "python",
   "name": "python3"
  },
  "language_info": {
   "codemirror_mode": {
    "name": "ipython",
    "version": 3
   },
   "file_extension": ".py",
   "mimetype": "text/x-python",
   "name": "python",
   "nbconvert_exporter": "python",
   "pygments_lexer": "ipython3",
   "version": "3.8.8"
  },
  "orig_nbformat": 4
 },
 "nbformat": 4,
 "nbformat_minor": 2
}
